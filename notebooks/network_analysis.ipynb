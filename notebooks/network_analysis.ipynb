{
 "cells": [
  {
   "cell_type": "markdown",
   "id": "e9c05131-c6ae-4dd7-acea-1300a28dbdaa",
   "metadata": {},
   "source": [
    "# Network Analysis"
   ]
  },
  {
   "cell_type": "code",
   "execution_count": null,
   "id": "7bc637e3-f121-45d5-898f-ad7de817ae5e",
   "metadata": {},
   "outputs": [],
   "source": [
    "import sys\n",
    "import numpy as np\n",
    "import tabulate\n",
    "import time\n",
    "import copy\n",
    "\n",
    "import logging\n",
    "\n",
    "from sklearn.datasets import make_sparse_spd_matrix\n",
    "import matplotlib.pyplot as plt\n",
    "import os\n",
    "import sys\n",
    "import re\n",
    "import glob\n",
    "import ast\n",
    "import os.path as op\n",
    "import pickle\n",
    "import scipy\n",
    "import numpy as np\n",
    "import pandas as pd \n",
    "import seaborn as sns\n",
    "import matplotlib.pyplot as plt\n",
    "import scipy as sp\n",
    "\n",
    "from collections import defaultdict\n",
    "\n",
    "from copy import deepcopy\n",
    "import copy\n",
    "\n",
    "from sklearn.model_selection import train_test_split\n",
    "from sklearn.pipeline import Pipeline\n",
    "from sklearn.model_selection import KFold\n",
    "from sklearn.pipeline import Pipeline\n",
    "from sklearn.preprocessing import StandardScaler\n",
    "from sklearn.decomposition import PCA, FastICA\n",
    "from sklearn.utils import resample\n",
    "from sklearn.covariance import GraphicalLassoCV\n",
    "from sklearn.metrics.pairwise import cosine_similarity\n",
    "from sklearn.linear_model import LinearRegression\n",
    "\n",
    "from itertools import combinations\n",
    "from scipy.stats import ttest_ind\n",
    "\n",
    "import scipy.stats as stats\n",
    "\n",
    "import networkx as nx\n",
    "import glob, os\n",
    "from functools import partial\n",
    "\n",
    "from scipy.stats import pearsonr\n",
    "\n",
    "import pickle\n",
    "\n",
    "import warnings\n",
    "warnings.filterwarnings(\"ignore\")"
   ]
  },
  {
   "cell_type": "markdown",
   "id": "0ff32980-b365-4782-b6d2-e010414e1be3",
   "metadata": {
    "tags": []
   },
   "source": [
    "## Load data"
   ]
  },
  {
   "cell_type": "code",
   "execution_count": null,
   "id": "7742e150-1148-4522-a794-73a2c95ce76a",
   "metadata": {},
   "outputs": [],
   "source": [
    "dataset = 'train'\n",
    "test = False if dataset == 'train' else False"
   ]
  },
  {
   "cell_type": "markdown",
   "id": "35f14adf-1240-43cd-9ad5-ee0e6c00aedf",
   "metadata": {},
   "source": [
    "Load training data"
   ]
  },
  {
   "cell_type": "code",
   "execution_count": null,
   "id": "3a1140d5-73b3-4ab7-970d-a557965efd98",
   "metadata": {},
   "outputs": [],
   "source": [
    "results_ern_df = pd.read_pickle(f\"../data/models_pickles_new_dass/ern_models_{dataset}.pkl\")\n",
    "results_ern_lat_demo_df = pd.read_pickle(f\"../data/models_pickles_new_dass/ern_cov_fal_models_{dataset}.pkl\")\n",
    "results_crn_df = pd.read_pickle(f\"../data/models_pickles_new_dass/crn_models_{dataset}.pkl\")\n",
    "results_crn_lat_demo_df = pd.read_pickle(f\"../data/models_pickles_new_dass/crn_cov_fal2_models_{dataset}.pkl\")"
   ]
  },
  {
   "cell_type": "markdown",
   "id": "95539dd6-fac6-478b-9c48-a5537091bb9b",
   "metadata": {},
   "source": [
    "Load testing data"
   ]
  },
  {
   "cell_type": "code",
   "execution_count": null,
   "id": "7c0f7103-f837-4002-b4d2-4f9cf0745729",
   "metadata": {},
   "outputs": [],
   "source": [
    "results_ern_test_df = pd.read_pickle(f\"../data/models_pickles_new_dass/ern_models_test.pkl\")\n",
    "results_ern_lat_demo_test_df = pd.read_pickle(f\"../data/models_pickles_new_dass/ern_cov_fal_models_test.pkl\")\n",
    "results_crn_test_df = pd.read_pickle(f\"../data/models_pickles_new_dass/crn_models_test.pkl\")\n",
    "results_crn_lat_demo_test_df = pd.read_pickle(f\"../data/models_pickles_new_dass/crn_cov_fal2_models_test.pkl\")\n",
    "\n",
    "# fill nan\n",
    "results_crn_lat_demo_test_df['e_LT_F2_C'] = results_crn_lat_demo_test_df['e_LT_F2_C'].fillna(results_crn_lat_demo_test_df['e_LT_F2_C'].mean())"
   ]
  },
  {
   "cell_type": "markdown",
   "id": "bfd6d21c-4a45-4831-9b9f-9a8b6f3516ec",
   "metadata": {},
   "source": [
    "Define names mapping and order"
   ]
  },
  {
   "cell_type": "code",
   "execution_count": null,
   "id": "e961c075-4d1b-40ea-9b51-2b2d231c9a6c",
   "metadata": {},
   "outputs": [],
   "source": [
    "mapping = {\n",
    "    \"RRQ\": \"1Q\",\n",
    "    \"DASS-21 Stress\": \"2Q\",\n",
    "    \"DASS-21 Dep\": \"3Q\",\n",
    "    \"STAI-T\": \"4Q\",\n",
    "    \"STAI-S Diff\": '5Q',\n",
    "    \"BIS\": \"6Q\",\n",
    "    \"OBSESS\": \"7Q\",\n",
    "    \"HOARD\": \"8Q\",\n",
    "    \"ORD\": \"9Q\",\n",
    "    \"CHECK\": \"10Q\",\n",
    "    \"WBSI\": \"11Q\",\n",
    "    \"IUS-P\": \"12Q\",\n",
    "    \"IUS-I\": \"13Q\",\n",
    "    \"SES\": \"14Q\",\n",
    "    'BAS_D': \"15Q\",\n",
    "    'BAS_PRZY': \"16Q\",\n",
    "    'BAS_NAG': \"17Q\",\n",
    "    'INDEC_F': \"18Q\",\n",
    "    'PUN': \"19Q\",\n",
    "    'REW': \"20Q\",\n",
    "    'HARM': \"21Q\",\n",
    "    'T-CTR': \"22Q\",\n",
    "    \"OT\": \"23Q\",\n",
    "    'OB_PERF': \"24Q\",\n",
    "    'PS': \"25Q\",\n",
    "    'G_SE': \"26Q\",\n",
    "    'AMB': \"27Q\",\n",
    "    'PRED': \"28Q\",\n",
    "    'STAND': \"29Q\",   \n",
    "    \"Age\": \"1C\",\n",
    "    \"Handness\": \"2C\",\n",
    "    'e_ERN': \"1E\",\n",
    "    'e_LT_F': \"4C\",\n",
    "    'performance': \"3C\",\n",
    "    'e_CRN': \"2E\",\n",
    "    'e_LT_F2_C': \"4C\",\n",
    "    'performance': \"3C\",\n",
    "}\n",
    "\n",
    "mapping_order = {\n",
    "    '1E': 0,\n",
    "    '2E': 1,\n",
    "    '1Q':2,\n",
    "    '2Q':3,\n",
    "    '3Q':4,\n",
    "    '4Q':5,\n",
    "    '5Q':6,\n",
    "    '6Q':7,\n",
    "    '7Q':8,\n",
    "    '8Q':9,\n",
    "    '9Q':10,\n",
    "    '10Q':11,\n",
    "    '11Q':12,\n",
    "    '12Q':13,\n",
    "    '13Q':14,\n",
    "    '14Q':15,\n",
    "    '15Q':16,\n",
    "    '16Q':17,\n",
    "    '17Q':18,\n",
    "    '18Q':19,\n",
    "    '19Q':20,\n",
    "    '20Q':21,\n",
    "    '21Q':22,\n",
    "    '22Q':23,\n",
    "    '23Q':24,\n",
    "    '24Q':25,\n",
    "    '25Q':26,\n",
    "    '26Q':27,\n",
    "    '27Q':28,\n",
    "    '28Q':29,\n",
    "    '29Q':30,\n",
    "    '1C':31,\n",
    "    '2C':32,\n",
    "    '3C':33,\n",
    "    '4C':34,   \n",
    "}"
   ]
  },
  {
   "cell_type": "markdown",
   "id": "ffac5a4a-f04d-4799-a564-1ef9bc5f8340",
   "metadata": {},
   "source": [
    "Prepare datasets"
   ]
  },
  {
   "cell_type": "code",
   "execution_count": null,
   "id": "004b716d-79df-4f10-91ff-0a43a9b87768",
   "metadata": {},
   "outputs": [],
   "source": [
    "columns_to_drop_covs = ['WASH', 'NEU', 'Sex']\n",
    "columns_to_drop = ['WASH', 'NEU']\n",
    "\n",
    "# train dataset\n",
    "ern_data_df_ = results_ern_df.drop(columns=columns_to_drop).rename(columns=mapping)\n",
    "ern_cov_fal_data_df_ = results_ern_lat_demo_df.drop(columns=columns_to_drop_covs).rename(columns=mapping)\n",
    "crn_data_df_ = results_crn_df.drop(columns=columns_to_drop).rename(columns=mapping)\n",
    "crn_cov_fal2_data_df_ = results_crn_lat_demo_df.drop(columns=columns_to_drop_covs).rename(columns=mapping)\n",
    "\n",
    "ern_data_df_diff_ = ern_data_df_\n",
    "ern_cov_fal_data_df_diff_ = ern_cov_fal_data_df_\n",
    "\n",
    "# test dataset\n",
    "ern_data_df_test_ = results_ern_test_df.drop(columns=columns_to_drop).rename(columns=mapping)\n",
    "ern_cov_fal_data_df_test_ = results_ern_lat_demo_test_df.drop(columns=columns_to_drop_covs).rename(columns=mapping)\n",
    "crn_data_df_test_ = results_crn_test_df.drop(columns=columns_to_drop).rename(columns=mapping)\n",
    "crn_cov_fal2_data_df_test_ = results_crn_lat_demo_test_df.drop(columns=columns_to_drop_covs).rename(columns=mapping)\n",
    "\n",
    "ern_data_df_diff_test_ = ern_data_df_test_\n",
    "ern_cov_fal_data_df_diff_test_ = ern_cov_fal_data_df_test_\n",
    "\n",
    "\n",
    "datasets_train = [ern_data_df_, ern_cov_fal_data_df_, crn_data_df_, crn_cov_fal2_data_df_, ern_data_df_diff_, ern_cov_fal_data_df_diff_]\n",
    "datasets_test = [ern_data_df_test_, ern_cov_fal_data_df_test_, crn_data_df_test_, crn_cov_fal2_data_df_test_, ern_data_df_diff_test_, ern_cov_fal_data_df_diff_test_]"
   ]
  },
  {
   "cell_type": "markdown",
   "id": "fe6ae132-34c1-407d-83b3-466c617c10b4",
   "metadata": {},
   "source": [
    "### Read estimated graphs"
   ]
  },
  {
   "cell_type": "code",
   "execution_count": null,
   "id": "396410f6-aec9-4344-beb2-c0f36b3064e2",
   "metadata": {},
   "outputs": [],
   "source": [
    "dir_ = f\"../data/graphs/{dataset}/\"\n",
    "\n",
    "graphs = []\n",
    "\n",
    "for file in sorted(glob.glob(dir_ + \"*.gml\")):\n",
    "    print(file)\n",
    "    graph = nx.read_gml(file)\n",
    "    graphs.append(graph)\n",
    "    \n",
    "graphs"
   ]
  },
  {
   "cell_type": "markdown",
   "id": "ac606ccb-4a5e-40d4-b77b-b8a0dd50c947",
   "metadata": {},
   "source": [
    "## Network analysis"
   ]
  },
  {
   "cell_type": "markdown",
   "id": "94e63a6a-2444-424b-af9a-b247008d5238",
   "metadata": {},
   "source": [
    "### Define custom network measures "
   ]
  },
  {
   "cell_type": "code",
   "execution_count": null,
   "id": "0fde41e6-f852-4f70-8aa7-3ce5f74e8fa0",
   "metadata": {},
   "outputs": [],
   "source": [
    "def calculate_nodes_predictability(X, G):\n",
    "    explained_variance = dict()\n",
    "        \n",
    "    for node in G.nodes():\n",
    "        y_ = X[[node]]\n",
    "\n",
    "        neighbors = list(G.neighbors(node))\n",
    "\n",
    "        X_ = X.loc[:, neighbors]\n",
    "\n",
    "        lm = LinearRegression()\n",
    "        lm.fit(X_, y_)\n",
    "\n",
    "        score = lm.score(X_,y_)\n",
    "        explained_variance[node] = score\n",
    "\n",
    "    return explained_variance"
   ]
  },
  {
   "cell_type": "code",
   "execution_count": null,
   "id": "037ff255-969b-41a8-8942-a8371e61f839",
   "metadata": {},
   "outputs": [],
   "source": [
    "def current_flow_closeness_centrality(G, weight):\n",
    "    G_ = copy.deepcopy(G.copy())\n",
    "    for u, v, data in G_.edges(data=True):\n",
    "        data['weight'] = abs(data['weight'])\n",
    "        \n",
    "    measure = nx.current_flow_closeness_centrality(G_, weight=weight)\n",
    "    return measure"
   ]
  },
  {
   "cell_type": "markdown",
   "id": "d0628906-0f83-4314-9e54-44b29d0ae970",
   "metadata": {},
   "source": [
    "### Perform network analysis"
   ]
  },
  {
   "cell_type": "code",
   "execution_count": null,
   "id": "ad367472-53ce-447d-bc2c-7dd2b4ba8f0f",
   "metadata": {},
   "outputs": [],
   "source": [
    "network_analysis_results_df = pd.DataFrame()\n",
    "\n",
    "for i in range(0,6):\n",
    "    G = copy.deepcopy(graphs[i])\n",
    "    dataset_train = datasets_train[i]\n",
    "    dataset_test = datasets_test[i]\n",
    "\n",
    "    measures = [\n",
    "            (calculate_nodes_predictability, {'X': dataset_test}), \n",
    "            (nx.degree_centrality, {}),\n",
    "            (nx.closeness_centrality, {}),\n",
    "            (current_flow_closeness_centrality, {'weight': 'weight'}),\n",
    "            (nx.betweenness_centrality, {'weight': 'weight'}),\n",
    "            (nx.current_flow_betweenness_centrality, {'weight': 'weight'}),\n",
    "            (nx.load_centrality, {})\n",
    "    ]\n",
    "    \n",
    "    for measure, measure_parameters in measures:\n",
    "        G = copy.deepcopy(graphs[i])\n",
    "        network_measure = measure(G = G, **measure_parameters)\n",
    "        network_measure = {k: v for k, v in sorted(network_measure.items(), key=lambda item: item[0], reverse=True)}\n",
    "        network_measure_nodes = network_measure.keys()\n",
    "        network_measure_values = network_measure.values()\n",
    "        network_measure_df = pd.DataFrame({\n",
    "            'node': network_measure_nodes,\n",
    "            'value' : network_measure_values,\n",
    "            'graph' : [i] * len(network_measure_nodes),\n",
    "            'measure' : [measure.__name__] * len(network_measure_nodes),\n",
    "        })\n",
    "        network_analysis_results_df = pd.concat([network_analysis_results_df, network_measure_df], ignore_index = True)"
   ]
  },
  {
   "cell_type": "code",
   "execution_count": null,
   "id": "2ff9b10f-214b-46e9-8709-320bbdd29606",
   "metadata": {},
   "outputs": [],
   "source": [
    "with pd.option_context('display.max_colwidth', None, 'display.max_columns', None,  'display.max_rows', None,):\n",
    "    display(network_analysis_results_df.groupby(['graph', 'measure']).apply(lambda a: a.drop(['graph', 'measure'], axis=1)[:]))"
   ]
  },
  {
   "cell_type": "markdown",
   "id": "8071b93e-a147-442e-9ebe-23c25b261136",
   "metadata": {},
   "source": [
    "Save the results"
   ]
  },
  {
   "cell_type": "code",
   "execution_count": null,
   "id": "bc693690-0a6f-4ef3-8812-af6f9c334703",
   "metadata": {},
   "outputs": [],
   "source": [
    "network_analysis_results_df.to_pickle('../data/network_analysis/base_estimates/network_analysis_results_with_diff_graphs.pkl')\n",
    "network_analysis_results_df.to_csv('../data/network_analysis/base_estimates/network_analysis_results_with_diff_graphs.csv')"
   ]
  },
  {
   "cell_type": "markdown",
   "id": "57f826b6-4418-47a2-bfac-f40788a8b1cd",
   "metadata": {},
   "source": [
    "Save the results in pleasant form"
   ]
  },
  {
   "cell_type": "code",
   "execution_count": null,
   "id": "df994533-210f-4ee7-9d5e-774f3ee322a6",
   "metadata": {},
   "outputs": [],
   "source": [
    "network_analysis_results_df = pd.read_pickle('../data/network_analysis/base_estimates/network_analysis_results_with_diff_graphs.pkl')\n",
    "network_analysis_results_df.head()"
   ]
  },
  {
   "cell_type": "code",
   "execution_count": null,
   "id": "eae952fc-4cd5-4ba4-abb2-793c9eede473",
   "metadata": {},
   "outputs": [],
   "source": [
    "df = network_analysis_results_df.copy()\n",
    "df = df[df['measure'].isin(['calculate_nodes_predictability', 'degree_centrality', 'current_flow_closeness_centrality'])]\n",
    "\n",
    "df['node'] = df['node'].replace(mapping)\n",
    "df = df.sort_values(by=['node'], key=lambda x: x.map(mapping_order))\n",
    "df = df.pivot_table(index='node', columns=['graph', 'measure'])\n",
    "df = df.sort_values(by=['node'], key=lambda x: x.map(mapping_order))\n",
    "\n",
    "# reorder and rename network measures\n",
    "net_colums_names_mapper = {\n",
    "    'calculate_nodes_predictability' : 'P',\n",
    "    'current_flow_closeness_centrality': 'C-F-C-C',\n",
    "    'degree_centrality' : 'D-C',    \n",
    "}\n",
    "\n",
    "df = df.rename(columns=net_colums_names_mapper)\n",
    "\n",
    "net_colums_names_order = ['P', 'D-C','C-F-C-C']\n",
    "new_cols = df.columns.reindex(net_colums_names_order, level=2)\n",
    "\n",
    "df = df.reindex(columns=new_cols[0])\n",
    "\n",
    "with pd.option_context(\n",
    "    'display.max_colwidth', None, \n",
    "    'display.max_columns', None,  \n",
    "    'display.max_rows', None, \n",
    "    'display.float_format', '{:.3f}'.format):\n",
    "    display(df)\n",
    "    \n",
    "df.to_csv('../data/network_analysis/base_estimates/network_analysis_results_with_diff_graphs_easy_view.csv')"
   ]
  },
  {
   "cell_type": "markdown",
   "id": "3d86653d-27a0-4908-b820-0428c961d54c",
   "metadata": {},
   "source": [
    "### Visualize the results"
   ]
  },
  {
   "cell_type": "code",
   "execution_count": null,
   "id": "cad0174a-a82c-4a4d-821d-2a1f068b9d8b",
   "metadata": {},
   "outputs": [],
   "source": [
    "cm = 1/2.54\n",
    "dpi = 500\n",
    "\n",
    "sns.set_style(\"whitegrid\")\n",
    "\n",
    "plt.rcParams['figure.dpi'] = dpi\n",
    "plt.rcParams['ytick.labelsize'] = 6\n",
    "plt.rcParams['xtick.labelsize'] = 6\n",
    "plt.rcParams['axes.labelsize'] = 6\n",
    "plt.rcParams['axes.titlesize'] = 6\n",
    "plt.rcParams[\"axes.edgecolor\"] = \".15\"\n",
    "plt.rcParams[\"axes.linewidth\"]  = 0.6\n",
    "plt.rcParams['lines.linewidth'] = 0.6\n",
    "\n",
    "for i in range(0,6):\n",
    "    plt.figure(i)\n",
    "\n",
    "    df = network_analysis_results_df.copy()\n",
    "    df = df[df['measure'].isin(['calculate_nodes_predictability', 'degree_centrality', 'current_flow_closeness_centrality'])]\n",
    "    df.node = df.node.astype(str)\n",
    "    df_ = df[df['graph'] == i]\n",
    "\n",
    "    df_['node'] = df_['node'].replace(mapping)\n",
    "    df_ = df_.sort_values(by=['node'], key=lambda x: x.map(mapping_order))\n",
    "\n",
    "    \n",
    "    g = sns.FacetGrid(\n",
    "        df_, \n",
    "        col='measure',\n",
    "        col_order=['calculate_nodes_predictability', 'degree_centrality', 'current_flow_closeness_centrality'],\n",
    "        sharex=False,\n",
    "        height=8*cm,\n",
    "        aspect=0.3,\n",
    "        despine=False,\n",
    "        gridspec_kws={\"wspace\":0.2}\n",
    "    )\n",
    "\n",
    "    g.map(\n",
    "        sns.pointplot, \n",
    "        'value',\n",
    "        'node',\n",
    "        errorbar=None,\n",
    "        color='black',\n",
    "    )\n",
    "\n",
    "    axes = g.axes.flatten()\n",
    "    axes[0].set_title(\"Predictability\")\n",
    "    axes[1].set_title(\"D-Centrality\")\n",
    "    axes[2].set_title(\"C-F Closeness\")\n",
    "    \n",
    "    g.set_axis_labels(x_var=\"\")\n",
    "\n",
    "    fig = g.fig\n",
    "    # fig.savefig(f'data/network_analysis/base_estimates/network_analysis_dpi_{dpi}_graph_{i}_abs.png', bbox_inches='tight')\n",
    "    \n",
    "plt.show()"
   ]
  }
 ],
 "metadata": {
  "kernelspec": {
   "display_name": "skggmtest",
   "language": "python",
   "name": "skggmtest"
  },
  "language_info": {
   "codemirror_mode": {
    "name": "ipython",
    "version": 3
   },
   "file_extension": ".py",
   "mimetype": "text/x-python",
   "name": "python",
   "nbconvert_exporter": "python",
   "pygments_lexer": "ipython3",
   "version": "3.8.10"
  }
 },
 "nbformat": 4,
 "nbformat_minor": 5
}
