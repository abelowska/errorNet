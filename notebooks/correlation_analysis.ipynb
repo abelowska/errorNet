{
 "cells": [
  {
   "cell_type": "markdown",
   "id": "327cb999-c1c8-409b-898b-059dceb574a0",
   "metadata": {},
   "source": [
    "# Correlation analysis"
   ]
  },
  {
   "cell_type": "code",
   "execution_count": null,
   "id": "2af9700a-54b4-4f13-b7af-c7a3ce952077",
   "metadata": {},
   "outputs": [],
   "source": [
    "import pickle\n",
    "import scipy\n",
    "import numpy as np\n",
    "import pandas as pd\n",
    "import seaborn as sns\n",
    "import matplotlib.pyplot as plt\n",
    "\n",
    "from scipy.stats import pearsonr\n",
    "from scipy.stats import ttest_ind\n",
    "from scipy.stats import ttest_rel\n",
    "\n",
    "import warnings\n",
    "warnings.filterwarnings(\"ignore\")\n",
    "\n",
    "import sys"
   ]
  },
  {
   "cell_type": "markdown",
   "id": "d2d0bcc3-87d4-4f28-934b-c61a94be1372",
   "metadata": {
    "tags": []
   },
   "source": [
    "## Load data"
   ]
  },
  {
   "cell_type": "code",
   "execution_count": null,
   "id": "692ec886-5894-4e06-a2c5-68f0465fac53",
   "metadata": {},
   "outputs": [],
   "source": [
    "dataset = 'test'\n",
    "test = False if dataset == 'train' else False"
   ]
  },
  {
   "cell_type": "markdown",
   "id": "7ce43f5e-eadb-4c7f-83f8-ac5f9b8de01f",
   "metadata": {},
   "source": [
    "Loading training data"
   ]
  },
  {
   "cell_type": "code",
   "execution_count": null,
   "id": "03c24eba-3155-4ba4-8d8e-8a2b8fe99626",
   "metadata": {},
   "outputs": [],
   "source": [
    "results_ern_lat_demo_df = pd.read_pickle(f\"../data/models_pickles_new_dass/ern_cov_fal_models_{dataset}.pkl\")\n",
    "results_crn_lat_demo_df = pd.read_pickle(f\"../data/models_pickles_new_dass/crn_cov_fal2_models_{dataset}.pkl\")\n",
    "\n",
    "train_datasets = [results_ern_lat_demo_df, results_crn_lat_demo_df]"
   ]
  },
  {
   "cell_type": "markdown",
   "id": "edc3f379-51ae-4293-a3de-6b6f9445f2fd",
   "metadata": {},
   "source": [
    "Loading testing data"
   ]
  },
  {
   "cell_type": "code",
   "execution_count": null,
   "id": "170f44e6-6f75-47b6-9340-69527ad26aad",
   "metadata": {},
   "outputs": [],
   "source": [
    "results_ern_lat_demo_test_df = pd.read_pickle(f\"../data/models_pickles_new_dass/ern_cov_fal_models_test.pkl\")\n",
    "results_crn_lat_demo_test_df = pd.read_pickle(f\"../data/models_pickles_new_dass/crn_cov_fal2_models_test.pkl\")\n",
    "\n",
    "# fill nan\n",
    "results_crn_lat_demo_test_df['e_LT_F2_C'] = results_crn_lat_demo_test_df['e_LT_F2_C'].fillna(results_crn_lat_demo_test_df['e_LT_F2_C'].mean())\n",
    "\n",
    "test_datasets = [results_ern_lat_demo_test_df, results_crn_lat_demo_test_df]"
   ]
  },
  {
   "cell_type": "markdown",
   "id": "3df2e48a-e537-417e-bfb1-9daef9bab0b5",
   "metadata": {},
   "source": [
    "### Create delta ERN - CRN measure"
   ]
  },
  {
   "cell_type": "code",
   "execution_count": null,
   "id": "296f5310-5cf5-481f-b75f-b00172d3e12a",
   "metadata": {},
   "outputs": [],
   "source": [
    "datasets = test_datasets if test else train_datasets\n",
    "\n",
    "ern_values = datasets[0]['e_ERN'].to_numpy()\n",
    "crn_values = datasets[1]['e_CRN'].to_numpy()\n",
    "\n",
    "ern_crn_diff_values = ern_values - crn_values\n",
    "ern_crn_diff_df = pd.DataFrame(ern_crn_diff_values.reshape(-1,1), columns=['ERN\\CRN delta'])\n",
    "\n",
    "# Add new column to dataset\n",
    "ern_delta_data_df = pd.concat([ern_crn_diff_df, datasets[0]], axis=1).drop(columns='e_ERN')\n",
    "\n",
    "datasets.append(ern_delta_data_df)"
   ]
  },
  {
   "cell_type": "markdown",
   "id": "4c4bb4a7-3df8-4fa6-8a5f-0b56a816fa14",
   "metadata": {},
   "source": [
    "Drop unnecessery columns"
   ]
  },
  {
   "cell_type": "code",
   "execution_count": null,
   "id": "2523069f-1916-4442-93d6-5278edbc943b",
   "metadata": {},
   "outputs": [],
   "source": [
    "datasets = [dataset.drop(columns=['Sex', 'WASH', 'NEU'])for dataset in datasets]"
   ]
  },
  {
   "cell_type": "markdown",
   "id": "0192a6e4-05bf-45ea-9b8b-a4bb519fbb53",
   "metadata": {},
   "source": [
    "## Create correlation tables"
   ]
  },
  {
   "cell_type": "code",
   "execution_count": null,
   "id": "b2a48dab-f437-4549-8ef3-d742f252aea3",
   "metadata": {},
   "outputs": [],
   "source": [
    "mapping = {\n",
    "    \"RRQ\": \"1Q\",\n",
    "    \"DASS-21 Stress\": \"2Q\",\n",
    "    \"DASS-21 Dep\": \"3Q\",\n",
    "    \"STAI-T\": \"4Q\",\n",
    "    \"STAI-S Diff\": '5Q',\n",
    "    \"BIS\": \"6Q\",\n",
    "    \"OBSESS\": \"7Q\",\n",
    "    \"HOARD\": \"8Q\",\n",
    "    \"ORD\": \"9Q\",\n",
    "    \"CHECK\": \"10Q\",\n",
    "    \"WBSI\": \"11Q\",\n",
    "    \"IUS-P\": \"12Q\",\n",
    "    \"IUS-I\": \"13Q\",\n",
    "    \"SES\": \"14Q\",\n",
    "    'BAS_D': \"15Q\",\n",
    "    'BAS_PRZY': \"16Q\",\n",
    "    'BAS_NAG': \"17Q\",\n",
    "    'INDEC_F': \"18Q\",\n",
    "    'PUN': \"19Q\",\n",
    "    'REW': \"20Q\",\n",
    "    'HARM': \"21Q\",\n",
    "    'T-CTR': \"22Q\",\n",
    "    \"OT\": \"23Q\",\n",
    "    'OB_PERF': \"24Q\",\n",
    "    'PS': \"25Q\",\n",
    "    'G_SE': \"26Q\",\n",
    "    'AMB': \"27Q\",\n",
    "    'PRED': \"28Q\",\n",
    "    'STAND': \"29Q\",   \n",
    "    \"Age\": \"1C\",\n",
    "    \"Handness\": \"2C\",\n",
    "    'e_ERN': \"1E\",\n",
    "    'e_LT_F': \"4C\",\n",
    "    'performance': \"3C\",\n",
    "    'e_CRN': \"2E\",\n",
    "    'e_LT_F2_C': \"4C\",\n",
    "}"
   ]
  },
  {
   "cell_type": "code",
   "execution_count": null,
   "id": "0fa8338e-7976-4dbc-9cb8-a358c5a74655",
   "metadata": {},
   "outputs": [],
   "source": [
    "def corr_with_p(df):\n",
    "    df = df.rename(columns=mapping)\n",
    "    rho = df.corr()\n",
    "    pval = df.corr(method=lambda x, y: pearsonr(x, y)[1]) - np.eye(*rho.shape)\n",
    "    p = pval.applymap(lambda x: ''.join(['*' for t in [0.01,0.05,0.1] if x<=t]))\n",
    "    return rho.round(2).astype(str) + p, rho"
   ]
  },
  {
   "cell_type": "code",
   "execution_count": null,
   "id": "ae93e235-eda7-42db-af11-e531c8159c8c",
   "metadata": {},
   "outputs": [],
   "source": [
    "corr_p_tables = []\n",
    "\n",
    "for index, this_dataset in enumerate(datasets):\n",
    "    print(index)\n",
    "    corr_p, corr = corr_with_p(this_dataset)\n",
    "    corr_p.to_csv(f'../data/correlation_matrixes/{dataset}/correlation_matrix_{index}.csv')\n",
    "    display(corr_p)"
   ]
  },
  {
   "cell_type": "code",
   "execution_count": null,
   "id": "27c843b8-e450-44d7-b42d-84fc38a394b0",
   "metadata": {},
   "outputs": [],
   "source": []
  }
 ],
 "metadata": {
  "kernelspec": {
   "display_name": "net",
   "language": "python",
   "name": "net"
  },
  "language_info": {
   "codemirror_mode": {
    "name": "ipython",
    "version": 3
   },
   "file_extension": ".py",
   "mimetype": "text/x-python",
   "name": "python",
   "nbconvert_exporter": "python",
   "pygments_lexer": "ipython3",
   "version": "3.8.10"
  }
 },
 "nbformat": 4,
 "nbformat_minor": 5
}
