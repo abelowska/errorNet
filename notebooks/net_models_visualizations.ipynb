{
 "cells": [
  {
   "cell_type": "markdown",
   "id": "40a73099-38c1-4bf0-afd3-5481df7c3d19",
   "metadata": {},
   "source": [
    "# Visualization of networks\n",
    "The visualization is based on the precision matrices"
   ]
  },
  {
   "cell_type": "markdown",
   "id": "d8ff9f56-5483-44c7-b9cc-486a31838279",
   "metadata": {
    "tags": []
   },
   "source": [
    "### Imports"
   ]
  },
  {
   "cell_type": "code",
   "execution_count": null,
   "id": "e9e84d26-b32c-41ae-b3f4-81e0ee55156b",
   "metadata": {
    "tags": []
   },
   "outputs": [],
   "source": [
    "import os\n",
    "import sys\n",
    "import re\n",
    "import glob\n",
    "import ast\n",
    "import os.path as op\n",
    "import pickle\n",
    "import numpy as np\n",
    "import pandas as pd \n",
    "import seaborn as sns\n",
    "import matplotlib.pyplot as plt\n",
    "import networkx as nx\n",
    "import scipy as sp\n",
    "\n",
    "from copy import deepcopy\n",
    "import copy\n",
    "import matplotlib.pyplot as plt\n",
    "\n",
    "import utils"
   ]
  },
  {
   "cell_type": "markdown",
   "id": "59c69899-6a32-4418-9079-8bd66aed497f",
   "metadata": {
    "tags": []
   },
   "source": [
    "## Load data"
   ]
  },
  {
   "cell_type": "code",
   "execution_count": null,
   "id": "96963f4b-8d35-4c4f-b5ad-231ab81054c1",
   "metadata": {},
   "outputs": [],
   "source": [
    "dataset = 'train'\n",
    "test = False if dataset == 'train' else False"
   ]
  },
  {
   "cell_type": "markdown",
   "id": "5e0b5db3-e268-49cd-9dbd-2416d6351684",
   "metadata": {},
   "source": [
    "Loading training data"
   ]
  },
  {
   "cell_type": "code",
   "execution_count": null,
   "id": "91ee1774-3921-4caa-822d-6061181e5aeb",
   "metadata": {},
   "outputs": [],
   "source": [
    "results_ern_df = pd.read_pickle(f\"../data/models_pickles_new_dass/ern_models_{dataset}.pkl\")\n",
    "results_ern_lat_demo_df = pd.read_pickle(f\"../data/models_pickles_new_dass/ern_cov_fal_models_{dataset}.pkl\")\n",
    "results_crn_df = pd.read_pickle(f\"../data/models_pickles_new_dass/crn_models_{dataset}.pkl\")\n",
    "results_crn_lat_demo_df = pd.read_pickle(f\"../data/models_pickles_new_dass/crn_cov_fal2_models_{dataset}.pkl\")\n",
    "\n",
    "train_datasets = [results_ern_df, results_ern_lat_demo_df, results_crn_df, results_crn_lat_demo_df]"
   ]
  },
  {
   "cell_type": "markdown",
   "id": "3b409a76-eace-4f44-acd6-5ee87f14814e",
   "metadata": {},
   "source": [
    "Loading testing data"
   ]
  },
  {
   "cell_type": "code",
   "execution_count": null,
   "id": "198b2f58-1937-40e7-8e21-c1fb3bcb1fb7",
   "metadata": {},
   "outputs": [],
   "source": [
    "results_ern_test_df = pd.read_pickle(f\"../data/models_pickles_new_dass/ern_models_test.pkl\")\n",
    "results_ern_lat_demo_test_df = pd.read_pickle(f\"../data/models_pickles_new_dass/ern_cov_fal_models_test.pkl\")\n",
    "results_crn_test_df = pd.read_pickle(f\"../data/models_pickles_new_dass/crn_models_test.pkl\")\n",
    "results_crn_lat_demo_test_df = pd.read_pickle(f\"../data/models_pickles_new_dass/crn_cov_fal2_models_test.pkl\")\n",
    "\n",
    "# fill nan\n",
    "results_crn_lat_demo_test_df['e_LT_F2_C'] = results_crn_lat_demo_test_df['e_LT_F2_C'].fillna(results_crn_lat_demo_test_df['e_LT_F2_C'].mean())\n",
    "\n",
    "test_datasets = [results_ern_test_df, results_ern_lat_demo_test_df, results_crn_test_df, results_crn_lat_demo_test_df]"
   ]
  },
  {
   "cell_type": "markdown",
   "id": "63589ba3-ed10-4e49-9850-cc6c6e384ca0",
   "metadata": {},
   "source": [
    "Loading precision matrixes"
   ]
  },
  {
   "cell_type": "code",
   "execution_count": null,
   "id": "6b69a2b1-f293-4ffc-a72b-c19728d653b4",
   "metadata": {},
   "outputs": [],
   "source": [
    "ern_model_df = pd.read_pickle(f'../data/precision_matrixes/{dataset}/precision_matrix_0_ntrials_1000_sklearn_cv3_th0.65_without_skewd.pkl')\n",
    "ern_cov_model_df = pd.read_pickle(f'../data/precision_matrixes/{dataset}/precision_matrix_1_ntrials_1000_sklearn_cv3_th0.65_without_skewd_no_sex.pkl')\n",
    "crn_model_df = pd.read_pickle(f'../data/precision_matrixes/{dataset}/precision_matrix_2_ntrials_1000_sklearn_cv3_th0.65_without_skewd.pkl')\n",
    "crn_cov_model_df = pd.read_pickle(f'../data/precision_matrixes/{dataset}/precision_matrix_3_ntrials_1000_sklearn_cv3_th0.65_without_skewd_no_sex.pkl')\n",
    "\n",
    "precision_matrixes = [\n",
    "    ern_model_df,\n",
    "    ern_cov_model_df,\n",
    "    crn_model_df,\n",
    "    crn_cov_model_df,\n",
    "]"
   ]
  },
  {
   "cell_type": "markdown",
   "id": "bd35ab25-6a5f-4ec1-9cdd-a5582478e962",
   "metadata": {},
   "source": [
    "### Visualize precision matrixes"
   ]
  },
  {
   "cell_type": "code",
   "execution_count": null,
   "id": "d0c6b62d-7a2d-429a-b79f-db7e57a2a40d",
   "metadata": {},
   "outputs": [],
   "source": [
    "mapping = {\n",
    "    \"RRQ\": \"1Q\",\n",
    "    \"DASS-21 Stress\": \"2Q\",\n",
    "    \"DASS-21 Dep\": \"3Q\",\n",
    "    \"STAI-T\": \"4Q\",\n",
    "    \"STAI-S Diff\": '5Q',\n",
    "    \"BIS\": \"6Q\",\n",
    "    \"OBSESS\": \"7Q\",\n",
    "    \"HOARD\": \"8Q\",\n",
    "    \"ORD\": \"9Q\",\n",
    "    \"CHECK\": \"10Q\",\n",
    "    \"WBSI\": \"11Q\",\n",
    "    \"IUS-P\": \"12Q\",\n",
    "    \"IUS-I\": \"13Q\",\n",
    "    \"SES\": \"14Q\",\n",
    "    'BAS_D': \"15Q\",\n",
    "    'BAS_PRZY': \"16Q\",\n",
    "    'BAS_NAG': \"17Q\",\n",
    "    'INDEC_F': \"18Q\",\n",
    "    'PUN': \"19Q\",\n",
    "    'REW': \"20Q\",\n",
    "    'HARM': \"21Q\",\n",
    "    'T-CTR': \"22Q\",\n",
    "    \"OT\": \"23Q\",\n",
    "    'OB_PERF': \"24Q\",\n",
    "    'PS': \"25Q\",\n",
    "    'G_SE': \"26Q\",\n",
    "    'AMB': \"27Q\",\n",
    "    'PRED': \"28Q\",\n",
    "    'STAND': \"29Q\",   \n",
    "    \"Age\": \"1C\",\n",
    "    \"Handness\": \"2C\",\n",
    "    'e_ERN': \"1E\",\n",
    "    'e_LT_F': \"4C\",\n",
    "    'performance': \"3C\",\n",
    "    'e_CRN': \"2E\",\n",
    "    'e_LT_F2_C': \"4C\",\n",
    "    'performance': \"3C\",\n",
    "}\n",
    "\n",
    "ern_order = ['1E', '1Q', '2Q', '3Q', '4Q', '5Q', '6Q', '7Q', '8Q', '9Q', '10Q', '11Q', '12Q', '13Q', '14Q', '15Q', '16Q', '17Q', '18Q', '19Q', '20Q', '21Q', '22Q', '23Q', '24Q', '25Q', '26Q', '27Q', '28Q', '29Q',]\n",
    "ern_cov_order = ['1E', '1Q', '2Q', '3Q', '4Q', '5Q', '6Q', '7Q', '8Q', '9Q', '10Q', '11Q', '12Q', '13Q', '14Q', '15Q', '16Q', '17Q', '18Q', '19Q', '20Q', '21Q', '22Q', '23Q', '24Q', '25Q', '26Q', '27Q', '28Q', '29Q', '1C', '2C', '3C', '4C']\n",
    "crn_order = ['2E', '1Q', '2Q', '3Q', '4Q', '5Q', '6Q', '7Q', '8Q', '9Q', '10Q', '11Q', '12Q', '13Q', '14Q', '15Q', '16Q', '17Q', '18Q', '19Q', '20Q', '21Q', '22Q', '23Q', '24Q', '25Q', '26Q', '27Q', '28Q', '29Q',]\n",
    "crn_cov_order = ['2E', '1Q', '2Q', '3Q', '4Q', '5Q', '6Q', '7Q', '8Q', '9Q', '10Q', '11Q', '12Q', '13Q', '14Q', '15Q', '16Q', '17Q', '18Q', '19Q', '20Q', '21Q', '22Q', '23Q', '24Q', '25Q', '26Q', '27Q', '28Q', '29Q', '1C', '2C', '3C', '4C']\n",
    "\n",
    "orders = [ern_order, ern_cov_order, crn_order, crn_cov_order]"
   ]
  },
  {
   "cell_type": "code",
   "execution_count": null,
   "id": "4d462959-acc5-4f43-af0d-debcafeca779",
   "metadata": {
    "tags": []
   },
   "outputs": [],
   "source": [
    "sns.set(rc={'figure.figsize':(30 , 30)})\n",
    "\n",
    "for i, (matrix, order) in enumerate(zip(precision_matrixes, orders)):\n",
    "    plt.figure(i)\n",
    "    this_matrix = matrix.rename(columns=mapping, index=mapping).reindex(columns=order, index=order)\n",
    "    this_matrix.to_csv(f'../data/precision_matrixes/precision_matrix_{i}.csv')\n",
    "    sns.heatmap(\n",
    "        data = this_matrix,\n",
    "        annot=True        \n",
    "    )"
   ]
  },
  {
   "cell_type": "markdown",
   "id": "7429bad2-39f5-4f49-8cb9-c97d03e9a995",
   "metadata": {},
   "source": [
    "### Visualize partial correlations\n",
    "Based on the precision matrices"
   ]
  },
  {
   "cell_type": "code",
   "execution_count": null,
   "id": "807bfca0-948d-4b6c-86c7-626a64089a44",
   "metadata": {},
   "outputs": [],
   "source": [
    "def get_partial_correlations(precision_matrix):\n",
    "    \"\"\"\n",
    "    Computes partial correlations based on the inverse covariance estimates.\n",
    "    \n",
    "    Parameters\n",
    "    ----------\n",
    "    precision_matrix : pd.DataFrame\n",
    "        A square DataFrame that represents inverse covariance matrix. Columns and indexes are node names.\n",
    "    \n",
    "    Returns\n",
    "    -------\n",
    "    partial_correlation_matrix : pd.DataFrame\n",
    "        A square DataFrame that represents partial correlations matrix. Columns and indexes are node names.\n",
    "\n",
    "    \"\"\"\n",
    "    partial_correlation_matrix = precision_matrix.copy()\n",
    "    d = 1 / np.sqrt(np.diag(partial_correlation_matrix))\n",
    "    partial_correlation_matrix *= d\n",
    "    partial_correlation_matrix *= d[:, np.newaxis]\n",
    "    partial_correlation_matrix = -partial_correlation_matrix\n",
    "\n",
    "    return partial_correlation_matrix"
   ]
  },
  {
   "cell_type": "code",
   "execution_count": null,
   "id": "531153a2-0079-43c4-8fc3-3de22f662118",
   "metadata": {},
   "outputs": [],
   "source": [
    "partial_correlation_matrices = [get_partial_correlations(precision_matrix) for precision_matrix in precision_matrixes]"
   ]
  },
  {
   "cell_type": "code",
   "execution_count": null,
   "id": "8f1ff70e-2a67-44b4-8054-4be0fc8c79ee",
   "metadata": {
    "tags": []
   },
   "outputs": [],
   "source": [
    "sns.set(rc={'figure.figsize':(30 , 30)})\n",
    "\n",
    "for i, (matrix, order) in enumerate(zip(partial_correlation_matrices, orders)):\n",
    "    plt.figure(i)\n",
    "    this_matrix = matrix.rename(columns=mapping, index=mapping).reindex(columns=order, index=order)\n",
    "    this_matrix.to_csv(f'../data/precision_matrixes/partial_correlation_matrix_{i}.csv')\n",
    "    \n",
    "    mask = np.triu(this_matrix)\n",
    "    sns.heatmap(\n",
    "        data = this_matrix,\n",
    "        annot=True,\n",
    "        center = 0.0,\n",
    "        cmap='vlag',\n",
    "        mask=mask,\n",
    "    )"
   ]
  },
  {
   "cell_type": "markdown",
   "id": "236a0b45-b7d7-48a7-b846-f597ac5b71d8",
   "metadata": {
    "tags": []
   },
   "source": [
    "## Visualize ERN and CRN graphs"
   ]
  },
  {
   "cell_type": "code",
   "execution_count": null,
   "id": "4df30023-57c4-4d88-ac4c-eb2024031dc0",
   "metadata": {},
   "outputs": [],
   "source": [
    "save_graphs = False"
   ]
  },
  {
   "cell_type": "markdown",
   "id": "160b1f2b-8da4-48ec-94d7-f360bbe78fa1",
   "metadata": {
    "tags": []
   },
   "source": [
    "### 1. Extract list of links from precision matrices"
   ]
  },
  {
   "cell_type": "code",
   "execution_count": null,
   "id": "24296fd5-42a3-4bb9-831b-eed1cc55a321",
   "metadata": {},
   "outputs": [],
   "source": [
    "if test:\n",
    "    test_links = []\n",
    "\n",
    "    for matrix in precision_matrixes_test:\n",
    "        this_links = utils.get_links(matrix)\n",
    "        test_links.append(this_links)\n",
    "else:\n",
    "    links = []\n",
    "\n",
    "    for matrix in precision_matrixes:\n",
    "        this_links = utils.get_links(matrix)\n",
    "        links.append(this_links)"
   ]
  },
  {
   "cell_type": "markdown",
   "id": "1562d1ee-31d3-4f3f-9f19-755d47c4c1e0",
   "metadata": {},
   "source": [
    "### 2. Calculate within- and out-of-sample nodes predictability"
   ]
  },
  {
   "cell_type": "code",
   "execution_count": null,
   "id": "f98547c8-74b0-43a0-971e-b9e377304fba",
   "metadata": {},
   "outputs": [],
   "source": [
    "within_sample_predictability = [\n",
    "    utils.calculate_nodes_predictability(X, precision_matrix) \n",
    "    for X, precision_matrix in zip(train_datasets, precision_matrixes)\n",
    "]\n",
    "\n",
    "out_of_sample_predictability = [\n",
    "    utils.calculate_nodes_predictability(X, precision_matrix) \n",
    "    for X, precision_matrix in zip(test_datasets, precision_matrixes)\n",
    "]"
   ]
  },
  {
   "cell_type": "markdown",
   "id": "6272144e-d1b1-4e79-91eb-1b2e170ba03b",
   "metadata": {},
   "source": [
    "### 3. Bulid the graph from the links"
   ]
  },
  {
   "cell_type": "markdown",
   "id": "e326abba-9baf-491c-ade8-f9730106d7cf",
   "metadata": {},
   "source": [
    "Node labels mappers for plotting"
   ]
  },
  {
   "cell_type": "code",
   "execution_count": null,
   "id": "51de5ced-ecdc-49b5-8218-00f2abb49c1a",
   "metadata": {},
   "outputs": [],
   "source": [
    "mapping = {\n",
    "    \"RRQ\": \"1Q\",\n",
    "    \"DASS-21 Stress\": \"2Q\",\n",
    "    \"DASS-21 Dep\": \"3Q\",\n",
    "    \"STAI-T\": \"4Q\",\n",
    "    \"STAI-S Diff\": '5Q',\n",
    "    \"BIS\": \"6Q\",\n",
    "    \"OBSESS\": \"7Q\",\n",
    "    \"HOARD\": \"8Q\",\n",
    "    \"ORD\": \"9Q\",\n",
    "    \"CHECK\": \"10Q\",\n",
    "    \"WBSI\": \"11Q\",\n",
    "    \"IUS-P\": \"12Q\",\n",
    "    \"IUS-I\": \"13Q\",\n",
    "    \"SES\": \"14Q\",\n",
    "    'BAS_D': \"15Q\",\n",
    "    'BAS_PRZY': \"16Q\",\n",
    "    'BAS_NAG': \"17Q\",\n",
    "    'INDEC_F': \"18Q\",\n",
    "    'PUN': \"19Q\",\n",
    "    'REW': \"20Q\",\n",
    "    'HARM': \"21Q\",\n",
    "    'T-CTR': \"22Q\",\n",
    "    \"OT\": \"23Q\",\n",
    "    'OB_PERF': \"24Q\",\n",
    "    'PS': \"25Q\",\n",
    "    'G_SE': \"26Q\",\n",
    "    'AMB': \"27Q\",\n",
    "    'PRED': \"28Q\",\n",
    "    'STAND': \"29Q\",   \n",
    "    \"Age\": \"1C\",\n",
    "    \"Handness\": \"2C\",\n",
    "    'e_ERN': \"1E\",\n",
    "    'e_LT_F': \"4C\",\n",
    "    'performance': \"3C\",\n",
    "    'e_CRN': \"2E\",\n",
    "    'e_LT_F2_C': \"4C\",\n",
    "}"
   ]
  },
  {
   "cell_type": "markdown",
   "id": "a79b4677-db89-4f74-8930-46d6b0510848",
   "metadata": {},
   "source": [
    "#### ERN cov graph"
   ]
  },
  {
   "cell_type": "code",
   "execution_count": null,
   "id": "d12dd9b6-93b0-462f-9f6a-50df7100dc48",
   "metadata": {},
   "outputs": [],
   "source": [
    "positions = [\n",
    "    ('3C', [0.2, 0.75]),\n",
    "]"
   ]
  },
  {
   "cell_type": "code",
   "execution_count": null,
   "id": "36d36127-0c14-4533-b71b-87882af82260",
   "metadata": {},
   "outputs": [],
   "source": [
    "ern_cov_layout, ern_cov_G = utils.draw_graph(\n",
    "    links[1], \n",
    "    seed=3, \n",
    "    basic_links=utils.leave_n_edges_from_eeg(links[1], N=0),\n",
    "    basic='first', \n",
    "    nodes_predictabilities = out_of_sample_predictability[1], \n",
    "    specific_positions=positions,\n",
    "    mapping=mapping, \n",
    "    save = 'ern_cov_net_test_pred_layout' if save_graphs else None\n",
    ") "
   ]
  },
  {
   "cell_type": "markdown",
   "id": "20dfe2be-bc5d-4cfb-b675-9cf1ed98abbd",
   "metadata": {},
   "source": [
    "Display predictability of nodes"
   ]
  },
  {
   "cell_type": "code",
   "execution_count": null,
   "id": "36cdca9f-e821-47e4-882c-a343d8da6325",
   "metadata": {},
   "outputs": [],
   "source": [
    "with pd.option_context('display.max_rows', 5, 'display.max_columns', None): \n",
    "    display(within_sample_predictability[1])\n",
    "\n",
    "with pd.option_context('display.max_rows', 5, 'display.max_columns', None): \n",
    "    display(out_of_sample_predictability[1])"
   ]
  },
  {
   "cell_type": "markdown",
   "id": "309105f4-9e1d-4d2a-95a5-801c52d52f38",
   "metadata": {},
   "source": [
    "Save graph"
   ]
  },
  {
   "cell_type": "code",
   "execution_count": null,
   "id": "fcbea148-ee7e-468d-ba55-a8a85615f2dc",
   "metadata": {},
   "outputs": [],
   "source": [
    "nx.write_gml(ern_cov_G, '../data/graphs/ern_cov_graph_test_pred_layout.gml')"
   ]
  },
  {
   "cell_type": "markdown",
   "id": "56a544e9-8839-483a-8cfa-345e4c0d9885",
   "metadata": {},
   "source": [
    "#### ERN graph"
   ]
  },
  {
   "cell_type": "code",
   "execution_count": null,
   "id": "eef38bd8-5f32-44d2-a4cf-bdf20cd00577",
   "metadata": {},
   "outputs": [],
   "source": [
    "# GENERATE THE COV GRAPH LAYOUT FIRST!\n",
    "layout = ern_cov_layout.copy()\n",
    "\n",
    "# remove covariates nodes from the layout\n",
    "layout.pop('1C', None)\n",
    "layout.pop('2C', None)\n",
    "layout.pop('3C', None)\n",
    "layout.pop('4C', None)"
   ]
  },
  {
   "cell_type": "code",
   "execution_count": null,
   "id": "01888933-71c9-439b-bd02-dc7f5100cd1f",
   "metadata": {},
   "outputs": [],
   "source": [
    "ern_layout, ern_G = utils.draw_graph(\n",
    "    links[0], \n",
    "    seed=13, \n",
    "    basic_links=utils.leave_n_edges_from_eeg(links[0], N=0),\n",
    "    basic='first', \n",
    "    nodes_predictabilities = out_of_sample_predictability[0], \n",
    "    mapping=mapping,     \n",
    "    layout = layout,\n",
    "    save='ern_net_test_pred_layout' if save_graphs else None\n",
    ") "
   ]
  },
  {
   "cell_type": "markdown",
   "id": "5b6e5d67-258f-4c5f-8cf8-fdba52f8f679",
   "metadata": {},
   "source": [
    "Display the predictability of nodes"
   ]
  },
  {
   "cell_type": "code",
   "execution_count": null,
   "id": "1b498e50-c510-4228-9dda-3c384d3db8e2",
   "metadata": {},
   "outputs": [],
   "source": [
    "with pd.option_context('display.max_rows', 5, 'display.max_columns', None): \n",
    "    display(within_sample_predictability[0])\n",
    "\n",
    "with pd.option_context('display.max_rows', 5, 'display.max_columns', None): \n",
    "    display(out_of_sample_predictability[0])"
   ]
  },
  {
   "cell_type": "markdown",
   "id": "b28c5749-1232-4a7a-899b-ae6eceb40379",
   "metadata": {},
   "source": [
    "Save graph"
   ]
  },
  {
   "cell_type": "code",
   "execution_count": null,
   "id": "37535962-51c0-449c-aa3b-88bbe1fd12a8",
   "metadata": {},
   "outputs": [],
   "source": [
    "nx.write_gml(ern_G, '../data/graphs/ern_graph_new_layout_test_predictability.gml')"
   ]
  },
  {
   "cell_type": "markdown",
   "id": "cf74d408-1e31-419c-be48-09c5a8e25a4f",
   "metadata": {},
   "source": [
    "#### CRN graph"
   ]
  },
  {
   "cell_type": "code",
   "execution_count": null,
   "id": "d98a0d0a-260b-4d59-b746-d97be6e00590",
   "metadata": {},
   "outputs": [],
   "source": [
    "crn_layout = ern_layout.copy()\n",
    "# assing the position of ERN from the layout to the CRN\n",
    "crn_layout['2E'] = crn_layout['1E']\n",
    "\n",
    "# remove ERN node from the layout\n",
    "crn_layout.pop('1E', None)"
   ]
  },
  {
   "cell_type": "code",
   "execution_count": null,
   "id": "b6b983de-a939-4531-a265-4f269f290d7c",
   "metadata": {},
   "outputs": [],
   "source": [
    "_, crn_G = utils.draw_graph(\n",
    "    links[2], \n",
    "    seed=16, \n",
    "    basic_links=utils.leave_n_edges_from_eeg(links[2], N=0), \n",
    "    basic='first', \n",
    "    mapping=mapping, \n",
    "    nodes_predictabilities = out_of_sample_predictability[2],\n",
    "    specific_positions=positions,\n",
    "    layout=crn_layout,\n",
    "    save = 'crn_net_test_pos_layout' if save_graphs else None\n",
    ") "
   ]
  },
  {
   "cell_type": "markdown",
   "id": "210f41e0-5674-489c-b506-8ef02701dec5",
   "metadata": {},
   "source": [
    "Display predictability"
   ]
  },
  {
   "cell_type": "code",
   "execution_count": null,
   "id": "563c41aa-7f1c-4b45-b2f6-5e42d0dd9ce9",
   "metadata": {},
   "outputs": [],
   "source": [
    "with pd.option_context('display.max_rows', 5, 'display.max_columns', None): \n",
    "    display(within_sample_predictability[2])\n",
    "\n",
    "with pd.option_context('display.max_rows', 5, 'display.max_columns', None): \n",
    "    display(out_of_sample_predictability[2])"
   ]
  },
  {
   "cell_type": "markdown",
   "id": "938b6c44-2648-4922-8c74-d1fc041e3de2",
   "metadata": {},
   "source": [
    "Save graph"
   ]
  },
  {
   "cell_type": "code",
   "execution_count": null,
   "id": "1a4014fc-219b-42a0-9cdb-806b71e4b876",
   "metadata": {
    "tags": []
   },
   "outputs": [],
   "source": [
    "nx.write_gml(crn_G, '../data/graphs/crn_graph_test_pred_layout.gml')"
   ]
  },
  {
   "cell_type": "markdown",
   "id": "71d60103-3070-4e31-8b90-9260d07733f7",
   "metadata": {},
   "source": [
    "#### CRN cov graph"
   ]
  },
  {
   "cell_type": "code",
   "execution_count": null,
   "id": "615fd304-d365-49ad-a7d2-9dabb8a7fecd",
   "metadata": {},
   "outputs": [],
   "source": [
    "crn_cov_layout = ern_cov_layout.copy()\n",
    "\n",
    "# assing the position of ERN from the layout to the CRN\n",
    "crn_cov_layout['2E'] = crn_cov_layout['1E']\n",
    "\n",
    "# remove ERN node from the layout\n",
    "crn_cov_layout.pop('1E', None)"
   ]
  },
  {
   "cell_type": "code",
   "execution_count": null,
   "id": "171885f1-c6bb-4dcb-abb4-a6f59c08c4b7",
   "metadata": {},
   "outputs": [],
   "source": [
    "_, crn_cov_G = utils.draw_graph(\n",
    "    links[3], \n",
    "    seed=8, \n",
    "    basic_links=utils.leave_n_edges_from_eeg(links[3], N=0), \n",
    "    basic='first', \n",
    "    mapping=mapping,\n",
    "    nodes_predictabilities = out_of_sample_predictability[3],\n",
    "    specific_positions = positions,\n",
    "    layout = crn_cov_layout,\n",
    "    save = 'crn_cov_net_test_pred_layout' if save_graphs else None\n",
    ") "
   ]
  },
  {
   "cell_type": "markdown",
   "id": "315b98ac-186c-402e-af72-74a44b119988",
   "metadata": {},
   "source": [
    "Display predictability of nodes"
   ]
  },
  {
   "cell_type": "code",
   "execution_count": null,
   "id": "cc97646d-1bd3-4c63-839e-132302a83879",
   "metadata": {},
   "outputs": [],
   "source": [
    "with pd.option_context('display.max_rows', 5, 'display.max_columns', None): \n",
    "    display(within_sample_predictability[3])\n",
    "\n",
    "with pd.option_context('display.max_rows', 5, 'display.max_columns', None): \n",
    "    display(out_of_sample_predictability[3])"
   ]
  },
  {
   "cell_type": "markdown",
   "id": "0338e96a-4964-402b-b630-47b63440ed49",
   "metadata": {},
   "source": [
    "Save graph"
   ]
  },
  {
   "cell_type": "code",
   "execution_count": null,
   "id": "47977509-628b-4ed3-a6c8-06ae1904372d",
   "metadata": {
    "tags": []
   },
   "outputs": [],
   "source": [
    "nx.write_gml(crn_cov_G, '../data/graphs/crn_cov_graph_test_pred_layout.gml')"
   ]
  },
  {
   "cell_type": "markdown",
   "id": "3d3d2a7b-dfc1-43dc-97b2-b48e16d25bbf",
   "metadata": {},
   "source": [
    "## Visualize ERN and CRN graphs difference"
   ]
  },
  {
   "cell_type": "markdown",
   "id": "dd1d67b2-f9d6-47fd-8ed1-e9b0943ba721",
   "metadata": {},
   "source": [
    "Define node labels mappers"
   ]
  },
  {
   "cell_type": "code",
   "execution_count": null,
   "id": "5cefbf2a-3bd2-4c8f-88c6-b5f433ff66c8",
   "metadata": {},
   "outputs": [],
   "source": [
    "mapping_difference_graphs = {\n",
    "    \"RRQ\": \"1Q\",\n",
    "    \"DASS-21 Stress\": \"2Q\",\n",
    "    \"DASS-21 Dep\": \"3Q\",\n",
    "    \"STAI-T\": \"4Q\",\n",
    "    \"STAI-S Diff\": '5Q',\n",
    "    \"BIS\": \"6Q\",\n",
    "    \"OBSESS\": \"7Q\",\n",
    "    \"HOARD\": \"8Q\",\n",
    "    \"ORD\": \"9Q\",\n",
    "    \"CHECK\": \"10Q\",\n",
    "    \"WBSI\": \"11Q\",\n",
    "    \"IUS-P\": \"12Q\",\n",
    "    \"IUS-I\": \"13Q\",\n",
    "    \"SES\": \"14Q\",\n",
    "    'BAS_D': \"15Q\",\n",
    "    'BAS_PRZY': \"16Q\",\n",
    "    'BAS_NAG': \"17Q\",\n",
    "    'INDEC_F': \"18Q\",\n",
    "    'PUN': \"19Q\",\n",
    "    'REW': \"20Q\",\n",
    "    'HARM': \"21Q\",\n",
    "    'T-CTR': \"22Q\",\n",
    "    \"OT\": \"23Q\",\n",
    "    'OB_PERF': \"24Q\",\n",
    "    'PS': \"25Q\",\n",
    "    'G_SE': \"26Q\",\n",
    "    'AMB': \"27Q\",\n",
    "    'PRED': \"28Q\",\n",
    "    'STAND': \"29Q\",   \n",
    "    \"Age\": \"1C\",\n",
    "    \"Handness\": \"2C\",\n",
    "    'e_ERN': \"1E\",\n",
    "    'e_LT_F': \"4C\",\n",
    "    'performance': \"3C\",\n",
    "    'e_CRN': \"1E\",\n",
    "    'e_LT_F2_C': \"4C\",\n",
    "}\n",
    "\n",
    "# mapping_crn = {\n",
    "#     \"RRQ\": \"1Q\",\n",
    "#     \"DASS-21 Stress\": \"2Q\",\n",
    "#     \"DASS-21 Dep\": \"3Q\",\n",
    "#     \"STAI-T\": \"4Q\",\n",
    "#     \"STAI-S Diff\": '5Q',\n",
    "#     \"BIS\": \"6Q\",\n",
    "#     \"OBSESS\": \"7Q\",\n",
    "#     \"HOARD\": \"8Q\",\n",
    "#     \"ORD\": \"9Q\",\n",
    "#     \"CHECK\": \"10Q\",\n",
    "#     \"WBSI\": \"11Q\",\n",
    "#     \"IUS-P\": \"12Q\",\n",
    "#     \"IUS-I\": \"13Q\",\n",
    "#     \"SES\": \"14Q\",\n",
    "#     'BAS_D': \"15Q\",\n",
    "#     'BAS_PRZY': \"16Q\",\n",
    "#     'BAS_NAG': \"17Q\",\n",
    "#     'INDEC_F': \"18Q\",\n",
    "#     'PUN': \"19Q\",\n",
    "#     'REW': \"20Q\",\n",
    "#     'HARM': \"21Q\",\n",
    "#     'T-CTR': \"22Q\",\n",
    "#     \"OT\": \"23Q\",\n",
    "#     'OB_PERF': \"24Q\",\n",
    "#     'PS': \"25Q\",\n",
    "#     'G_SE': \"26Q\",\n",
    "#     'AMB': \"27Q\",\n",
    "#     'PRED': \"28Q\",\n",
    "#     'STAND': \"29Q\",   \n",
    "#     \"Age\": \"1C\",\n",
    "#     \"Handness\": \"2C\",\n",
    "#     'e_CRN': \"1E\",\n",
    "#     'e_LT_F2_C': \"4C\",\n",
    "#     'performance': \"3C\",\n",
    "# }"
   ]
  },
  {
   "cell_type": "markdown",
   "id": "740362e7-1a3d-4d59-b000-59ba825bf433",
   "metadata": {},
   "source": [
    "### Create graphs from precision matrices\n",
    "\n",
    "Here, the threshold is set very low so as not to introduce an artificial qualitative difference between ERN and CRN networks when the link is slightly below the threshold in one network (and will be zeroed) and slightly above in the second (and will not be zeroed)."
   ]
  },
  {
   "cell_type": "code",
   "execution_count": null,
   "id": "04c31ea3-6b5f-43f2-8786-447260f9a064",
   "metadata": {},
   "outputs": [],
   "source": [
    "def create_graph(links, mapping):\n",
    "    G = nx.from_pandas_edgelist(links,'var1','var2', edge_attr='weight', create_using=nx.Graph())\n",
    "    G = nx.relabel_nodes(G, mapping)\n",
    "    return G"
   ]
  },
  {
   "cell_type": "code",
   "execution_count": null,
   "id": "cbb71909-e73c-4bc4-8163-130785ef9233",
   "metadata": {},
   "outputs": [],
   "source": [
    "links_for_diffs = [utils.leave_n_edges_from_eeg(utils.get_links(matrix_, threshold=0.005), N=2) for matrix_ in precision_matrixes]\n",
    "graphs_for_diffs = [create_graph(links, mapping_difference_graphs) for links in links_for_diffs]"
   ]
  },
  {
   "cell_type": "markdown",
   "id": "1490a4c9-bd1c-4c82-b5ca-551b269fcef7",
   "metadata": {},
   "source": [
    "### Estimate difference graphs"
   ]
  },
  {
   "cell_type": "markdown",
   "id": "54db3487-47cd-4abc-a9e3-72c6b8715ef7",
   "metadata": {},
   "source": [
    "#### 1. ERN minus CRN model"
   ]
  },
  {
   "cell_type": "code",
   "execution_count": null,
   "id": "0df165af-335d-4869-b71e-5c2523c7e469",
   "metadata": {},
   "outputs": [],
   "source": [
    "difference_graph_ern, colors, styles = utils.estimate_difference_graph(\n",
    "    graphs_for_diffs[0], \n",
    "    graphs_for_diffs[2],\n",
    "    threshold=0.02\n",
    ")\n",
    "\n",
    "utils.draw_difference_graph(\n",
    "    difference_graph_ern, \n",
    "    colors=colors, \n",
    "    linestyle=styles, \n",
    "    seed=16, \n",
    "    no_purple=True, \n",
    "    scale=1.2,\n",
    "    layout = ern_layout,\n",
    "    save = 'ern_crn_diff_layout' if save_graphs else None\n",
    ")"
   ]
  },
  {
   "cell_type": "markdown",
   "id": "40512de1-4afe-44e6-bb16-9e80c4cbc483",
   "metadata": {},
   "source": [
    "Calculate nodes predictability"
   ]
  },
  {
   "cell_type": "code",
   "execution_count": null,
   "id": "48a969ab-a108-44aa-8347-54bb52685fad",
   "metadata": {},
   "outputs": [],
   "source": [
    "G_ = difference_graph_ern.copy()       \n",
    "ern_crn_diff_matrix = nx.to_numpy_array(G_)\n",
    "ern_crn_diff_matrix_df = pd.DataFrame(ern_crn_diff_matrix, columns=G_.nodes(), index=G_.nodes())"
   ]
  },
  {
   "cell_type": "code",
   "execution_count": null,
   "id": "6d0bc0d0-9ff9-42f8-9c85-337df843d81b",
   "metadata": {},
   "outputs": [],
   "source": [
    "ern_crn_diff_within_sample_predictability = utils.calculate_nodes_predictability(train_datasets[0].rename(columns=mapping_difference_graphs), ern_crn_diff_matrix_df)\n",
    "\n",
    "with pd.option_context('display.max_rows', 5, 'display.max_columns', None): \n",
    "    display(ern_crn_diff_within_sample_predictability)\n",
    "\n",
    "ern_crn_diff_out_of_sample_predictability = utils.calculate_nodes_predictability(test_datasets[0].rename(columns=mapping_difference_graphs), ern_crn_diff_matrix_df)\n",
    "\n",
    "with pd.option_context('display.max_rows', 5, 'display.max_columns', None): \n",
    "    display(ern_crn_diff_out_of_sample_predictability)"
   ]
  },
  {
   "cell_type": "markdown",
   "id": "e96f7f81-35db-4245-b36d-b7dd87e071fb",
   "metadata": {},
   "source": [
    "Save the graph"
   ]
  },
  {
   "cell_type": "code",
   "execution_count": null,
   "id": "a81d3ae7-40e6-455d-b085-2f7771298aa1",
   "metadata": {},
   "outputs": [],
   "source": [
    "nx.write_gml(difference_graph_ern, '../data/graphs/ern_crn_diff_graph_layout.gml')\n",
    "ern_crn_diff_matrix_df.to_pickle(f'../data/precision_matrixes/{dataset}/precision_matrix_ern_crn_diff_layout.pkl')"
   ]
  },
  {
   "cell_type": "markdown",
   "id": "228b55e0-a6b7-47d4-9f5a-5d2a4cc581b2",
   "metadata": {},
   "source": [
    "#### ERN with covariates minus CRN with covariates"
   ]
  },
  {
   "cell_type": "code",
   "execution_count": null,
   "id": "2fffa7d0-8c70-4757-a251-97cde970c8da",
   "metadata": {},
   "outputs": [],
   "source": [
    "difference_graph_ern_cov, colors, styles = utils.estimate_difference_graph(\n",
    "    graphs_for_diffs[1], \n",
    "    graphs_for_diffs[3],\n",
    "    threshold=0.02\n",
    ")\n",
    "\n",
    "utils.draw_difference_graph(\n",
    "    difference_graph_ern_cov, \n",
    "    colors=colors, \n",
    "    linestyle=styles, \n",
    "    seed=7, \n",
    "    no_purple=True,\n",
    "    scale=1.3,\n",
    "    layout = ern_cov_layout,\n",
    "    save = 'ern_crn_cov_diff_layout' if save_graphs else None\n",
    ")"
   ]
  },
  {
   "cell_type": "markdown",
   "id": "59666841-cff7-4a77-aefd-f99b26941e70",
   "metadata": {},
   "source": [
    "Calculate nodes predictability"
   ]
  },
  {
   "cell_type": "code",
   "execution_count": null,
   "id": "962f4e84-1abf-4464-a7d3-429b0291416f",
   "metadata": {},
   "outputs": [],
   "source": [
    "G_ = difference_graph_ern_cov.copy()       \n",
    "ern_crn_cov_diff_matrix = nx.to_numpy_array(G_)\n",
    "ern_crn_cov_diff_matrix_df = pd.DataFrame(ern_crn_cov_diff_matrix, columns=G_.nodes(), index=G_.nodes())"
   ]
  },
  {
   "cell_type": "code",
   "execution_count": null,
   "id": "90c33d84-7163-47b2-84e7-779a850df0df",
   "metadata": {},
   "outputs": [],
   "source": [
    "ern_crn_cov_diff_within_sample_predictability = utils.calculate_nodes_predictability(train_datasets[1].rename(columns=mapping_difference_graphs), ern_crn_cov_diff_matrix_df)\n",
    "\n",
    "with pd.option_context('display.max_rows', 5, 'display.max_columns', None): \n",
    "    display(ern_crn_cov_diff_within_sample_predictability)\n",
    "\n",
    "ern_crn_cov_diff_out_of_sample_predictability = utils.calculate_nodes_predictability(test_datasets[1].rename(columns=mapping_difference_graphs), ern_crn_cov_diff_matrix_df)\n",
    "\n",
    "with pd.option_context('display.max_rows', 5, 'display.max_columns', None): \n",
    "    display(ern_crn_cov_diff_out_of_sample_predictability)"
   ]
  },
  {
   "cell_type": "markdown",
   "id": "9c35d52c-d384-486e-a193-18dad7d4f670",
   "metadata": {},
   "source": [
    "Save the graph"
   ]
  },
  {
   "cell_type": "code",
   "execution_count": null,
   "id": "591318a4-9ec3-4fbd-9239-39cfaec3055f",
   "metadata": {},
   "outputs": [],
   "source": [
    "nx.write_gml(difference_graph_ern_cov, '../data/graphs/ern_crn_cov_diff_graph_layout.gml')\n",
    "ern_crn_cov_diff_matrix_df.to_pickle(f'../data/precision_matrixes/{dataset}/precision_matrix_ern_crn_cov_diff_layout.pkl')"
   ]
  },
  {
   "cell_type": "markdown",
   "id": "047b39ea-352b-495b-a22c-e9524544d937",
   "metadata": {},
   "source": [
    "---\n",
    "## Draw legend"
   ]
  },
  {
   "cell_type": "markdown",
   "id": "fbedf5f1-fc6f-4d42-9267-a11dc0c458d2",
   "metadata": {},
   "source": [
    "- ERN"
   ]
  },
  {
   "cell_type": "code",
   "execution_count": null,
   "id": "e7783435-6390-4796-a06a-53279ebbe40f",
   "metadata": {},
   "outputs": [],
   "source": [
    "legend_labels = {\n",
    "    \"1Q: Rumination\": \"1Q\",\n",
    "    \"2Q: Stress\": \"2Q\",\n",
    "    \"3Q: Depression\": \"3Q\",\n",
    "    \"4Q: Anxiety trait\": \"4Q\",\n",
    "    \"5Q: Affective load\": '5Q',\n",
    "    \"6Q: Behavioral inhibition\": \"6Q\",\n",
    "    \"7Q: Obsessing\": \"7Q\",\n",
    "    \"8Q: Hoarding\": \"8Q\",\n",
    "    \"9Q: Ordering\": \"9Q\",\n",
    "    \"10Q: Checking\": \"10Q\",\n",
    "    \"11Q: Thought supression\": \"11Q\",\n",
    "    \"12Q: Prospective intolerance of uncertainty\": \"12Q\",\n",
    "    \"13Q: Inhibitory intolerance of uncertainty\": \"13Q\",\n",
    "    \"14Q: Self-esteem\": \"14Q\",\n",
    "    '15Q: Drive': \"15Q\",\n",
    "    '16Q: Fun-seeking': \"16Q\",\n",
    "    '17Q: Reward responsiveness': \"17Q\",\n",
    "    '18Q: Indecisivness': \"18Q\",\n",
    "    '19Q: Punishment sensitivity': \"19Q\",\n",
    "    '20Q: Reward sensitivity': \"20Q\",\n",
    "    '21Q: Inflated harm responsibility': \"21Q\",\n",
    "    '22Q: Importance of thought control': \"22Q\",\n",
    "    \"23Q: Threat overestimation\": \"23Q\",\n",
    "    '24Q: Perfectionism/intolerance of uncertainty': \"24Q\",\n",
    "    '25Q: Personal standards': \"25Q\",\n",
    "    '26Q: Guilt sensitivity': \"26Q\",\n",
    "    '27Q: Avoidance of ambiguity': \"27Q\",\n",
    "    '28Q: Need for predictability': \"28Q\",\n",
    "    '29Q: High standards': \"29Q\",   \n",
    "    \"1C: Age\": \"1C\",\n",
    "    \"2C: Handedness\": \"2C\",\n",
    "    '3C: Performance': \"3C\",\n",
    "    '4C: ERN latency': \"4C\",\n",
    "    '1E: ERN amplitude': \"1E\",\n",
    "    # '2E: CRN': \"2E\",\n",
    "}"
   ]
  },
  {
   "cell_type": "code",
   "execution_count": null,
   "id": "268795f0-680f-46b1-a3ff-25f3bd9a0ddf",
   "metadata": {},
   "outputs": [],
   "source": [
    "cm = 1/2.54\n",
    "dpi = 500\n",
    "\n",
    "plt.rcParams['figure.dpi'] = dpi\n",
    "plt.rcParams[\"font.family\"] = \"Times New Roman\"\n",
    "plt.rcParams['ytick.labelsize'] = 6\n",
    "plt.rcParams['xtick.labelsize'] = 6\n",
    "plt.rcParams['axes.labelsize'] = 6\n",
    "plt.rcParams[\"axes.edgecolor\"] = \".15\"\n",
    "plt.rcParams[\"axes.linewidth\"]  = 0.5\n",
    "sns.set_style(\"white\")\n",
    "\n",
    "\n",
    "palette = sns.color_palette(\"colorblind\")\n",
    "\n",
    "fig = plt.figure(3, figsize=(10*cm, 10*cm))\n",
    "ax = fig.add_axes([0,0,1,1], aspect=1)\n",
    "ax.spines[['right', 'top', 'left', 'bottom']].set_visible(False)\n",
    "# ax = plt.gca()\n",
    "ax.axes.xaxis.set_visible(False)\n",
    "ax.axes.yaxis.set_visible(False)\n",
    "    \n",
    "# # change default range so that new circles will work\n",
    "# ax.set_xlim((0, 10))\n",
    "# ax.set_ylim((0, 10))\n",
    "# some data\n",
    "x = [0.5]*len(legend_labels)\n",
    "y = np.linspace(0,1,len(legend_labels))\n",
    "\n",
    "nodes_color=[palette[0] if item[1].find('Q') != -1 \n",
    "                else palette[1]if item[1].find('E') != -1 \n",
    "                else palette[2] for item in legend_labels.items()]\n",
    "\n",
    "\n",
    "    \n",
    "# ax.plot(x, y, 'o', color=nodes_color,  markersize=4)\n",
    "\n",
    "for i, item in enumerate(legend_labels.items()):\n",
    "    item_index = len(legend_labels) - i - 1\n",
    "    \n",
    "    ax.plot(\n",
    "        x[item_index],\n",
    "        y[item_index], \n",
    "        'o', \n",
    "        markersize=5,\n",
    "        color=nodes_color[i],\n",
    "    )\n",
    "    \n",
    "    plt.annotate(\n",
    "        item[0],                       # label text\n",
    "        (x[item_index], y[item_index]),                    # (x, y)\n",
    "        textcoords=\"offset points\",   \n",
    "        xytext=(5, -1.35),               # (x, y) offset amount\n",
    "        ha='left',\n",
    "        fontsize=5\n",
    "    )\n",
    "    \n",
    "plt.show()\n",
    "\n",
    "fig.savefig('../images/ern_legend.png')"
   ]
  },
  {
   "cell_type": "markdown",
   "id": "cb94db1a-9e9d-47a3-862a-448ad62d1b47",
   "metadata": {},
   "source": [
    "- CRN"
   ]
  },
  {
   "cell_type": "code",
   "execution_count": null,
   "id": "8ea22356-181d-473c-a5da-c330a1d3e41d",
   "metadata": {},
   "outputs": [],
   "source": [
    "legend_labels = {\n",
    "    \"1Q: Rumination\": \"1Q\",\n",
    "    \"2Q: Stress\": \"2Q\",\n",
    "    \"3Q: Depression\": \"3Q\",\n",
    "    \"4Q: Anxiety trait\": \"4Q\",\n",
    "    \"5Q: Affective load\": '5Q',\n",
    "    \"6Q: Behavioral inhibition\": \"6Q\",\n",
    "    \"7Q: Obsessing\": \"7Q\",\n",
    "    \"8Q: Hoarding\": \"8Q\",\n",
    "    \"9Q: Ordering\": \"9Q\",\n",
    "    \"10Q: Checking\": \"10Q\",\n",
    "    \"11Q: Thought supression\": \"11Q\",\n",
    "    \"12Q: Prospective intolerance of uncertainty\": \"12Q\",\n",
    "    \"13Q: Inhibitory intolerance of uncertainty\": \"13Q\",\n",
    "    \"14Q: Self-esteem\": \"14Q\",\n",
    "    '15Q: Drive': \"15Q\",\n",
    "    '16Q: Fun-seeking': \"16Q\",\n",
    "    '17Q: Reward responsiveness': \"17Q\",\n",
    "    '18Q: Indecisivness': \"18Q\",\n",
    "    '19Q: Punishment sensitivity': \"19Q\",\n",
    "    '20Q: Reward sensitivity': \"20Q\",\n",
    "    '21Q: Inflated harm responsibility': \"21Q\",\n",
    "    '22Q: Importance of thought control': \"22Q\",\n",
    "    \"23Q: Threat overestimation\": \"23Q\",\n",
    "    '24Q: Perfectionism/intolerance of uncertainty': \"24Q\",\n",
    "    '25Q: Personal standards': \"25Q\",\n",
    "    '26Q: Guilt sensitivity': \"26Q\",\n",
    "    '27Q: Avoidance of ambiguity': \"27Q\",\n",
    "    '28Q: Need for predictability': \"28Q\",\n",
    "    '29Q: High standards': \"29Q\",   \n",
    "    \"1C: Age\": \"1C\",\n",
    "    \"2C: Handedness\": \"2C\",\n",
    "    '3C: Performance': \"3C\",\n",
    "    '4C: CRN latency': \"4C\",\n",
    "    '2E: CRN amplitude': \"1E\",\n",
    "    # '2E: CRN': \"2E\",\n",
    "}"
   ]
  },
  {
   "cell_type": "code",
   "execution_count": null,
   "id": "ae7d2e75-66b4-4414-b9c3-9db758c03529",
   "metadata": {},
   "outputs": [],
   "source": [
    "cm = 1/2.54\n",
    "dpi = 500\n",
    "\n",
    "plt.rcParams['figure.dpi'] = dpi\n",
    "plt.rcParams[\"font.family\"] = \"Times New Roman\"\n",
    "plt.rcParams['ytick.labelsize'] = 6\n",
    "plt.rcParams['xtick.labelsize'] = 6\n",
    "plt.rcParams['axes.labelsize'] = 6\n",
    "plt.rcParams[\"axes.edgecolor\"] = \".15\"\n",
    "plt.rcParams[\"axes.linewidth\"]  = 0.5\n",
    "sns.set_style(\"white\")\n",
    "\n",
    "\n",
    "palette = sns.color_palette(\"colorblind\")\n",
    "\n",
    "fig = plt.figure(3, figsize=(10*cm, 10*cm))\n",
    "ax = fig.add_axes([0,0,1,1], aspect=1)\n",
    "ax.spines[['right', 'top', 'left', 'bottom']].set_visible(False)\n",
    "# ax = plt.gca()\n",
    "ax.axes.xaxis.set_visible(False)\n",
    "ax.axes.yaxis.set_visible(False)\n",
    "    \n",
    "# # change default range so that new circles will work\n",
    "# ax.set_xlim((0, 10))\n",
    "# ax.set_ylim((0, 10))\n",
    "# some data\n",
    "x = [0.5]*len(legend_labels)\n",
    "y = np.linspace(0,1,len(legend_labels))\n",
    "\n",
    "nodes_color=[palette[0] if item[1].find('Q') != -1 \n",
    "                else palette[1]if item[1].find('E') != -1 \n",
    "                else palette[2] for item in legend_labels.items()]\n",
    "\n",
    "\n",
    "    \n",
    "# ax.plot(x, y, 'o', color=nodes_color,  markersize=4)\n",
    "\n",
    "for i, item in enumerate(legend_labels.items()):\n",
    "    item_index = len(legend_labels) - i - 1\n",
    "    \n",
    "    ax.plot(\n",
    "        x[item_index],\n",
    "        y[item_index], \n",
    "        'o', \n",
    "        markersize=5,\n",
    "        color=nodes_color[i],\n",
    "    )\n",
    "    \n",
    "    plt.annotate(\n",
    "        item[0],                       # label text\n",
    "        (x[item_index], y[item_index]),                    # (x, y)\n",
    "        textcoords=\"offset points\",   \n",
    "        xytext=(5, -1.35),               # (x, y) offset amount\n",
    "        ha='left',\n",
    "        fontsize=5\n",
    "    )\n",
    "    \n",
    "plt.show()\n",
    "\n",
    "fig.savefig('../images/crn_legend.png')"
   ]
  },
  {
   "cell_type": "markdown",
   "id": "1a5306ab-0f58-45db-a4b5-db07881bcd91",
   "metadata": {},
   "source": [
    "- Diff"
   ]
  },
  {
   "cell_type": "code",
   "execution_count": null,
   "id": "48fab3b7-e6bc-4808-b42e-d390e4e8639b",
   "metadata": {},
   "outputs": [],
   "source": [
    "legend_labels = {\n",
    "    \"1Q: Rumination\": \"1Q\",\n",
    "    \"2Q: Stress\": \"2Q\",\n",
    "    \"3Q: Depression\": \"3Q\",\n",
    "    \"4Q: Anxiety trait\": \"4Q\",\n",
    "    \"5Q: Affective load\": '5Q',\n",
    "    \"6Q: Behavioral inhibition\": \"6Q\",\n",
    "    \"7Q: Obsessing\": \"7Q\",\n",
    "    \"8Q: Hoarding\": \"8Q\",\n",
    "    \"9Q: Ordering\": \"9Q\",\n",
    "    \"10Q: Checking\": \"10Q\",\n",
    "    \"11Q: Thought supression\": \"11Q\",\n",
    "    \"12Q: Prospective intolerance of uncertainty\": \"12Q\",\n",
    "    \"13Q: Inhibitory intolerance of uncertainty\": \"13Q\",\n",
    "    \"14Q: Self-esteem\": \"14Q\",\n",
    "    '15Q: Drive': \"15Q\",\n",
    "    '16Q: Fun-seeking': \"16Q\",\n",
    "    '17Q: Reward responsiveness': \"17Q\",\n",
    "    '18Q: Indecisivness': \"18Q\",\n",
    "    '19Q: Punishment sensitivity': \"19Q\",\n",
    "    '20Q: Reward sensitivity': \"20Q\",\n",
    "    '21Q: Inflated harm responsibility': \"21Q\",\n",
    "    '22Q: Importance of thought control': \"22Q\",\n",
    "    \"23Q: Threat overestimation\": \"23Q\",\n",
    "    '24Q: Perfectionism/intolerance of uncertainty': \"24Q\",\n",
    "    '25Q: Personal standards': \"25Q\",\n",
    "    '26Q: Guilt sensitivity': \"26Q\",\n",
    "    '27Q: Avoidance of ambiguity': \"27Q\",\n",
    "    '28Q: Need for predictability': \"28Q\",\n",
    "    '29Q: High standards': \"29Q\",   \n",
    "    \"1C: Age\": \"1C\",\n",
    "    \"2C: Handedness\": \"2C\",\n",
    "    '3C: Performance': \"3C\",\n",
    "    '4C: ERP latency': \"4C\",\n",
    "    '2E: ERN amplitude': \"1E\",\n",
    "    # '2E: CRN': \"2E\",\n",
    "}"
   ]
  },
  {
   "cell_type": "code",
   "execution_count": null,
   "id": "1bf7c6e5-18c7-41ae-a2cc-40c0223b0967",
   "metadata": {},
   "outputs": [],
   "source": [
    "cm = 1/2.54\n",
    "dpi = 500\n",
    "\n",
    "plt.rcParams['figure.dpi'] = dpi\n",
    "plt.rcParams[\"font.family\"] = \"Times New Roman\"\n",
    "plt.rcParams['ytick.labelsize'] = 6\n",
    "plt.rcParams['xtick.labelsize'] = 6\n",
    "plt.rcParams['axes.labelsize'] = 6\n",
    "plt.rcParams[\"axes.edgecolor\"] = \".15\"\n",
    "plt.rcParams[\"axes.linewidth\"]  = 0.5\n",
    "sns.set_style(\"white\")\n",
    "\n",
    "\n",
    "palette = sns.color_palette(\"colorblind\")\n",
    "\n",
    "fig = plt.figure(3, figsize=(10*cm, 10*cm))\n",
    "ax = fig.add_axes([0,0,1,1], aspect=1)\n",
    "ax.spines[['right', 'top', 'left', 'bottom']].set_visible(False)\n",
    "# ax = plt.gca()\n",
    "ax.axes.xaxis.set_visible(False)\n",
    "ax.axes.yaxis.set_visible(False)\n",
    "    \n",
    "# # change default range so that new circles will work\n",
    "# ax.set_xlim((0, 10))\n",
    "# ax.set_ylim((0, 10))\n",
    "# some data\n",
    "x = [0.5]*len(legend_labels)\n",
    "y = np.linspace(0,1,len(legend_labels))\n",
    "\n",
    "nodes_color=[palette[0] if item[1].find('Q') != -1 \n",
    "                else palette[1]if item[1].find('E') != -1 \n",
    "                else palette[2] for item in legend_labels.items()]\n",
    "\n",
    "\n",
    "    \n",
    "# ax.plot(x, y, 'o', color=nodes_color,  markersize=4)\n",
    "\n",
    "for i, item in enumerate(legend_labels.items()):\n",
    "    item_index = len(legend_labels) - i - 1\n",
    "    \n",
    "    ax.plot(\n",
    "        x[item_index],\n",
    "        y[item_index], \n",
    "        'o', \n",
    "        markersize=5,\n",
    "        color=nodes_color[i],\n",
    "    )\n",
    "    \n",
    "    plt.annotate(\n",
    "        item[0],                       # label text\n",
    "        (x[item_index], y[item_index]),                    # (x, y)\n",
    "        textcoords=\"offset points\",   \n",
    "        xytext=(5, -1.35),               # (x, y) offset amount\n",
    "        ha='left',\n",
    "        fontsize=5\n",
    "    )\n",
    "    \n",
    "plt.show()\n",
    "\n",
    "fig.savefig('../images/diff_legend.png')"
   ]
  }
 ],
 "metadata": {
  "kernelspec": {
   "display_name": "net",
   "language": "python",
   "name": "net"
  },
  "language_info": {
   "codemirror_mode": {
    "name": "ipython",
    "version": 3
   },
   "file_extension": ".py",
   "mimetype": "text/x-python",
   "name": "python",
   "nbconvert_exporter": "python",
   "pygments_lexer": "ipython3",
   "version": "3.8.10"
  }
 },
 "nbformat": 4,
 "nbformat_minor": 5
}
