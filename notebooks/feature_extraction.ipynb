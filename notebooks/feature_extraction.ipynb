{
 "cells": [
  {
   "cell_type": "markdown",
   "id": "0",
   "metadata": {},
   "source": [
    "# Extraction of features for different models of error-related brain activity and anxiety dimensions"
   ]
  },
  {
   "cell_type": "markdown",
   "id": "1",
   "metadata": {
    "tags": []
   },
   "source": [
    "### Imports"
   ]
  },
  {
   "cell_type": "code",
   "execution_count": null,
   "id": "2",
   "metadata": {
    "tags": []
   },
   "outputs": [],
   "source": [
    "import os\n",
    "import sys\n",
    "import re\n",
    "import glob\n",
    "import ast\n",
    "import os.path as op\n",
    "import pickle\n",
    "import mne\n",
    "import scipy\n",
    "import numpy as np\n",
    "import pandas as pd \n",
    "import seaborn as sns\n",
    "import matplotlib.pyplot as plt\n",
    "import scipy as sp\n",
    "\n",
    "from collections import defaultdict\n",
    "\n",
    "from copy import deepcopy\n",
    "import copy\n",
    "\n",
    "from sklearn.model_selection import train_test_split\n",
    "from sklearn.pipeline import Pipeline\n",
    "from sklearn.pipeline import Pipeline\n",
    "from sklearn.preprocessing import StandardScaler\n",
    "from scipy.integrate import simpson\n",
    "from scipy.stats import boxcox\n",
    "from scipy.stats import pearsonr\n",
    "\n",
    "from autoreject import AutoReject\n",
    "\n",
    "# from transformers import *\n",
    "\n",
    "import warnings\n",
    "warnings.filterwarnings(\"ignore\")"
   ]
  },
  {
   "cell_type": "markdown",
   "id": "3",
   "metadata": {
    "tags": []
   },
   "source": [
    "---\n",
    "## Load data\n",
    "\n",
    "Loading EEG data and data from rumination questionnaire. By default create_df_data loads all info from given file but one can specify it by passing a list of desired labels from csv file."
   ]
  },
  {
   "cell_type": "code",
   "execution_count": null,
   "id": "4",
   "metadata": {},
   "outputs": [],
   "source": [
    "dir_path = os.path.dirname(os.path.abspath(\"\"))"
   ]
  },
  {
   "cell_type": "code",
   "execution_count": null,
   "id": "5",
   "metadata": {},
   "outputs": [],
   "source": [
    "tmin, tmax = -0.1, 0.6  # Start and end of the segments\n",
    "signal_frequency = 256\n",
    "random_state = 0"
   ]
  },
  {
   "cell_type": "code",
   "execution_count": null,
   "id": "6",
   "metadata": {},
   "outputs": [],
   "source": [
    "def create_df_data(\n",
    "    test_participants=False,\n",
    "    test_epochs=False,\n",
    "    info_filename=None,\n",
    "    info=\"all\",\n",
    "    personal=True,\n",
    "):\n",
    "    \"\"\"Loads data for all participants and create DataFrame with optional additional info from given .csv file.\n",
    "\n",
    "    On default, loads a train set: chooses only 80% of participants\n",
    "    and for each of them chooses 80% of epochs.\n",
    "    It will choose them deterministically.\n",
    "\n",
    "    Participants with less than 10 epochs per condition are rejected.\n",
    "\n",
    "    If test_participants is set to True, it will load remaining 20% of participants.\n",
    "    If test_epochs is set to True, it will load remaining 20% of epochs.\n",
    "    Test epochs are chronologically after train epochs,\n",
    "    because it reflects real usage (first callibration and then classification).\n",
    "\n",
    "    Parameters\n",
    "    ----------\n",
    "    test_participants: bool\n",
    "        whether load data for training or final testing.\n",
    "        If true load participants data for testing.\n",
    "    test_epochs: bool\n",
    "        whether load data for training or final testing.\n",
    "        If true load epochs of each participants data for testing.\n",
    "    info_filename: String | None\n",
    "        path to .csv file with additional data.\n",
    "    info: array\n",
    "        listed parameters from the info file to be loaded.\n",
    "        if 'all', load all parameters\n",
    "    personal: bool\n",
    "        whether a model will be both trained and tested on epochs from one person\n",
    "        if false, person's epochs aren't split into test and train\n",
    "\n",
    "\n",
    "    Returns\n",
    "    -------\n",
    "    go_nogo_data_df : pandas.DataFrame\n",
    "\n",
    "    \"\"\"\n",
    "    print(os.path.abspath(\"\"))\n",
    "    dir_path = os.path.dirname(os.path.abspath(\"\"))\n",
    "    print(dir_path)\n",
    "    header_files_glob = os.path.join(dir_path, \"data/responses_100_600_sonata/*.vhdr\")\n",
    "    header_files = glob.glob(header_files_glob)\n",
    "\n",
    "    header_files = sorted(header_files)\n",
    "    go_nogo_data_df = pd.DataFrame()\n",
    "\n",
    "    # cut 20% of data for testing\n",
    "    h_train, h_test = train_test_split(header_files, test_size=0.3, random_state=0)\n",
    "    \n",
    "    print(f\"train size: {len(h_train)} ; test size: {len(h_test)}\")\n",
    "\n",
    "    if test_participants:\n",
    "        header_files = h_test\n",
    "    else:\n",
    "        header_files = h_train\n",
    "\n",
    "    for file in header_files:\n",
    "        #  load eeg data for given participant\n",
    "        participant_epochs = load_epochs_from_file(file)\n",
    "\n",
    "        # and compute participant's id from file_name\n",
    "        participant_id = re.match(r\".*GNG-(\\d+).*\", file).group(1)\n",
    "\n",
    "        error = participant_epochs[\"error_response\"]._data\n",
    "        correct = participant_epochs[\"correct_response\"]._data\n",
    "\n",
    "        # exclude those participants who have too few samples\n",
    "        if len(error) < 5 or len(correct) < 5:\n",
    "            # not enough data for this participant\n",
    "            continue\n",
    "\n",
    "        # construct dataframe for participant with: id|epoch_data|response_type|additional info...\n",
    "        participant_df = create_df_from_epochs(\n",
    "            participant_id, participant_epochs, info_filename, info\n",
    "        )\n",
    "        print(participant_id)\n",
    "        go_nogo_data_df = go_nogo_data_df.append(participant_df, ignore_index=True)\n",
    "\n",
    "    return go_nogo_data_df"
   ]
  },
  {
   "cell_type": "code",
   "execution_count": null,
   "id": "7",
   "metadata": {},
   "outputs": [],
   "source": [
    "def create_df_from_epochs(id, participant_epochs, info_filename, info):\n",
    "    \"\"\"Create df for each participant. DF structure is like: {id: String ; epoch: epoch_data ; marker: 1.0|0.0}\n",
    "    1.0 means correct and 0.0 means error response.\n",
    "    Default info extracted form .csv file is 'Rumination Full Scale' and participants' ids.\n",
    "    With this info df structure is like:\n",
    "    {id: String ; epoch: epoch_data ; marker: 1.0|0.0 ; File: id ; 'Rumination Full Scale': int}\n",
    "\n",
    "    Parameters\n",
    "    ----------\n",
    "    id: String\n",
    "        participant's id extracted from filename\n",
    "    correct: array\n",
    "        correct responses' data\n",
    "    error: array\n",
    "        error responses' data\n",
    "    info_filename: String\n",
    "        path to .csv file with additional data.\n",
    "    info: array\n",
    "        listed parameters from the info file to be loaded.\n",
    "        if 'all', load all parameters\n",
    "\n",
    "    Returns\n",
    "    -------\n",
    "    participant_df : pandas.DataFrame\n",
    "\n",
    "    \"\"\"\n",
    "    participant_df = pd.DataFrame()\n",
    "    info_df = pd.DataFrame()\n",
    "\n",
    "    # get additional info from file\n",
    "    if info_filename is not None:\n",
    "        if info == \"all\":\n",
    "            rumination_df = pd.read_csv(info_filename, dtype={'Demo_kod': object})\n",
    "        else:\n",
    "            rumination_df = pd.read_csv(info_filename, usecols=[\"Demo_kod\"] + info, dtype={'Demo_kod': object})\n",
    "        info_df = (\n",
    "            rumination_df.loc[rumination_df[\"Demo_kod\"] == id]\n",
    "            .reset_index()\n",
    "            .drop(\"index\", axis=1)\n",
    "        )      \n",
    "    epoch_df = pd.DataFrame({\"id\": [id], \"epoch\": [participant_epochs]}).join(\n",
    "            info_df\n",
    "        )\n",
    "    participant_df = participant_df.append(epoch_df, ignore_index=True)\n",
    "\n",
    "    return participant_df"
   ]
  },
  {
   "cell_type": "code",
   "execution_count": null,
   "id": "8",
   "metadata": {
    "tags": []
   },
   "outputs": [],
   "source": [
    "def load_epochs_from_file(file, reject_bad_segments=\"auto\", mask=None):\n",
    "    \"\"\"Load epochs from a header file.\n",
    "\n",
    "    Args:\n",
    "        file: path to a header file (.vhdr)\n",
    "        reject_bad_segments: 'auto' means that bad segments are rejected automatically.\n",
    "\n",
    "    Returns:\n",
    "        mne Epochs\n",
    "\n",
    "    \"\"\"\n",
    "    # Import the BrainVision data into an MNE Raw object\n",
    "    raw = mne.io.read_raw_brainvision(file)\n",
    "\n",
    "    # Construct annotation filename\n",
    "    annot_file = file[:-4] + \"vmrk\"\n",
    "\n",
    "    # Read in the event information as MNE annotations\n",
    "    annotations = mne.read_annotations(annot_file)\n",
    "\n",
    "    # Add the annotations to our raw object so we can use them with the data\n",
    "    raw.set_annotations(annotations)\n",
    "\n",
    "    # Map with response markers only\n",
    "    # event_dict = {\n",
    "    #     \"Stimulus/RE*ex*1_n*1_c_1*R*FB\": 10004,\n",
    "    #     \"Stimulus/RE*ex*1_n*1_c_1*R*FG\": 10005,\n",
    "    #     \"Stimulus/RE*ex*1_n*1_c_2*R\": 10006,\n",
    "    #     \"Stimulus/RE*ex*1_n*2_c_1*R\": 10007,\n",
    "    #     \"Stimulus/RE*ex*2_n*1_c_1*R\": 10008,\n",
    "    #     \"Stimulus/RE*ex*2_n*2_c_1*R*FB\": 10009,\n",
    "    #     \"Stimulus/RE*ex*2_n*2_c_1*R*FG\": 10010,\n",
    "    #     \"Stimulus/RE*ex*2_n*2_c_2*R\": 10011,\n",
    "    # }\n",
    "    \n",
    "    event_dict = {\n",
    "        'Stimulus/RE*ex*1_n*1_c_1*R*FB': 10003,\n",
    "        'Stimulus/RE*ex*1_n*1_c_1*R*FG': 10004,\n",
    "        'Stimulus/RE*ex*1_n*1_c_2*R': 10005,\n",
    "        'Stimulus/RE*ex*1_n*2_c_1*R': 10006,\n",
    "        'Stimulus/RE*ex*2_n*1_c_1*R': 10007,\n",
    "        'Stimulus/RE*ex*2_n*2_c_1*R*FB': 10008,\n",
    "        'Stimulus/RE*ex*2_n*2_c_1*R*FG': 10009,\n",
    "        'Stimulus/RE*ex*2_n*2_c_2*R': 10010,\n",
    "    }\n",
    "\n",
    "    # Map for merged correct/error response markers\n",
    "    merged_event_dict = {\"correct_response\": 0, \"error_response\": 1}\n",
    "\n",
    "    # Reconstruct the original events from Raw object\n",
    "    events, event_ids = mne.events_from_annotations(raw, event_id=event_dict)\n",
    "\n",
    "    # Merge correct/error response events\n",
    "    merged_events = mne.merge_events(\n",
    "        events,\n",
    "        [10003, 10004, 10008, 10009],\n",
    "        merged_event_dict[\"correct_response\"],\n",
    "        replace_events=True,\n",
    "    )\n",
    "    merged_events = mne.merge_events(\n",
    "        merged_events,\n",
    "        [10005, 10006, 10007, 10010],\n",
    "        merged_event_dict[\"error_response\"],\n",
    "        replace_events=True,\n",
    "    )\n",
    "\n",
    "    epochs = []\n",
    "    bads = []\n",
    "    this_reject_by_annotation = False\n",
    "    \n",
    "    # Read epochs\n",
    "    epochs = mne.Epochs(\n",
    "        raw=raw,\n",
    "        events=merged_events,\n",
    "        event_id=merged_event_dict,\n",
    "        tmin=tmin,\n",
    "        tmax=tmax,\n",
    "        baseline=None,\n",
    "        reject_by_annotation=this_reject_by_annotation,\n",
    "        preload=True,\n",
    "    )\n",
    "    \n",
    "    ar = AutoReject(random_state=random_state, n_jobs=10, verbose=0)\n",
    "    epochs_ar, reject_log = ar.fit_transform(epochs, return_log=True)\n",
    "\n",
    "    # reject trials bad at Fz\n",
    "    idx = reject_log.ch_names.index('Fz')\n",
    "    mask = (reject_log.labels[:,idx] == 1)\n",
    "    epochs_ar.drop(mask)\n",
    "    \n",
    "    print(f'Reject {len(np.where(mask == True)[0])} trials bad at Fz')    \n",
    "    \n",
    "    return epochs_ar"
   ]
  },
  {
   "cell_type": "markdown",
   "id": "9",
   "metadata": {},
   "source": [
    "#### Read the data"
   ]
  },
  {
   "cell_type": "code",
   "execution_count": null,
   "id": "10",
   "metadata": {},
   "outputs": [],
   "source": [
    "def change_column_names(data_df):\n",
    "    columns_dict = {\n",
    "        \"16-Rumination Full Scale\": \"RRQ\", # mean\n",
    "        \"05-DASS-21 Anxiety scale\": \"DASS-21 Anx\", # mean\n",
    "        \"05-DASS-21 Stress scale\": \"DASS-21 Stress\", # mean\n",
    "        \"05-DASS-21 Depression scale\": \"DASS-21 Dep\", # mean\n",
    "        \"04-STAI Trait MEAN\": \"STAI-T_M\", # mean\n",
    "        \"04-STAI STATE 1-2 DIFFERENCE\": \"STAI-S Diff\", # sum\n",
    "        \"number_error\" : \"uninhibited response\", # sum\n",
    "        \"number_inhibited\" : \"inhibited response\", # sum\n",
    "        \"04-STAI Trait SUM\": \"STAI-T\", # sum\n",
    "        \"07-BIS\": \"BIS\", # mean\n",
    "        \"14-Obsessive-Compulsive WASHING\": \"WASH\", # mean\n",
    "        \"14-Obsessive-Compulsive OBSESSING\": \"OBSESS\", # mean\n",
    "        \"14-Obsessive-Compulsive HOARDING\": \"HOARD\", # mean\n",
    "        \"14-Obsessive-Compulsive ORDERING\": \"ORD\", # mean\n",
    "        \"14-Obsessive-Compulsive CHECKING\": \"CHECK\", # mean\n",
    "        \"14-Obsessive-Compulsive NEUTRALIZING\": \"NEU\", # mean\n",
    "        \"18-Thought Suppression Inventory\": \"WBSI\", # mean\n",
    "        \"28-Intolerance of Uncertainty - Prospective Anxiety\": \"IUS-P\", # mean\n",
    "        \"28-Intolerance of Uncertainty - Inhibitory Anxiety\": \"IUS-I\", # mean\n",
    "        \"06-Self-Esteem Scale_SES Rosenberga\": \"SES\", # mean\n",
    "        \"07-BAS Dzialanie\": 'BAS_D', # mean\n",
    "        \"07-BAS Poszukiwanie przyjemnosci\": 'BAS_PRZY', # mean\n",
    "        \"07-BAS Wrazliwosc na nagrode\": 'BAS_NAG', # mean\n",
    "        \"22-Nonforgiveness - Full Scale\": 'NONFOR',\n",
    "        \"27-Indecisiveness Scale_Frost\": 'INDEC_F', # mean\n",
    "        \"03-SP (Punishment Sensitivity)\": 'PUN', # sum\n",
    "        \"03-SR (Reward Sensitivity)\": 'REW', # sum\n",
    "        \"15-Obsessional Beliefs - Inflated responsibility for harm\": 'HARM', # mean\n",
    "        \"15-Obsessional Beliefs - Importance/Control of Thoughts\": 'T-CTR', # mean\n",
    "        \"15-Obsessional Beliefs - Overestimation of threat\": \"OT\", # mean\n",
    "        \"15-Obsessional Beliefs - Perfectionism/ Intolerance of uncertainty\": 'OB_PERF', # mean\n",
    "        \"17-Perfectionism CMDA\": 'CMDA', # mean\n",
    "        \"17-Perfect PS-Personal Standards (7 items mean)\" : 'PS', # mean\n",
    "        \"19-Guilt sensitivity\": 'G_SE', # mean\n",
    "        \"31-NFC Nietolerancja wieloznaczności-FULL\": 'AMB', # mean\n",
    "        \"31-NFC Preferowanie przewidywalności-FULL\": 'PRED', # mean\n",
    "        \"32-High standards from Maximization Full Scale\" : 'STAND',   # mean\n",
    "        \"Wiek\": \"Age\",\n",
    "        \"Płeć\": \"Sex\",\n",
    "        \"Ręczność\": \"Handness\",    \n",
    "\n",
    "        #######\n",
    "        \"Rumination Full Scale\": \"RRQ\",\n",
    "        \"DASS-21 Anxiety scale 0-SUM\": \"DASS-21 Anx\", # sum\n",
    "        \"DASS-21 Stress scale 0-SUM\": \"DASS-21 Stress\", # sum\n",
    "        \"DASS-21 Depression scale 0-SUM\": \"DASS-21 Dep\", # sum\n",
    "        \"number_error\": \"uninhibited response\", # sum\n",
    "        \"number_inhibited\":  \"inhibited response\", # sum\n",
    "        \"STAI STATE 1-2 DIFFERENCE\": \"STAI-S Diff\", # sum\n",
    "        \"STAI Trait SUM\": \"STAI-T\", # sum\n",
    "        \"BIS\": \"BIS\", # mean\n",
    "        \"Obsessive-Compulsive WASHING\": \"WASH\", # mean\n",
    "        \"Obsessive-Compulsive OBSESSING\": \"OBSESS\", # mean\n",
    "        \"Obsessive-Compulsive HOARDING\": \"HOARD\", # mean\n",
    "        \"Obsessive-Compulsive ORDERING\": \"ORD\", # mean\n",
    "        \"Obsessive-Compulsive CHECKING\": \"CHECK\", # mean\n",
    "        \"Obsessive-Compulsive NEUTRALIZING\": \"NEU\", # mean\n",
    "        \"Thought Suppression Inventory\": \"WBSI\", # mean\n",
    "        \"Intolerance of Uncertainty - Prospective Anxiety\": \"IUS-P\", # mean\n",
    "        \"Intolerance of Uncertainty - Inhibitory Anxiety\": \"IUS-I\", # mean\n",
    "        \"Self-Esteem Scale_SES Rosenberga MEAN\": \"SES\", # mean\n",
    "        \"BAS Dzialanie\": 'BAS_D', # mean # drive\n",
    "        \"BAS Poszukiwanie przyjemnosci\": 'BAS_PRZY', # mean # fun seeking\n",
    "        \"BAS Wrazliwosc na nagrode\": 'BAS_NAG', # mean # responsivness\n",
    "        \"Indecisiveness Scale_Frost\": 'INDEC_F', # mean\n",
    "        \"SP (Punishment Sensitivity)\": 'PUN', # sum\n",
    "        \"SR (Reward Sensitivity)\": 'REW', # sum\n",
    "        \"Obsessional Beliefs - Inflated responsibility for harm\": 'HARM', # mean\n",
    "        \"Obsessional Beliefs - Importance/Control of Thoughts\": 'T-CTR', # mean\n",
    "        \"Obsessional Beliefs - Overestimation of threat\": \"OT\", # mean\n",
    "        \"Obsessional Beliefs - Perfectionism/ Intolerance of uncertainty\": 'OB_PERF', # mean\n",
    "        \"Perfect PS-Personal Standards (7 items mean)\" : 'PS', # mean\n",
    "        \"Guilt sensitivity\": 'G_SE', # mean\n",
    "        \"Nietolerancja wieloznaczności-FULL\": 'AMB', # mean\n",
    "        \"Preferowanie przewidywalności-FULL\": 'PRED', # mean\n",
    "        \"High standards from Maximization Full Scale\" : 'STAND',   # mean\n",
    "    }\n",
    "\n",
    "    data_df = data_df.rename(columns=columns_dict)\n",
    "    return data_df"
   ]
  },
  {
   "cell_type": "markdown",
   "id": "11",
   "metadata": {},
   "source": [
    "- read Study 1 train data"
   ]
  },
  {
   "cell_type": "code",
   "execution_count": null,
   "id": "12",
   "metadata": {},
   "outputs": [],
   "source": [
    "# %%capture\n",
    "df_name = \"GNG_autoreject_3_5\"\n",
    "pickled_data_filename = \"../data/\" + df_name + \".pkl\"\n",
    "info_filename = \"../data/scales/all_scales_with_rt.csv\"\n",
    "\n",
    "\n",
    "# Check if data is already loaded\n",
    "if os.path.isfile(pickled_data_filename):\n",
    "    print(\"Pickled file found. Loading pickled data...\")\n",
    "    epochs_train_opus_df = pd.read_pickle(pickled_data_filename)\n",
    "    epochs_train_opus_df.name = df_name\n",
    "    epochs_train_opus_df = change_column_names(epochs_train_opus_df)\n",
    "    print(\"Done\")\n",
    "    pass\n",
    "else:\n",
    "    print(\"Pickled file not found. Loading data...\")\n",
    "    epochs_train_opus_df = create_df_data(\n",
    "        test_participants=False, info=\"all\", personal=False, info_filename=info_filename\n",
    "    )\n",
    "    epochs_train_opus_df.name = df_name\n",
    "    epochs_train_opus_df = change_column_names(epochs_train_opus_df)\n",
    "    \n",
    "    # save loaded data into a pickle file\n",
    "    epochs_train_opus_df.to_pickle(\"../data/\" + epochs_train_opus_df.name + \".pkl\")\n",
    "    print(\"Done. Pickle file created\")"
   ]
  },
  {
   "cell_type": "code",
   "execution_count": null,
   "id": "13",
   "metadata": {},
   "outputs": [],
   "source": [
    "epochs_train_opus_df.shape"
   ]
  },
  {
   "cell_type": "code",
   "execution_count": null,
   "id": "14",
   "metadata": {},
   "outputs": [],
   "source": [
    "epochs_train_opus_df['STAI-T'] = epochs_train_opus_df['STAI-T'].apply(lambda x: x/20)"
   ]
  },
  {
   "cell_type": "markdown",
   "id": "15",
   "metadata": {},
   "source": [
    "- read Study 2 train data"
   ]
  },
  {
   "cell_type": "code",
   "execution_count": null,
   "id": "16",
   "metadata": {},
   "outputs": [],
   "source": [
    "# %%capture\n",
    "df_name = \"GNG_autoreject_sonata_3_5_stai\"\n",
    "# df_name = \"GNG_reject_auto_3-5\"\n",
    "pickled_data_filename = \"../data/\" + df_name + \".pkl\"\n",
    "info_filename = \"../data/scales/Sonata_scales.csv\"\n",
    "\n",
    "\n",
    "# Check if data is already loaded\n",
    "if os.path.isfile(pickled_data_filename):\n",
    "    print(\"Pickled file found. Loading pickled data...\")\n",
    "    epochs_train_sonata_df = pd.read_pickle(pickled_data_filename)\n",
    "    epochs_train_sonata_df.name = df_name\n",
    "    epochs_train_sonata_df = change_column_names(epochs_train_sonata_df)\n",
    "    print(\"Done\")\n",
    "    pass\n",
    "else:\n",
    "    print(\"Pickled file not found. Loading data...\")\n",
    "    epochs_train_sonata_df = create_df_data(\n",
    "        test_participants=False, info=\"all\", personal=False, info_filename=info_filename\n",
    "    )\n",
    "    epochs_train_sonata_df.name = df_name\n",
    "    epochs_train_sonata_df = change_column_names(epochs_train_sonata_df)\n",
    "    \n",
    "    # save loaded data into a pickle file\n",
    "    epochs_train_sonata_df.to_pickle(\"../data/\" + epochs_train_sonata_df.name + \".pkl\")\n",
    "    print(\"Done. Pickle file created\")"
   ]
  },
  {
   "cell_type": "code",
   "execution_count": null,
   "id": "17",
   "metadata": {},
   "outputs": [],
   "source": [
    "epochs_train_sonata_df.shape"
   ]
  },
  {
   "cell_type": "markdown",
   "id": "18",
   "metadata": {},
   "source": [
    "Refine some data from questionnaries to reconcile data from two datasets"
   ]
  },
  {
   "cell_type": "code",
   "execution_count": null,
   "id": "19",
   "metadata": {},
   "outputs": [],
   "source": [
    "epochs_train_sonata_df.loc[epochs_train_sonata_df['Sex'] == 'Osoba niebinarna', 'Sex'] = 0.5"
   ]
  },
  {
   "cell_type": "code",
   "execution_count": null,
   "id": "20",
   "metadata": {},
   "outputs": [],
   "source": [
    "# normalize DASS-21 subscales scores to mean\n",
    "epochs_train_sonata_df['DASS-21 Stress'] = epochs_train_sonata_df['DASS-21 Stress'].apply(lambda x: (x + 7)/7)\n",
    "epochs_train_sonata_df['DASS-21 Anx'] = epochs_train_sonata_df['DASS-21 Anx'].apply(lambda x: (x + 7)/7)\n",
    "epochs_train_sonata_df['DASS-21 Dep'] = epochs_train_sonata_df['DASS-21 Dep'].apply(lambda x: (x + 7)/7)"
   ]
  },
  {
   "cell_type": "code",
   "execution_count": null,
   "id": "21",
   "metadata": {},
   "outputs": [],
   "source": [
    "# normalize STAI state scale to mean (divide by amount of items in subscale)\n",
    "epochs_train_sonata_df['STAI-T'] = epochs_train_sonata_df['STAI-T'].apply(lambda x: x/20)"
   ]
  },
  {
   "cell_type": "code",
   "execution_count": null,
   "id": "22",
   "metadata": {},
   "outputs": [],
   "source": [
    "# fill missing value in STAI-S Diff score\n",
    "epochs_train_sonata_df.loc[epochs_train_sonata_df['STAI-S Diff'] == 'None', 'STAI-S Diff'] = None\n",
    "epochs_train_sonata_df['STAI-S Diff'] = np.array(epochs_train_sonata_df['STAI-S Diff'].to_list()).astype(np.float) "
   ]
  },
  {
   "cell_type": "code",
   "execution_count": null,
   "id": "23",
   "metadata": {
    "tags": []
   },
   "outputs": [],
   "source": [
    "epochs_train_sonata_df['STAI-S Diff'] = epochs_train_sonata_df['STAI-S Diff'].fillna(epochs_train_sonata_df['STAI-S Diff'].mean())"
   ]
  },
  {
   "cell_type": "markdown",
   "id": "24",
   "metadata": {},
   "source": [
    "#### Read data for external testing"
   ]
  },
  {
   "cell_type": "markdown",
   "id": "25",
   "metadata": {},
   "source": [
    "- read Study 1 test"
   ]
  },
  {
   "cell_type": "code",
   "execution_count": null,
   "id": "26",
   "metadata": {},
   "outputs": [],
   "source": [
    "# %%capture\n",
    "df_name = \"GNG_autoreject_3_5_test_performance\"\n",
    "pickled_data_filename = \"../data/\" + df_name + \".pkl\"\n",
    "info_filename = \"../data/scales/all_scales_with_rt.csv\"\n",
    "\n",
    "\n",
    "# Check if data is already loaded\n",
    "if os.path.isfile(pickled_data_filename):\n",
    "    print(\"Pickled file found. Loading pickled data...\")\n",
    "    epochs_test_opus_df = pd.read_pickle(pickled_data_filename)\n",
    "    epochs_test_opus_df.name = df_name\n",
    "    epochs_test_opus_df = change_column_names(epochs_test_opus_df)\n",
    "    print(\"Done\")\n",
    "else:\n",
    "    print(\"Pickled file not found. Loading data...\")\n",
    "    epochs_test_opus_df = create_df_data(\n",
    "        test_participants=True, info=\"all\", personal=False, info_filename=info_filename\n",
    "    )\n",
    "    epochs_test_opus_df.name = df_name\n",
    "    epochs_test_opus_df = change_column_names(epochs_test_opus_df)\n",
    "    \n",
    "    # save loaded data into a pickle file\n",
    "    epochs_test_opus_df.to_pickle(\"../data/\" + epochs_test_opus_df.name + \".pkl\")\n",
    "    print(\"Done. Pickle file created\")"
   ]
  },
  {
   "cell_type": "code",
   "execution_count": null,
   "id": "27",
   "metadata": {},
   "outputs": [],
   "source": [
    "epochs_test_opus_df.shape"
   ]
  },
  {
   "cell_type": "code",
   "execution_count": null,
   "id": "28",
   "metadata": {},
   "outputs": [],
   "source": [
    "epochs_test_opus_df['STAI-T'] = epochs_test_opus_df['STAI-T'].apply(lambda x: x/20)"
   ]
  },
  {
   "cell_type": "markdown",
   "id": "29",
   "metadata": {},
   "source": [
    "- read Study 2 test"
   ]
  },
  {
   "cell_type": "code",
   "execution_count": null,
   "id": "30",
   "metadata": {},
   "outputs": [],
   "source": [
    "# %%capture\n",
    "df_name = \"GNG_autoreject_sonata_3_5_test_stai\"\n",
    "pickled_data_filename = \"../data/\" + df_name + \".pkl\"\n",
    "info_filename = \"../data/scales/Sonata_scales.csv\"\n",
    "\n",
    "\n",
    "# Check if data is already loaded\n",
    "if os.path.isfile(pickled_data_filename):\n",
    "    print(\"Pickled file found. Loading pickled data...\")\n",
    "    epochs_test_sonata_df = pd.read_pickle(pickled_data_filename)\n",
    "    epochs_test_sonata_df.name = df_name\n",
    "    epochs_test_sonata_df = change_column_names(epochs_test_sonata_df)\n",
    "    print(\"Done\")\n",
    "else:\n",
    "    print(\"Pickled file not found. Loading data...\")\n",
    "    epochs_test_sonata_df = create_df_data(\n",
    "        test_participants=True, info=\"all\", personal=False, info_filename=info_filename\n",
    "    )\n",
    "    epochs_test_sonata_df.name = df_name\n",
    "    epochs_test_sonata_df = change_column_names(epochs_test_sonata_df)\n",
    "    \n",
    "    # save loaded data into a pickle file\n",
    "    epochs_test_sonata_df.to_pickle(\"../data/\" + epochs_test_sonata_df.name + \".pkl\")\n",
    "    print(\"Done. Pickle file created\")"
   ]
  },
  {
   "cell_type": "code",
   "execution_count": null,
   "id": "31",
   "metadata": {},
   "outputs": [],
   "source": [
    "epochs_test_sonata_df.shape"
   ]
  },
  {
   "cell_type": "markdown",
   "id": "32",
   "metadata": {},
   "source": [
    "Refine some data from questionnaries to reconcile data from two datasets"
   ]
  },
  {
   "cell_type": "code",
   "execution_count": null,
   "id": "33",
   "metadata": {},
   "outputs": [],
   "source": [
    "epochs_test_sonata_df.loc[epochs_test_sonata_df['Sex'] == 'Osoba niebinarna', 'Sex'] = 0.5"
   ]
  },
  {
   "cell_type": "code",
   "execution_count": null,
   "id": "34",
   "metadata": {},
   "outputs": [],
   "source": [
    "# normalize DASS-21 subscales scores to mean\n",
    "epochs_test_sonata_df['DASS-21 Stress'] = epochs_test_sonata_df['DASS-21 Stress'].apply(lambda x: (x + 7)/7)\n",
    "epochs_test_sonata_df['DASS-21 Anx'] = epochs_test_sonata_df['DASS-21 Anx'].apply(lambda x: (x + 7)/7)\n",
    "epochs_test_sonata_df['DASS-21 Dep'] = epochs_test_sonata_df['DASS-21 Dep'].apply(lambda x: (x + 7)/7)"
   ]
  },
  {
   "cell_type": "code",
   "execution_count": null,
   "id": "35",
   "metadata": {},
   "outputs": [],
   "source": [
    "# normalize STAI state scale to mean (divide by amount of items in subscale)\n",
    "epochs_test_sonata_df['STAI-T'] = epochs_test_sonata_df['STAI-T'].apply(lambda x: x/20)"
   ]
  },
  {
   "cell_type": "code",
   "execution_count": null,
   "id": "36",
   "metadata": {},
   "outputs": [],
   "source": [
    "# fill missing value in STAI-S Diff score\n",
    "epochs_test_sonata_df.loc[epochs_test_sonata_df['STAI-S Diff'] == 'None', 'STAI-S Diff'] = None\n",
    "epochs_test_sonata_df['STAI-S Diff'] = np.array(epochs_test_sonata_df['STAI-S Diff'].to_list()).astype(np.float) "
   ]
  },
  {
   "cell_type": "code",
   "execution_count": null,
   "id": "37",
   "metadata": {
    "tags": []
   },
   "outputs": [],
   "source": [
    "epochs_test_sonata_df['STAI-S Diff'] = epochs_test_sonata_df['STAI-S Diff'].fillna(epochs_test_sonata_df['STAI-S Diff'].mean())"
   ]
  },
  {
   "cell_type": "markdown",
   "id": "38",
   "metadata": {
    "tags": []
   },
   "source": [
    "## Merge dataframes"
   ]
  },
  {
   "cell_type": "code",
   "execution_count": null,
   "id": "39",
   "metadata": {},
   "outputs": [],
   "source": [
    "opus_columns_list = epochs_train_opus_df.columns.to_list()\n",
    "sonata_columns_list = epochs_train_sonata_df.columns.to_list()\n",
    "\n",
    "columns = list(set(opus_columns_list) & set(sonata_columns_list))"
   ]
  },
  {
   "cell_type": "code",
   "execution_count": null,
   "id": "40",
   "metadata": {},
   "outputs": [],
   "source": [
    "epochs_train_sonata_df = epochs_train_sonata_df[columns]\n",
    "epochs_train_opus_df = epochs_train_opus_df[columns]\n",
    "\n",
    "epochs_test_sonata_df = epochs_test_sonata_df[columns]\n",
    "epochs_test_opus_df = epochs_test_opus_df[columns]"
   ]
  },
  {
   "cell_type": "markdown",
   "id": "41",
   "metadata": {},
   "source": [
    "Create train and test data"
   ]
  },
  {
   "cell_type": "code",
   "execution_count": null,
   "id": "42",
   "metadata": {},
   "outputs": [],
   "source": [
    "epochs_train_df = pd.concat([epochs_train_sonata_df, epochs_train_opus_df], ignore_index=True)\n",
    "epochs_test_df = pd.concat([epochs_test_sonata_df, epochs_test_opus_df], ignore_index=True)"
   ]
  },
  {
   "cell_type": "markdown",
   "id": "43",
   "metadata": {},
   "source": [
    "#### Chose dataset"
   ]
  },
  {
   "cell_type": "code",
   "execution_count": null,
   "id": "44",
   "metadata": {},
   "outputs": [],
   "source": [
    "test = False\n",
    "dataset = 'test' if test else 'train'"
   ]
  },
  {
   "cell_type": "code",
   "execution_count": null,
   "id": "45",
   "metadata": {},
   "outputs": [],
   "source": [
    "epochs_df = epochs_train_df if not test else epochs_test_df"
   ]
  },
  {
   "cell_type": "markdown",
   "id": "46",
   "metadata": {},
   "source": [
    "### Remove subject with low signal consistency"
   ]
  },
  {
   "cell_type": "code",
   "execution_count": null,
   "id": "47",
   "metadata": {},
   "outputs": [],
   "source": [
    "within_consistency_ern_df = pd.read_csv(f'../new_results/consistency_tests/{dataset}/ern_amplitude_within.csv')\n",
    "internal_consistency_ern_df = pd.read_csv(f'../new_results/consistency_tests/{dataset}/ern_amplitude_consistency.csv')\n",
    "within_consistency_crn_df = pd.read_csv(f'../new_results/consistency_tests/{dataset}/crn_amplitude_within.csv')\n",
    "internal_consistency_crn_df = pd.read_csv(f'../new_results/consistency_tests/{dataset}/crn_amplitude_consistency.csv')\n",
    "\n",
    "\n",
    "consistency_ern_df = within_consistency_ern_df.merge(internal_consistency_ern_df, on ='Unnamed: 0')\n",
    "consistency_ern_df = consistency_ern_df[consistency_ern_df['pipeline_x'] == 'Fz']\n",
    "\n",
    "consistency_crn_df = within_consistency_crn_df.merge(internal_consistency_crn_df, on ='Unnamed: 0')\n",
    "consistency_crn_df = consistency_crn_df[consistency_crn_df['pipeline_x'] == 'Fz']\n",
    "\n",
    "consistency_df = consistency_ern_df.merge(consistency_crn_df, on='id', suffixes=('_ern', '_crn'))\n",
    "# consistency_df = consistency_df.rename(columns={'id_x': 'id'})\n",
    "consistency_df.head()"
   ]
  },
  {
   "cell_type": "markdown",
   "id": "48",
   "metadata": {},
   "source": [
    "Plot relationship between consistency and number of trials"
   ]
  },
  {
   "cell_type": "code",
   "execution_count": null,
   "id": "49",
   "metadata": {},
   "outputs": [],
   "source": [
    "fig = sns.scatterplot(\n",
    "    consistency_df,\n",
    "    x='num_trials_ern',\n",
    "    y='internal_variance_ern'\n",
    ")\n",
    "\n",
    "plt.axhline(y=.7)"
   ]
  },
  {
   "cell_type": "markdown",
   "id": "50",
   "metadata": {},
   "source": [
    "Filter data"
   ]
  },
  {
   "cell_type": "code",
   "execution_count": null,
   "id": "51",
   "metadata": {},
   "outputs": [],
   "source": [
    "exclude_consistency = True"
   ]
  },
  {
   "cell_type": "code",
   "execution_count": null,
   "id": "52",
   "metadata": {},
   "outputs": [],
   "source": [
    "threshold_consistency = 0.7\n",
    "\n",
    "if exclude_consistency:\n",
    "    epochs_df = epochs_df.merge(consistency_df[['internal_variance_ern', 'internal_variance_crn', 'id']], on='id')\n",
    "    epochs_df = epochs_df[\n",
    "        (epochs_df['internal_variance_ern'] >= threshold_consistency) &\n",
    "        (epochs_df['internal_variance_crn'] >= threshold_consistency)\n",
    "    ]\n",
    "    \n",
    "epochs_df"
   ]
  },
  {
   "cell_type": "markdown",
   "id": "53",
   "metadata": {},
   "source": [
    "## Explore data"
   ]
  },
  {
   "cell_type": "markdown",
   "id": "54",
   "metadata": {},
   "source": [
    "- average number of responses in the train and test sets"
   ]
  },
  {
   "cell_type": "code",
   "execution_count": null,
   "id": "55",
   "metadata": {},
   "outputs": [],
   "source": [
    "error_len = epochs_df['epoch'].map(lambda x: len(x['error_response'].get_data())).to_numpy()\n",
    "correct_len = epochs_df['epoch'].map(lambda x: len(x['correct_response'].get_data())).to_numpy()"
   ]
  },
  {
   "cell_type": "code",
   "execution_count": null,
   "id": "56",
   "metadata": {},
   "outputs": [],
   "source": [
    "print(f\"AVG number of incorrect responses in the train set: {np.mean(error_len)} (SD={np.std(error_len)})\")\n",
    "print(f\"AVG number of correct responses in the train set: {np.mean(correct_len)} (SD={np.std(correct_len)})\")"
   ]
  },
  {
   "cell_type": "code",
   "execution_count": null,
   "id": "57",
   "metadata": {},
   "outputs": [],
   "source": [
    "error_len = epochs_df['epoch'].map(lambda x: len(x['error_response'].get_data())).to_numpy()\n",
    "correct_len = epochs_df['epoch'].map(lambda x: len(x['correct_response'].get_data())).to_numpy()"
   ]
  },
  {
   "cell_type": "code",
   "execution_count": null,
   "id": "58",
   "metadata": {},
   "outputs": [],
   "source": [
    "print(f\"AVG number of incorrect responses in the test set: {np.mean(error_len)} (SD={np.std(error_len)})\")\n",
    "print(f\"AVG number of correct responses in the test set: {np.mean(correct_len)} (SD={np.std(correct_len)})\")"
   ]
  },
  {
   "cell_type": "markdown",
   "id": "59",
   "metadata": {},
   "source": [
    "- difference in the 0-100 ms window between conditions"
   ]
  },
  {
   "cell_type": "code",
   "execution_count": null,
   "id": "60",
   "metadata": {},
   "outputs": [],
   "source": [
    "roi = [\"Fz\"]"
   ]
  },
  {
   "cell_type": "code",
   "execution_count": null,
   "id": "61",
   "metadata": {},
   "outputs": [],
   "source": [
    "epochs_df_copy = pd.DataFrame(copy.deepcopy(epochs_df.to_dict()))\n",
    "\n",
    "ern_pipeline = Pipeline([\n",
    "    (\"channels_extraction\",PickChannels(channels_list=roi)),\n",
    "    (\"trim\", EpochTrim(tmin=0, tmax=0.1)),\n",
    "    (\"average\", Evoked()),\n",
    "    ('extract_averaged_data', ExtractData()),\n",
    "    (\"mean_amplitude\", AverageSignal()),\n",
    "    \n",
    "]).fit(epochs_df_copy)\n",
    "\n",
    "preprocessed_X_ern_train = ern_pipeline.transform(epochs_df_copy)"
   ]
  },
  {
   "cell_type": "code",
   "execution_count": null,
   "id": "62",
   "metadata": {},
   "outputs": [],
   "source": [
    "epochs_df_copy = pd.DataFrame(copy.deepcopy(epochs_df.to_dict()))\n",
    "\n",
    "crn_pipeline = Pipeline([\n",
    "   (\"channels_extraction\",PickChannels(channels_list=roi)),\n",
    "    (\"trim\", EpochTrim(tmin=0, tmax=0.1)),\n",
    "    (\"average\", Evoked(condition='correct_response')),\n",
    "    ('extract_averaged_data', ExtractData()),\n",
    "    (\"mean_amplitude\", AverageSignal()),\n",
    "    \n",
    "]).fit(epochs_df_copy)\n",
    "\n",
    "preprocessed_X_crn_train = crn_pipeline.transform(epochs_df_copy)"
   ]
  },
  {
   "cell_type": "code",
   "execution_count": null,
   "id": "63",
   "metadata": {},
   "outputs": [],
   "source": [
    "epochs_df_copy = pd.DataFrame(copy.deepcopy(epochs_df.to_dict()))\n",
    "\n",
    "ern_pipeline = Pipeline([\n",
    "    (\"channels_extraction\",PickChannels(channels_list=roi)),\n",
    "    (\"trim\", EpochTrim(tmin=0, tmax=0.1)),\n",
    "    (\"average\", Evoked()),\n",
    "    ('extract_averaged_data', ExtractData()),\n",
    "    (\"mean_amplitude\", AverageSignal()),\n",
    "    \n",
    "]).fit(epochs_df_copy)\n",
    "\n",
    "preprocessed_X_ern_test = ern_pipeline.transform(epochs_df_copy)"
   ]
  },
  {
   "cell_type": "code",
   "execution_count": null,
   "id": "64",
   "metadata": {},
   "outputs": [],
   "source": [
    "epochs_df_copy = pd.DataFrame(copy.deepcopy(epochs_df.to_dict()))\n",
    "\n",
    "crn_pipeline = Pipeline([\n",
    "   (\"channels_extraction\",PickChannels(channels_list=roi)),\n",
    "    (\"trim\", EpochTrim(tmin=0, tmax=0.1)),\n",
    "    (\"average\", Evoked(condition='correct_response')),\n",
    "    ('extract_averaged_data', ExtractData()),\n",
    "    (\"mean_amplitude\", AverageSignal()),\n",
    "    \n",
    "]).fit(epochs_df_copy)\n",
    "\n",
    "preprocessed_X_crn_test = crn_pipeline.transform(epochs_df_copy)"
   ]
  },
  {
   "cell_type": "code",
   "execution_count": null,
   "id": "65",
   "metadata": {},
   "outputs": [],
   "source": [
    "scipy.stats.ttest_rel(preprocessed_X_ern_train, preprocessed_X_crn_train)"
   ]
  },
  {
   "cell_type": "code",
   "execution_count": null,
   "id": "66",
   "metadata": {},
   "outputs": [],
   "source": [
    "scipy.stats.ttest_rel(preprocessed_X_ern_test, preprocessed_X_crn_test)"
   ]
  },
  {
   "cell_type": "markdown",
   "id": "67",
   "metadata": {},
   "source": [
    "- Visualization of ERPs"
   ]
  },
  {
   "cell_type": "code",
   "execution_count": null,
   "id": "68",
   "metadata": {},
   "outputs": [],
   "source": [
    "chs = [\n",
    "'Fp1',\n",
    " 'AF7',\n",
    " 'AF3',\n",
    " 'F1',\n",
    " 'F3',\n",
    " 'F5',\n",
    " 'F7',\n",
    " 'FT7',\n",
    " 'FC5',\n",
    " 'FC3',\n",
    " 'FC1',\n",
    " 'C1',\n",
    " 'C3',\n",
    " 'C5',\n",
    " 'T7',\n",
    " 'TP7',\n",
    " 'CP5',\n",
    " 'CP3',\n",
    " 'CP1',\n",
    " 'P1',\n",
    " 'P3',\n",
    " 'P5',\n",
    " 'P7',\n",
    " 'P9',\n",
    " 'PO7',\n",
    " 'PO3',\n",
    " 'O1',\n",
    " 'Iz',\n",
    " 'Oz',\n",
    " 'POz',\n",
    " 'Pz',\n",
    " 'CPz',\n",
    " 'Fpz',\n",
    " 'Fp2',\n",
    " 'AF8',\n",
    " 'AF4',\n",
    " 'AFz',\n",
    " 'Fz',\n",
    " 'F2',\n",
    " 'F4',\n",
    " 'F6',\n",
    " 'F8',\n",
    " 'FT8',\n",
    " 'FC6',\n",
    " 'FC4',\n",
    " 'FC2',\n",
    " 'FCz',\n",
    " 'C2',\n",
    " 'C4',\n",
    " 'C6',\n",
    " 'T8',\n",
    " 'TP8',\n",
    " 'CP6',\n",
    " 'CP4',\n",
    " 'CP2',\n",
    " 'P2',\n",
    " 'P4',\n",
    " 'P6',\n",
    " 'P8',\n",
    " 'P10',\n",
    " 'PO8',\n",
    " 'PO4',\n",
    " 'O2',\n",
    " 'Cz']"
   ]
  },
  {
   "cell_type": "code",
   "execution_count": null,
   "id": "69",
   "metadata": {},
   "outputs": [],
   "source": [
    "channel = chs\n",
    "epochs_chs = epochs_df['epoch'].map(lambda x: x.copy().pick(channel)).to_list()\n",
    "all_epochs = mne.concatenate_epochs(epochs_chs)\n",
    "\n",
    "error_evokes = all_epochs['error_response'].average()\n",
    "correct_evokes = all_epochs['correct_response'].average()"
   ]
  },
  {
   "cell_type": "markdown",
   "id": "70",
   "metadata": {},
   "source": [
    "ERN and CRN waveforms"
   ]
  },
  {
   "cell_type": "code",
   "execution_count": null,
   "id": "71",
   "metadata": {},
   "outputs": [],
   "source": [
    "# plot parameters\n",
    "cm = 1/2.54\n",
    "dpi = 500\n",
    "\n",
    "plt.rc('font', size=3)\n",
    "sns.set_style(\"ticks\")\n",
    "plt.rcParams['figure.dpi'] = dpi\n",
    "plt.rcParams['ytick.labelsize'] = 5\n",
    "plt.rcParams['xtick.labelsize'] = 5\n",
    "plt.rcParams['axes.labelsize'] = 6\n",
    "plt.rcParams[\"axes.edgecolor\"] = \".15\"\n",
    "plt.rcParams[\"axes.linewidth\"]  = 0.5\n",
    "plt.rcParams['lines.linewidth'] = 1\n",
    "plt.rcParams['axes.spines.bottom']= True\n",
    "plt.rcParams['axes.spines.left']= True\n",
    "plt.rcParams['axes.spines.right'] = True\n",
    "plt.rcParams['axes.spines.top'] = True\n",
    "plt.rcParams['axes.titlesize'] = 6\n",
    "plt.rcParams['figure.frameon'] = True\n",
    "plt.rc('legend',fontsize=4)\n",
    "plt.rcParams['axes.titlepad'] = 0.2\n",
    "plt.rcParams['axes.labelpad'] = 2\n",
    "plt.rcParams['axes.titlepad'] = 0.2\n",
    "\n",
    "# create canvas\n",
    "fig = plt.figure(figsize=(7*cm, 3*cm))\n",
    "ax = fig.add_axes([0,0,1,1], zorder=-1)\n",
    "\n",
    "# add axes from topo maps\n",
    "topo_axis = fig.add_axes([0.6,0.7,0.4,0.4], anchor='NE', zorder=2)\n",
    "topo_axis_cbar = fig.add_axes([0.1,0.12,10,200], anchor='NE', zorder=10)\n",
    "\n",
    "# plot topomap\n",
    "topo_fig = error_evokes.plot_topomap(\n",
    "    times=.05, \n",
    "    average = .103,\n",
    "    res=300,\n",
    "    # size=0.5,\n",
    "    show=False,\n",
    "    axes=[topo_axis,topo_axis_cbar],\n",
    "    contours=6,\n",
    "    extrapolate='head',\n",
    "    time_format=\"%01d\",\n",
    "    time_unit='ms',\n",
    "    sensors=True,\n",
    "    vlim=(-10,10)\n",
    ")\n",
    "\n",
    "topo_axis_cbar.remove()\n",
    "topo_axis.set_title('', size=7, pad=4) # Title\n",
    "plt.setp(topo_axis.lines , linewidth=0.3)\n",
    "\n",
    "# Define the colors for each condition\n",
    "colors = {\n",
    "    'correct': '#c94641',\n",
    "    'error': '#2166ac',\n",
    "}\n",
    "\n",
    "# plot condition wavelines\n",
    "fig_list = mne.viz.plot_compare_evokeds(\n",
    "    dict(correct=correct_evokes, error=error_evokes),\n",
    "    picks='Fz',\n",
    "    legend='upper left',\n",
    "    show_sensors=False,\n",
    "    time_unit='ms',\n",
    "    show=False,\n",
    "    axes=ax,\n",
    "    colors=colors,\n",
    "    ylim=dict(eeg=[-15, 18]),\n",
    "    invert_y=True,\n",
    ")\n",
    "# change the linewidth of the sensors\n",
    "for coll in topo_axis.collections:\n",
    "    if coll.get_label() == '_child10':\n",
    "        coll.set_linewidth(.3)  \n",
    "        break\n",
    "\n",
    "fig_list[0].axes[0].tick_params(axis='x', direction='in', length=2.5, width=1)\n",
    "fig_list[0].axes[0].tick_params(axis='y', direction='out', length=2.5, width=1)\n",
    "\n",
    "plt.show()\n",
    "\n",
    "# fig.savefig(f'waveforms', bbox_inches='tight', pad_inches=0.01)"
   ]
  },
  {
   "cell_type": "markdown",
   "id": "72",
   "metadata": {},
   "source": [
    "With CRN"
   ]
  },
  {
   "cell_type": "code",
   "execution_count": null,
   "id": "73",
   "metadata": {},
   "outputs": [],
   "source": [
    "diff = error_evokes.get_data() - correct_evokes.get_data()\n",
    "diff_evokeds = mne.EvokedArray(diff, info = error_evokes.info, tmin = error_evokes.tmin,)"
   ]
  },
  {
   "cell_type": "code",
   "execution_count": null,
   "id": "74",
   "metadata": {},
   "outputs": [],
   "source": [
    "# plot parameters\n",
    "cm = 1/2.54\n",
    "dpi = 500\n",
    "\n",
    "plt.rc('font', size=3)\n",
    "sns.set_style(\"ticks\")\n",
    "plt.rcParams['figure.dpi'] = dpi\n",
    "plt.rcParams['ytick.labelsize'] = 5\n",
    "plt.rcParams['xtick.labelsize'] = 5\n",
    "plt.rcParams['axes.labelsize'] = 6\n",
    "plt.rcParams[\"axes.edgecolor\"] = \".15\"\n",
    "plt.rcParams[\"axes.linewidth\"]  = 0.5\n",
    "plt.rcParams['lines.linewidth'] = 1\n",
    "plt.rcParams['axes.spines.bottom']= True\n",
    "plt.rcParams['axes.spines.left']= True\n",
    "plt.rcParams['axes.spines.right'] = True\n",
    "plt.rcParams['axes.spines.top'] = True\n",
    "plt.rcParams['axes.titlesize'] = 6\n",
    "plt.rcParams['figure.frameon'] = True\n",
    "plt.rc('legend',fontsize=4)\n",
    "plt.rcParams['axes.titlepad'] = 0.2\n",
    "plt.rcParams['axes.labelpad'] = 2\n",
    "plt.rcParams['axes.titlepad'] = 0.2\n",
    "\n",
    "# create canvas\n",
    "fig = plt.figure(figsize=(7*cm, 3*cm))\n",
    "ax = fig.add_axes([0,0,1,1], zorder=-1)\n",
    "\n",
    "# add axes from topo maps\n",
    "topo_axis = fig.add_axes([0.6,0.7,0.35,0.35], anchor='NE', zorder=2)\n",
    "topo_axis_cbar = fig.add_axes([1,.64,.02,0.37], anchor='NE', zorder=10)\n",
    "\n",
    "# plot topomap\n",
    "topo_fig = error_evokes.plot_topomap(\n",
    "    times=.05, \n",
    "    average = .103,\n",
    "    res=300,\n",
    "    # size=0.5,\n",
    "    show=False,\n",
    "    axes=[topo_axis,topo_axis_cbar],\n",
    "    contours=6,\n",
    "    extrapolate='head',\n",
    "    time_format=\"%01d\",\n",
    "    time_unit='ms',\n",
    "    sensors=True,\n",
    "    vlim=(-5,5)\n",
    ")\n",
    "\n",
    "topo_axis.set_title('', size=7, pad=4) # Title\n",
    "plt.setp(topo_axis.lines , linewidth=0.3)\n",
    "\n",
    "# change the linewidth of the sensors\n",
    "for coll in topo_axis.collections:\n",
    "    if coll.get_label() == '_child10':\n",
    "        coll.set_linewidth(.3)  \n",
    "        break\n",
    "        \n",
    "# add axes from topo maps\n",
    "topo_axis_diff = fig.add_axes([0.6,0.05,0.35,0.35], anchor='NE', zorder=2)\n",
    "topo_axis_cbar_diff = fig.add_axes([0.1,10,10,200], anchor='NE', zorder=10)\n",
    "\n",
    "topo_axis_cbar.tick_params(labelsize=4)\n",
    "topo_axis_cbar.set_yticks([-6, -3, 0, 3, 6]) \n",
    "\n",
    "# plot topomap\n",
    "topo_fig = correct_evokes.plot_topomap(\n",
    "    times=.05, \n",
    "    average = .103,\n",
    "    res=300,\n",
    "    # size=0.5,\n",
    "    show=False,\n",
    "    axes=[topo_axis_diff,topo_axis_cbar_diff],\n",
    "    contours=6,\n",
    "    extrapolate='head',\n",
    "    time_format=\"%01d\",\n",
    "    time_unit='ms',\n",
    "    sensors=True,\n",
    "    vlim=(-5,5)\n",
    ")\n",
    "\n",
    "topo_axis_cbar_diff.remove()\n",
    "topo_axis_diff.set_title('', size=7, pad=4) # Title\n",
    "plt.setp(topo_axis_diff.lines , linewidth=0.3)\n",
    "\n",
    "# change the linewidth of the sensors\n",
    "for coll in topo_axis_diff.collections:\n",
    "    if coll.get_label() == '_child10':\n",
    "        coll.set_linewidth(.3)  \n",
    "        break\n",
    "\n",
    "# Define the colors for each condition\n",
    "colors = {\n",
    "    'correct': '#c94641',\n",
    "    'error': '#2166ac',\n",
    "    'difference': 'gray'\n",
    "}\n",
    "\n",
    "# plot condition wavelines\n",
    "fig_list = mne.viz.plot_compare_evokeds(\n",
    "    dict(correct=correct_evokes, error=error_evokes, difference=diff_evokeds),\n",
    "    picks='Fz',\n",
    "    legend='upper left',\n",
    "    show_sensors=False,\n",
    "    time_unit='ms',\n",
    "    show=False,\n",
    "    axes=ax,\n",
    "    colors=colors,\n",
    "    ylim=dict(eeg=[-15, 18]),\n",
    "    invert_y=True,\n",
    "    styles={'correct': {\"linestyle\": '-'}, 'error': {\"linestyle\": '-'}, \"difference\": {\"linestyle\": '--'}},\n",
    ")\n",
    "\n",
    "\n",
    "fig_list[0].axes[0].tick_params(axis='x', direction='in', length=2.5, width=1)\n",
    "fig_list[0].axes[0].tick_params(axis='y', direction='out', length=2.5, width=1)\n",
    "\n",
    "plt.show()\n",
    "\n",
    "fig.savefig(f'waveforms_ern_crn', bbox_inches='tight', pad_inches=0.01)"
   ]
  },
  {
   "cell_type": "markdown",
   "id": "75",
   "metadata": {},
   "source": [
    "## Extract features"
   ]
  },
  {
   "cell_type": "markdown",
   "id": "76",
   "metadata": {},
   "source": [
    "#### Extract EEG features"
   ]
  },
  {
   "cell_type": "markdown",
   "id": "77",
   "metadata": {},
   "source": [
    "1. Amplitude\n",
    "\n",
    "- ROI: Fz\n",
    "- time window: 0 - 100 ms\n",
    "- mean amplitude"
   ]
  },
  {
   "cell_type": "markdown",
   "id": "78",
   "metadata": {},
   "source": [
    "- ERN"
   ]
  },
  {
   "cell_type": "code",
   "execution_count": null,
   "id": "79",
   "metadata": {},
   "outputs": [],
   "source": [
    "roi = [\"Fz\"]"
   ]
  },
  {
   "cell_type": "code",
   "execution_count": null,
   "id": "80",
   "metadata": {},
   "outputs": [],
   "source": [
    "epochs_df_copy = pd.DataFrame(copy.deepcopy(epochs_df.to_dict()))\n",
    "\n",
    "ern_pipeline = Pipeline([\n",
    "    (\"channels_extraction\",PickChannels(channels_list=roi)),\n",
    "    (\"trim\", EpochTrim(tmin=0, tmax=0.1)),\n",
    "    (\"average\", Evoked()),\n",
    "    ('extract_averaged_data', ExtractData()),\n",
    "    (\"mean_amplitude\", AverageSignal()),\n",
    "    \n",
    "]).fit(epochs_df_copy)\n",
    "\n",
    "preprocessed_X_ern = ern_pipeline.transform(epochs_df_copy)\n",
    "preprocessed_X_ern = preprocessed_X_ern.reshape(preprocessed_X_ern.shape[0], -1)"
   ]
  },
  {
   "cell_type": "code",
   "execution_count": null,
   "id": "81",
   "metadata": {},
   "outputs": [],
   "source": [
    "preprocessed_X_ern.shape"
   ]
  },
  {
   "cell_type": "markdown",
   "id": "82",
   "metadata": {},
   "source": [
    "- CRN"
   ]
  },
  {
   "cell_type": "code",
   "execution_count": null,
   "id": "83",
   "metadata": {},
   "outputs": [],
   "source": [
    "roi = [\"Fz\"]"
   ]
  },
  {
   "cell_type": "code",
   "execution_count": null,
   "id": "84",
   "metadata": {},
   "outputs": [],
   "source": [
    "epochs_df_copy = pd.DataFrame(copy.deepcopy(epochs_df.to_dict()))\n",
    "\n",
    "crn_pipeline = Pipeline([\n",
    "   (\"channels_extraction\",PickChannels(channels_list=roi)),\n",
    "    (\"trim\", EpochTrim(tmin=0, tmax=0.1)),\n",
    "    (\"average\", Evoked(condition='correct_response')),\n",
    "    ('extract_averaged_data', ExtractData()),\n",
    "    (\"mean_amplitude\", AverageSignal()),\n",
    "    \n",
    "]).fit(epochs_df_copy)\n",
    "\n",
    "preprocessed_X_crn = crn_pipeline.transform(epochs_df_copy)\n",
    "preprocessed_X_crn = preprocessed_X_crn.reshape(preprocessed_X_crn.shape[0], -1)"
   ]
  },
  {
   "cell_type": "code",
   "execution_count": null,
   "id": "85",
   "metadata": {},
   "outputs": [],
   "source": [
    "preprocessed_X_crn.shape"
   ]
  },
  {
   "cell_type": "markdown",
   "id": "86",
   "metadata": {},
   "source": [
    "2. Latency: fractional area latency"
   ]
  },
  {
   "cell_type": "code",
   "execution_count": null,
   "id": "87",
   "metadata": {},
   "outputs": [],
   "source": [
    "def fractional_negative_area_latency(evoked, fraction=0.5, tmin=0.0, tmax=0.5, threshold = 0.0):\n",
    "    subject_data = evoked.get_data()\n",
    "    x = np.linspace(tmin, tmax, subject_data.shape[-1])\n",
    "    y = subject_data.flatten()\n",
    "    \n",
    "    # get only negative part of signal\n",
    "    y_negative = [abs(y_item) if y_item < threshold else 0 for y_item in y]\n",
    "    \n",
    "    # calculate area under the signal\n",
    "    area = abs(simpson(y_negative, x))\n",
    "    \n",
    "    if area != 0.0:\n",
    "        fractional_area = area * fraction\n",
    "    \n",
    "        # search for latency point (x) which split area according to fraction provided \n",
    "        current_area = 0\n",
    "        fractional_area_index = 0\n",
    "        i = 2\n",
    "        while abs(simpson(y_negative[:i], x[:i])) <= fractional_area:\n",
    "            current_area = abs(simpson(y_negative[:i], x[:i]))\n",
    "            fractional_area_index = i\n",
    "            i+=1\n",
    "        return (fractional_area_index, x[fractional_area_index])    \n",
    "    else:\n",
    "        print('No area detected')\n",
    "        return (None, None) "
   ]
  },
  {
   "cell_type": "markdown",
   "id": "88",
   "metadata": {},
   "source": [
    "- ERN"
   ]
  },
  {
   "cell_type": "code",
   "execution_count": null,
   "id": "89",
   "metadata": {},
   "outputs": [],
   "source": [
    "roi = ['Fz']\n",
    "tmin = -0.05\n",
    "tmax = 0.2\n",
    "threshold = 1*1e-6"
   ]
  },
  {
   "cell_type": "code",
   "execution_count": null,
   "id": "90",
   "metadata": {},
   "outputs": [],
   "source": [
    "epochs_df_copy = pd.DataFrame(copy.deepcopy(epochs_df.to_dict()))"
   ]
  },
  {
   "cell_type": "code",
   "execution_count": null,
   "id": "91",
   "metadata": {
    "tags": []
   },
   "outputs": [],
   "source": [
    "X = Pipeline([\n",
    "    (\"channels_extraction\",PickChannels(channels_list=roi)),\n",
    "    (\"trim\", EpochTrim(tmin=tmin, tmax=tmax)),\n",
    "    (\"average\", Evoked(condition='error_response')),\n",
    "]).fit_transform(epochs_df_copy)\n",
    "\n",
    "X = X[['evoked']].to_numpy()"
   ]
  },
  {
   "cell_type": "code",
   "execution_count": null,
   "id": "92",
   "metadata": {
    "tags": []
   },
   "outputs": [],
   "source": [
    "fractional_latencies = []\n",
    "for i in range(0, len(X)):        \n",
    "    subject = X[i][0]\n",
    "    evoked = subject\n",
    "    this_latency = fractional_negative_area_latency(evoked, fraction=0.5, tmin=tmin, tmax=tmax, threshold=threshold)\n",
    "    fractional_latencies.append(this_latency)"
   ]
  },
  {
   "cell_type": "code",
   "execution_count": null,
   "id": "93",
   "metadata": {},
   "outputs": [],
   "source": [
    "fractional_latencies_ern = list(map(lambda x: x[1] ,fractional_latencies))\n",
    "fractional_latencies_ern = np.array(fractional_latencies_ern).reshape(-1,1)\n",
    "fractional_latencies_ern.shape"
   ]
  },
  {
   "cell_type": "markdown",
   "id": "94",
   "metadata": {},
   "source": [
    "- CRN: threshold at $2 \\mu V$"
   ]
  },
  {
   "cell_type": "code",
   "execution_count": null,
   "id": "95",
   "metadata": {},
   "outputs": [],
   "source": [
    "roi = ['Fz']\n",
    "tmin = -0.05\n",
    "tmax = 0.2\n",
    "threshold = 2*1e-6 # threshold at 2 uV"
   ]
  },
  {
   "cell_type": "code",
   "execution_count": null,
   "id": "96",
   "metadata": {},
   "outputs": [],
   "source": [
    "epochs_df_copy = pd.DataFrame(copy.deepcopy(epochs_df.to_dict()))"
   ]
  },
  {
   "cell_type": "code",
   "execution_count": null,
   "id": "97",
   "metadata": {
    "tags": []
   },
   "outputs": [],
   "source": [
    "X = Pipeline([\n",
    "    (\"channels_extraction\",PickChannels(channels_list=roi)),\n",
    "    (\"trim\", EpochTrim(tmin=tmin, tmax=tmax)),\n",
    "    (\"average\", Evoked(condition='correct_response')),\n",
    "]).fit_transform(epochs_df_copy)\n",
    "\n",
    "X = X[['evoked']].to_numpy()"
   ]
  },
  {
   "cell_type": "code",
   "execution_count": null,
   "id": "98",
   "metadata": {
    "tags": []
   },
   "outputs": [],
   "source": [
    "fractional_latencies = []\n",
    "for i in range(0, len(X)):        \n",
    "    subject = X[i][0]\n",
    "    evoked = subject\n",
    "    # print(f\"Index: {i}\")\n",
    "    this_latency = fractional_negative_area_latency(evoked, fraction=0.5, tmin=tmin, tmax=tmax, threshold=threshold)\n",
    "    fractional_latencies.append(this_latency)"
   ]
  },
  {
   "cell_type": "code",
   "execution_count": null,
   "id": "99",
   "metadata": {},
   "outputs": [],
   "source": [
    "fractional_latencies_crn_2uV = list(map(lambda x: x[1] ,fractional_latencies))\n",
    "fractional_latencies_crn_2uV = np.array(fractional_latencies_crn_2uV).reshape(-1,1)\n",
    "fractional_latencies_crn_2uV.shape"
   ]
  },
  {
   "cell_type": "markdown",
   "id": "100",
   "metadata": {},
   "source": [
    "#### Extract questionnaires scores"
   ]
  },
  {
   "cell_type": "markdown",
   "id": "101",
   "metadata": {},
   "source": [
    "Define questionnaires to include in analysis"
   ]
  },
  {
   "cell_type": "code",
   "execution_count": null,
   "id": "102",
   "metadata": {},
   "outputs": [],
   "source": [
    "rumination = \"RRQ\"\n",
    "dass_stress = \"DASS-21 Stress\"\n",
    "dass_dep = \"DASS-21 Dep\"\n",
    "stai_t = \"STAI-T\" \n",
    "stai_s_diff = \"STAI-S Diff\" \n",
    "uninhibited_responses = \"uninhibited response\"\n",
    "inhibited_responses = \"inhibited response\"\n",
    "bis = \"BIS\"\n",
    "bas_dzialanie = \"BAS_D\"\n",
    "bas_przyjemnosc = \"BAS_PRZY\"\n",
    "bas_nagroda = \"BAS_NAG\"\n",
    "washing = \"WASH\"\n",
    "obsessing = \"OBSESS\"\n",
    "hoarding = \"HOARD\"\n",
    "ordering = \"ORD\"\n",
    "checking = \"CHECK\"\n",
    "neutralizing = \"NEU\"\n",
    "oci_r_full = \"OCI-R\"\n",
    "threat = \"OT\"\n",
    "thought_suppression = \"WBSI\"\n",
    "indecisivness = \"INDEC_F\"\n",
    "IU_prospecitve = \"IUS-P\"\n",
    "IU_inhibitory = \"IUS-I\"\n",
    "self_esteem = \"SES\"\n",
    "punishment_sensitivity = \"PUN\"\n",
    "reward_sensitivity = \"REW\"\n",
    "harm_responsibility = \"HARM\"\n",
    "thought_control = \"T-CTR\"\n",
    "perfectionism_IU = \"OB_PERF\"\n",
    "perfectionism_ps = \"PS\"\n",
    "guilt_sensitivity = \"G_SE\"\n",
    "intolerance_ambiguity = \"AMB\"\n",
    "predictability = \"PRED\"\n",
    "high_standards = \"STAND\""
   ]
  },
  {
   "cell_type": "code",
   "execution_count": null,
   "id": "103",
   "metadata": {},
   "outputs": [],
   "source": [
    "scales = [\n",
    "    rumination,\n",
    "    dass_stress,\n",
    "    dass_dep,\n",
    "    stai_t,\n",
    "    stai_s_diff,\n",
    "    uninhibited_responses,\n",
    "    inhibited_responses,\n",
    "    bis,\n",
    "    bas_dzialanie,\n",
    "    bas_przyjemnosc,\n",
    "    bas_nagroda,\n",
    "    washing,\n",
    "    obsessing,\n",
    "    hoarding,\n",
    "    ordering,\n",
    "    checking,\n",
    "    neutralizing,\n",
    "    threat,\n",
    "    thought_suppression,\n",
    "    indecisivness,\n",
    "    punishment_sensitivity,\n",
    "    reward_sensitivity,\n",
    "    harm_responsibility,\n",
    "    guilt_sensitivity,\n",
    "    thought_control,\n",
    "    perfectionism_IU,\n",
    "    perfectionism_ps,\n",
    "    intolerance_ambiguity,\n",
    "    predictability,\n",
    "    high_standards,\n",
    "    IU_prospecitve,\n",
    "    IU_inhibitory,\n",
    "    self_esteem,\n",
    "]"
   ]
  },
  {
   "cell_type": "code",
   "execution_count": null,
   "id": "104",
   "metadata": {},
   "outputs": [],
   "source": [
    "questionnaires_scores_df = epochs_df[scales]\n",
    "questionnaires_scores_df"
   ]
  },
  {
   "cell_type": "markdown",
   "id": "105",
   "metadata": {},
   "source": [
    "Fill missing value from external file - TODO to automatisation"
   ]
  },
  {
   "cell_type": "code",
   "execution_count": null,
   "id": "106",
   "metadata": {},
   "outputs": [],
   "source": [
    "questionnaires_scores_df[questionnaires_scores_df.isna().any(axis=1)]"
   ]
  },
  {
   "cell_type": "code",
   "execution_count": null,
   "id": "107",
   "metadata": {},
   "outputs": [],
   "source": [
    "if test:\n",
    "    questionnaires_scores_df.at[102, 'uninhibited response'] = 14.0\n",
    "    questionnaires_scores_df.at[102, 'inhibited response'] = 98.0\n",
    "else:\n",
    "    print('None to fill')"
   ]
  },
  {
   "cell_type": "code",
   "execution_count": null,
   "id": "108",
   "metadata": {},
   "outputs": [],
   "source": [
    "questionnaires_scores_df[questionnaires_scores_df.isna().any(axis=1)]"
   ]
  },
  {
   "cell_type": "markdown",
   "id": "109",
   "metadata": {},
   "source": [
    "Create performance metric based on inhibited and uninhibited responses"
   ]
  },
  {
   "cell_type": "code",
   "execution_count": null,
   "id": "110",
   "metadata": {},
   "outputs": [],
   "source": [
    "questionnaires_scores_df['performance'] = questionnaires_scores_df['inhibited response'] / questionnaires_scores_df['uninhibited response']\n",
    "questionnaires_scores_df = questionnaires_scores_df.drop(columns=['inhibited response', 'uninhibited response'])"
   ]
  },
  {
   "cell_type": "markdown",
   "id": "111",
   "metadata": {},
   "source": [
    "Inspect data"
   ]
  },
  {
   "cell_type": "code",
   "execution_count": null,
   "id": "112",
   "metadata": {},
   "outputs": [],
   "source": [
    "questionnaires_scores_df[questionnaires_scores_df.isna().any(axis=1)]"
   ]
  },
  {
   "cell_type": "code",
   "execution_count": null,
   "id": "113",
   "metadata": {},
   "outputs": [],
   "source": [
    "with pd.option_context('display.max_colwidth', None, 'display.max_columns', None):\n",
    "    display(questionnaires_scores_df.describe())"
   ]
  },
  {
   "cell_type": "markdown",
   "id": "114",
   "metadata": {},
   "source": [
    "Check skewness and kurtiosis\n",
    "\n",
    "As a general rule of thumb: If skewness is less than -1 or greater than 1, the distribution is highly skewed. If skewness is between -1 and -0.5 or between 0.5 and 1, the distribution is moderately skewed. If skewness is between -0.5 and 0.5, the distribution is approximately symmetric.\n",
    "\n",
    "Analogous to the skewness, the general guideline is that if the kurtosis is greater than +2, the distribution is too peaked. Likewise, a kurtosis of less than −2 indicates a distribution that is too flat. When both skewness and kurtosis are close to zero, the pattern of responses is considered a normal distribution "
   ]
  },
  {
   "cell_type": "code",
   "execution_count": null,
   "id": "115",
   "metadata": {},
   "outputs": [],
   "source": [
    "summary = questionnaires_scores_df.agg(['skew', 'kurtosis', 'mean', 'std', 'min', 'max']).transpose()\n",
    "summary"
   ]
  },
  {
   "cell_type": "markdown",
   "id": "116",
   "metadata": {},
   "source": [
    "Transform entries with high skewness and kurtosis with BoxCox method"
   ]
  },
  {
   "cell_type": "code",
   "execution_count": null,
   "id": "117",
   "metadata": {},
   "outputs": [],
   "source": [
    "questionnaires_scores_df_transformed = questionnaires_scores_df.copy()\n",
    "\n",
    "for row in summary.iterrows():\n",
    "    item_name = row[0]\n",
    "    skewness_ = row[1]['skew']\n",
    "    kurtosis_ = row[1]['kurtosis']\n",
    "    \n",
    "    if abs(skewness_) > 1 or abs(kurtosis_) > 2:\n",
    "        print(f'Transforming: {item_name} scale')\n",
    "        this_scores = questionnaires_scores_df_transformed[[item_name]].to_numpy().flatten()\n",
    "        this_scores = this_scores - np.min(this_scores) + 0.01\n",
    "        this_scores_transformed, lambda_ = boxcox(this_scores)\n",
    "        print(f'   Stats before transformation:\\n    Skewness: {scipy.stats.skew(this_scores)} \\n    Kurtosis: {scipy.stats.kurtosis(this_scores)}')\n",
    "        print(f'   Stats after transformation:\\n    Skewness: {scipy.stats.skew(this_scores_transformed)} \\n    Kurtosis: {scipy.stats.kurtosis(this_scores_transformed)}')\n",
    "        \n",
    "        questionnaires_scores_df_transformed[[item_name]] = this_scores_transformed.reshape(-1,1)"
   ]
  },
  {
   "cell_type": "code",
   "execution_count": null,
   "id": "118",
   "metadata": {},
   "outputs": [],
   "source": [
    "summary = questionnaires_scores_df_transformed.agg(['skew', 'kurtosis', 'mean', 'std', 'min', 'max']).transpose()\n",
    "summary"
   ]
  },
  {
   "cell_type": "markdown",
   "id": "119",
   "metadata": {},
   "source": [
    "#### Demographical data"
   ]
  },
  {
   "cell_type": "code",
   "execution_count": null,
   "id": "120",
   "metadata": {},
   "outputs": [],
   "source": [
    "age = \"Age\"\n",
    "sex = \"Sex\"\n",
    "handness = \"Handness\""
   ]
  },
  {
   "cell_type": "code",
   "execution_count": null,
   "id": "121",
   "metadata": {},
   "outputs": [],
   "source": [
    "scales = [\n",
    "    age,\n",
    "    sex,\n",
    "    handness\n",
    "]"
   ]
  },
  {
   "cell_type": "code",
   "execution_count": null,
   "id": "122",
   "metadata": {},
   "outputs": [],
   "source": [
    "demographical_scores_df =  epochs_df[scales].astype(float)"
   ]
  },
  {
   "cell_type": "code",
   "execution_count": null,
   "id": "123",
   "metadata": {},
   "outputs": [],
   "source": [
    "summary = demographical_scores_df.agg(['skew', 'kurtosis', 'mean', 'std', 'min', 'max']).transpose()\n",
    "summary"
   ]
  },
  {
   "cell_type": "markdown",
   "id": "124",
   "metadata": {},
   "source": [
    "Transform skewed age entry"
   ]
  },
  {
   "cell_type": "code",
   "execution_count": null,
   "id": "125",
   "metadata": {},
   "outputs": [],
   "source": [
    "age = demographical_scores_df[['Age']].to_numpy().flatten()\n",
    "age_transformed, lambda_ = boxcox(age)\n",
    "demographical_scores_df[['Age']] = age_transformed.reshape(-1,1)"
   ]
  },
  {
   "cell_type": "code",
   "execution_count": null,
   "id": "126",
   "metadata": {},
   "outputs": [],
   "source": [
    "summary = demographical_scores_df.agg(['skew', 'kurtosis', 'mean', 'std', 'min', 'max']).transpose()\n",
    "summary"
   ]
  },
  {
   "cell_type": "markdown",
   "id": "127",
   "metadata": {},
   "source": [
    "#### Concatenate questionnaire and EEG features"
   ]
  },
  {
   "cell_type": "code",
   "execution_count": null,
   "id": "128",
   "metadata": {},
   "outputs": [],
   "source": [
    "eeg_columns_ern = ['e_ERN']\n",
    "eeg_columns_crn = ['e_CRN']\n",
    "\n",
    "eeg_column_latencies_fal_2_crn = ['e_LT_F2_C']\n",
    "eeg_column_latencies_peak_crn = ['e_LT_P_C']\n",
    "eeg_column_latencies_fal = ['e_LT_F']"
   ]
  },
  {
   "cell_type": "markdown",
   "id": "129",
   "metadata": {},
   "source": [
    "1. ERN model"
   ]
  },
  {
   "cell_type": "code",
   "execution_count": null,
   "id": "130",
   "metadata": {},
   "outputs": [],
   "source": [
    "results_ern_df = pd.DataFrame()\n",
    "\n",
    "results_ern_df[eeg_columns_ern] = preprocessed_X_ern\n",
    "results_ern_df.reset_index(drop=True, inplace=True)\n",
    "results_ern_df.index = epochs_df.index\n",
    "results_ern_df = pd.concat([results_ern_df, questionnaires_scores_df_transformed.drop(columns=['performance']), epochs_df['id']], axis=1)\n",
    "results_ern_df.to_pickle(f\"../data/models_pickles_new_dass/ern_models_{dataset}_id_clean.pkl\")"
   ]
  },
  {
   "cell_type": "markdown",
   "id": "131",
   "metadata": {},
   "source": [
    "2. CRN model"
   ]
  },
  {
   "cell_type": "code",
   "execution_count": null,
   "id": "132",
   "metadata": {},
   "outputs": [],
   "source": [
    "results_crn_df = pd.DataFrame()\n",
    "\n",
    "results_crn_df[eeg_columns_crn] = preprocessed_X_crn\n",
    "results_crn_df.reset_index(drop=True, inplace=True)\n",
    "results_crn_df.index = epochs_df.index\n",
    "results_crn_df = pd.concat([results_crn_df, questionnaires_scores_df_transformed.drop(columns=['performance']), epochs_df['id']], axis=1)\n",
    "\n",
    "results_crn_df.to_pickle(f\"../data/models_pickles_new_dass/crn_models_{dataset}_id_clean.pkl\")"
   ]
  },
  {
   "cell_type": "markdown",
   "id": "133",
   "metadata": {},
   "source": [
    "3. ERN and covariates"
   ]
  },
  {
   "cell_type": "code",
   "execution_count": null,
   "id": "134",
   "metadata": {},
   "outputs": [],
   "source": [
    "results_ern_lat_df = pd.DataFrame()\n",
    "\n",
    "results_ern_lat_df[eeg_columns_ern] = preprocessed_X_ern\n",
    "results_ern_lat_df.reset_index(drop=True, inplace=True)\n",
    "results_ern_lat_df.index = epochs_df.index\n",
    "results_ern_lat_df[eeg_column_latencies_fal] = fractional_latencies_ern \n",
    "results_ern_lat_df = pd.concat([results_ern_lat_df, demographical_scores_df, questionnaires_scores_df_transformed, epochs_df['id']], axis=1)\n",
    "\n",
    "results_ern_lat_df.to_pickle(f\"../data/models_pickles_new_dass/ern_cov_fal_models_{dataset}_id_clean.pkl\")"
   ]
  },
  {
   "cell_type": "markdown",
   "id": "135",
   "metadata": {},
   "source": [
    "4. CRN and covariates"
   ]
  },
  {
   "cell_type": "code",
   "execution_count": null,
   "id": "136",
   "metadata": {},
   "outputs": [],
   "source": [
    "results_crn_lat_demo_df = pd.DataFrame()\n",
    "\n",
    "results_crn_lat_demo_df[eeg_columns_crn] = preprocessed_X_crn\n",
    "results_crn_lat_demo_df.reset_index(drop=True, inplace=True)\n",
    "results_crn_lat_demo_df.index = epochs_df.index\n",
    "results_crn_lat_demo_df[eeg_column_latencies_fal_2_crn] = fractional_latencies_crn_2uV\n",
    "results_crn_lat_demo_df = pd.concat([results_crn_lat_demo_df, demographical_scores_df, questionnaires_scores_df_transformed, epochs_df['id']], axis=1)\n",
    "\n",
    "results_crn_lat_demo_df.to_pickle(f\"../data/models_pickles_new_dass/crn_cov_fal2_models_{dataset}_id_clean.pkl\")"
   ]
  },
  {
   "cell_type": "markdown",
   "id": "137",
   "metadata": {},
   "source": [
    "5. ERN and CRN model"
   ]
  },
  {
   "cell_type": "code",
   "execution_count": null,
   "id": "138",
   "metadata": {},
   "outputs": [],
   "source": [
    "results_ern_df = pd.DataFrame()\n",
    "\n",
    "results_ern_df[eeg_columns_ern] = preprocessed_X_ern\n",
    "results_ern_df[eeg_columns_crn] = preprocessed_X_crn\n",
    "results_ern_df.reset_index(drop=True, inplace=True)\n",
    "results_ern_df.index = epochs_df.index\n",
    "results_ern_df = pd.concat([results_ern_df, questionnaires_scores_df_transformed.drop(columns=['performance']), epochs_df['id']], axis=1)\n",
    "results_ern_df.to_pickle(f\"../data/models_pickles_new_dass/ern_crn_models_{dataset}_id_clean.pkl\")"
   ]
  },
  {
   "cell_type": "markdown",
   "id": "139",
   "metadata": {},
   "source": [
    "6. ERN, CRN and covariates"
   ]
  },
  {
   "cell_type": "code",
   "execution_count": null,
   "id": "140",
   "metadata": {},
   "outputs": [],
   "source": [
    "results_ern_lat_df = pd.DataFrame()\n",
    "\n",
    "results_ern_lat_df[eeg_columns_ern] = preprocessed_X_ern\n",
    "results_ern_lat_df[eeg_columns_crn] = preprocessed_X_crn\n",
    "\n",
    "results_ern_lat_df.reset_index(drop=True, inplace=True)\n",
    "results_ern_lat_df.index = epochs_df.index\n",
    "results_ern_lat_df[eeg_column_latencies_fal] = fractional_latencies_ern \n",
    "results_ern_lat_df[eeg_column_latencies_fal_2_crn] = fractional_latencies_crn_2uV\n",
    "\n",
    "results_ern_lat_df = pd.concat([results_ern_lat_df, demographical_scores_df, questionnaires_scores_df_transformed, epochs_df['id']], axis=1)\n",
    "results_ern_lat_df.to_pickle(f\"../data/models_pickles_new_dass/ern_crn_cov_fal_models_{dataset}_id_clean.pkl\")"
   ]
  },
  {
   "cell_type": "markdown",
   "id": "141",
   "metadata": {},
   "source": [
    "## Save datasets"
   ]
  },
  {
   "cell_type": "code",
   "execution_count": null,
   "id": "142",
   "metadata": {},
   "outputs": [],
   "source": [
    "dataset = 'test'"
   ]
  },
  {
   "cell_type": "code",
   "execution_count": null,
   "id": "143",
   "metadata": {},
   "outputs": [],
   "source": [
    "ern_data_df = pd.read_pickle(f\"../data/models_pickles_new_dass/ern_models_{dataset}_id_clean.pkl\")\n",
    "ern_cov_fal_data_df = pd.read_pickle(f\"../data/models_pickles_new_dass/ern_cov_fal_models_{dataset}_id_clean.pkl\")\n",
    "\n",
    "crn_data_df = pd.read_pickle(f\"../data/models_pickles_new_dass/crn_models_{dataset}_id_clean.pkl\")\n",
    "crn_cov_fal2_data_df = pd.read_pickle(f\"../data/models_pickles_new_dass/crn_cov_fal2_models_{dataset}_id_clean.pkl\")"
   ]
  },
  {
   "cell_type": "code",
   "execution_count": null,
   "id": "144",
   "metadata": {},
   "outputs": [],
   "source": [
    "mapping = {\n",
    "    \"RRQ\": \"Rumination\",\n",
    "    \"DASS-21 Stress\": \"Stress\",\n",
    "    \"DASS-21 Dep\": \"Depression\",\n",
    "    \"STAI-T\": \"Anxiety trait\",\n",
    "    \"STAI-S Diff\": 'Affective load',\n",
    "    \"BIS\": \"Behavioral inhibition\",\n",
    "    \"OBSESS\": \"Obsessing\",\n",
    "    \"HOARD\": \"Hoarding\",\n",
    "    \"ORD\": \"Ordering\",\n",
    "    \"CHECK\": \"Checking\",\n",
    "    'WASH': \"Washing\",\n",
    "    'NEU': \"Neutralizing\",\n",
    "    \"WBSI\": \"Thought supression\",\n",
    "    \"IUS-P\": \"Prospective IU\",\n",
    "    \"IUS-I\": \"Inhibitiory IU\",\n",
    "    \"SES\": \"Self-esteem\",\n",
    "    'BAS_D': \"Drive BAS\",\n",
    "    'BAS_PRZY': \"Fun-seeking BAS\",\n",
    "    'BAS_NAG': \"Reward responsiveness BAS \",\n",
    "    'INDEC_F': \"Indecisiveness\",\n",
    "    'PUN': \"Punishment sensitivity\",\n",
    "    'REW': \"Reward sensitivity\",\n",
    "    'HARM': \"Inflated harm responsibility\",\n",
    "    'T-CTR': \"Importance of thought control\",\n",
    "    \"OT\": \"Threat overestimation\",\n",
    "    'OB_PERF': \"Perfectionism/IU\",\n",
    "    'PS': \"Personal standandards\",\n",
    "    'G_SE': \"Guilt sensitivity\",\n",
    "    'AMB': \"Avoidance of ambiguity\",\n",
    "    'PRED': \"Need for predictability\",\n",
    "    'STAND': \"High standards\",   \n",
    "    \"Age\": \"Age\",\n",
    "    \"Handness\": \"Handedness\",\n",
    "    'e_ERN': \"ERN amplitude\",\n",
    "    'e_LT_F': \"ERN latency\",\n",
    "    'performance': \"Performance\",\n",
    "    'e_CRN': \"CRN amplitude\",\n",
    "    'e_LT_F2_C': \"CRN latency\",\n",
    "}"
   ]
  },
  {
   "cell_type": "code",
   "execution_count": null,
   "id": "145",
   "metadata": {},
   "outputs": [],
   "source": [
    "data_df = pd.merge(ern_cov_fal_data_df, crn_cov_fal2_data_df, how='inner')\n",
    "data_df = data_df.rename(columns=mapping)"
   ]
  },
  {
   "cell_type": "code",
   "execution_count": null,
   "id": "146",
   "metadata": {},
   "outputs": [],
   "source": [
    "data_df.columns"
   ]
  },
  {
   "cell_type": "code",
   "execution_count": null,
   "id": "147",
   "metadata": {},
   "outputs": [],
   "source": [
    "data_df.to_csv(f'../public_data/data_{dataset}.csv')"
   ]
  }
 ],
 "metadata": {
  "kernelspec": {
   "display_name": "net",
   "language": "python",
   "name": "net"
  },
  "language_info": {
   "codemirror_mode": {
    "name": "ipython",
    "version": 3
   },
   "file_extension": ".py",
   "mimetype": "text/x-python",
   "name": "python",
   "nbconvert_exporter": "python",
   "pygments_lexer": "ipython3",
   "version": "3.8.10"
  }
 },
 "nbformat": 4,
 "nbformat_minor": 5
}
