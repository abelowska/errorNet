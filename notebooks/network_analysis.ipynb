{
 "cells": [
  {
   "cell_type": "markdown",
   "id": "e9c05131-c6ae-4dd7-acea-1300a28dbdaa",
   "metadata": {},
   "source": [
    "# Network Analysis"
   ]
  },
  {
   "cell_type": "code",
   "execution_count": null,
   "id": "7bc637e3-f121-45d5-898f-ad7de817ae5e",
   "metadata": {},
   "outputs": [],
   "source": [
    "import sys\n",
    "import numpy as np\n",
    "import tabulate\n",
    "import time\n",
    "import copy\n",
    "\n",
    "import logging\n",
    "\n",
    "from sklearn.datasets import make_sparse_spd_matrix\n",
    "import matplotlib.pyplot as plt\n",
    "import os\n",
    "import sys\n",
    "import re\n",
    "import glob\n",
    "import ast\n",
    "import os.path as op\n",
    "import pickle\n",
    "import scipy\n",
    "import numpy as np\n",
    "import pandas as pd \n",
    "import seaborn as sns\n",
    "import matplotlib.pyplot as plt\n",
    "import scipy as sp\n",
    "\n",
    "from collections import defaultdict\n",
    "\n",
    "from copy import deepcopy\n",
    "import copy\n",
    "\n",
    "from sklearn.model_selection import train_test_split\n",
    "from sklearn.pipeline import Pipeline\n",
    "from sklearn.model_selection import KFold\n",
    "from sklearn.pipeline import Pipeline\n",
    "from sklearn.preprocessing import StandardScaler\n",
    "from sklearn.decomposition import PCA, FastICA\n",
    "from sklearn.utils import resample\n",
    "from sklearn.covariance import GraphicalLassoCV\n",
    "from sklearn.metrics.pairwise import cosine_similarity\n",
    "from sklearn.linear_model import LinearRegression\n",
    "\n",
    "from itertools import combinations\n",
    "from scipy.stats import ttest_ind\n",
    "\n",
    "import scipy.stats as stats\n",
    "\n",
    "import networkx as nx\n",
    "import glob, os\n",
    "from functools import partial\n",
    "\n",
    "from scipy.stats import pearsonr\n",
    "\n",
    "import pickle\n",
    "\n",
    "import warnings\n",
    "warnings.filterwarnings(\"ignore\")"
   ]
  },
  {
   "cell_type": "markdown",
   "id": "0ff32980-b365-4782-b6d2-e010414e1be3",
   "metadata": {
    "tags": []
   },
   "source": [
    "## Load data"
   ]
  },
  {
   "cell_type": "code",
   "execution_count": null,
   "id": "7742e150-1148-4522-a794-73a2c95ce76a",
   "metadata": {},
   "outputs": [],
   "source": [
    "dataset = 'train'\n",
    "test = False if dataset == 'train' else False"
   ]
  },
  {
   "cell_type": "markdown",
   "id": "d777ab4a-b038-4350-97fe-56f37821bb72",
   "metadata": {},
   "source": [
    "Loading training data"
   ]
  },
  {
   "cell_type": "code",
   "execution_count": null,
   "id": "c48eb9df-b5c3-45f1-84a2-46c4f0b33ae1",
   "metadata": {},
   "outputs": [],
   "source": [
    "results_ern_df = pd.read_pickle(f\"../data/models_pickles_new_dass/ern_models_{dataset}_id_clean.pkl\")\n",
    "results_ern_lat_demo_df = pd.read_pickle(f\"../data/models_pickles_new_dass/ern_cov_fal_models_{dataset}_id_clean.pkl\")\n",
    "results_crn_df = pd.read_pickle(f\"../data/models_pickles_new_dass/crn_models_{dataset}_id_clean.pkl\")\n",
    "results_crn_lat_demo_df = pd.read_pickle(f\"../data/models_pickles_new_dass/crn_cov_fal2_models_{dataset}_id_clean.pkl\")\n",
    "\n",
    "results_ern_crn_df = pd.read_pickle(f\"../data/models_pickles_new_dass/ern_crn_models_{dataset}_id_clean.pkl\")\n",
    "results_ern_crn_lat_demo_df = pd.read_pickle(f\"../data/models_pickles_new_dass/ern_crn_cov_fal_models_{dataset}_id_clean.pkl\")\n",
    "\n",
    "train_datasets = [results_ern_df, results_ern_lat_demo_df, results_crn_df, results_crn_lat_demo_df, results_ern_crn_df, results_ern_crn_lat_demo_df]"
   ]
  },
  {
   "cell_type": "markdown",
   "id": "c49ec434-4669-4fd3-8194-12ad45ed333a",
   "metadata": {},
   "source": [
    "Loading testing data"
   ]
  },
  {
   "cell_type": "code",
   "execution_count": null,
   "id": "43c60d5c-9f51-4ec1-9ab7-62e1c27303c4",
   "metadata": {},
   "outputs": [],
   "source": [
    "results_ern_test_df = pd.read_pickle(f\"../data/models_pickles_new_dass/ern_models_test_id_clean.pkl\")\n",
    "results_ern_lat_demo_test_df = pd.read_pickle(f\"../data/models_pickles_new_dass/ern_cov_fal_models_test_id_clean.pkl\")\n",
    "results_crn_test_df = pd.read_pickle(f\"../data/models_pickles_new_dass/crn_models_test_id_clean.pkl\")\n",
    "results_crn_lat_demo_test_df = pd.read_pickle(f\"../data/models_pickles_new_dass/crn_cov_fal2_models_test_id_clean.pkl\")\n",
    "\n",
    "results_ern_crn_test_df = pd.read_pickle(f\"../data/models_pickles_new_dass/ern_crn_models_test_id_clean.pkl\")\n",
    "results_ern_crn_lat_demo_test_df = pd.read_pickle(f\"../data/models_pickles_new_dass/ern_crn_cov_fal_models_test_id_clean.pkl\")\n",
    "\n",
    "# fill nan\n",
    "results_crn_lat_demo_test_df['e_LT_F2_C'] = results_crn_lat_demo_test_df['e_LT_F2_C'].fillna(results_crn_lat_demo_test_df['e_LT_F2_C'].mean())\n",
    "results_ern_crn_lat_demo_test_df['e_LT_F2_C'] = results_ern_crn_lat_demo_test_df['e_LT_F2_C'].fillna(results_ern_crn_lat_demo_test_df['e_LT_F2_C'].mean())\n",
    "\n",
    "\n",
    "test_datasets = [results_ern_test_df, results_ern_lat_demo_test_df, results_crn_test_df, results_crn_lat_demo_test_df, results_ern_crn_test_df, results_ern_crn_lat_demo_test_df]"
   ]
  },
  {
   "cell_type": "markdown",
   "id": "bfd6d21c-4a45-4831-9b9f-9a8b6f3516ec",
   "metadata": {},
   "source": [
    "Define names mapping and order"
   ]
  },
  {
   "cell_type": "code",
   "execution_count": null,
   "id": "e961c075-4d1b-40ea-9b51-2b2d231c9a6c",
   "metadata": {},
   "outputs": [],
   "source": [
    "mapping = {\n",
    "    'e_ERN': \"ERN\",\n",
    "    'e_CRN': \"CRN\",\n",
    "    \"RRQ\": \"RRQ\",\n",
    "    \"DASS-21 Stress\": \"STR\",\n",
    "    \"DASS-21 Dep\": \"DEP\",\n",
    "    \"STAI-T\": \"ANX\",\n",
    "    \"STAI-S Diff\": 'AFL',\n",
    "    \"BIS\": \"BIS\",\n",
    "    \"OBSESS\": \"OBS\",\n",
    "    \"HOARD\": \"HRD\",\n",
    "    \"ORD\": \"ORD\",\n",
    "    \"CHECK\": \"CHK\",\n",
    "    \"WBSI\": \"TSU\",\n",
    "    \"IUS-P\": \"PIU\",\n",
    "    \"IUS-I\": \"IIU\",\n",
    "    \"SES\": \"SES\",\n",
    "    'BAS_D': \"DRV\",\n",
    "    'BAS_PRZY': \"FUN\",\n",
    "    'BAS_NAG': \"RER\",\n",
    "    'INDEC_F': \"IND\",\n",
    "    'PUN': \"PUN\",\n",
    "    'REW': \"REW\",\n",
    "    'HARM': \"HRM\",\n",
    "    'T-CTR': \"TCR\",\n",
    "    \"OT\": \"THR\",\n",
    "    'OB_PERF': \"PER\",\n",
    "    'PS': \"STN\",\n",
    "    'G_SE': \"GLT\",\n",
    "    'AMB': \"AMB\",\n",
    "    'PRED': \"NPR\",\n",
    "    'STAND': \"STD\",   \n",
    "    \"Age\": \"AGE\",\n",
    "    \"Handness\": \"HND\",\n",
    "    'performance': \"PRF\",\n",
    "    'e_LT_F': \"LT-E\",\n",
    "    'e_LT_F2_C': \"LT-C\",\n",
    "}\n",
    "\n",
    "mapping_order = {value: index for index, value in enumerate(mapping.values())}\n",
    "print(mapping_order)"
   ]
  },
  {
   "cell_type": "markdown",
   "id": "ffac5a4a-f04d-4799-a564-1ef9bc5f8340",
   "metadata": {},
   "source": [
    "Prepare datasets"
   ]
  },
  {
   "cell_type": "code",
   "execution_count": null,
   "id": "004b716d-79df-4f10-91ff-0a43a9b87768",
   "metadata": {},
   "outputs": [],
   "source": [
    "columns_to_drop_covs = ['WASH', 'NEU', 'Sex', 'id']\n",
    "columns_to_drop = ['WASH', 'NEU',  'id']\n",
    "\n",
    "# train dataset\n",
    "ern_data_df_ = results_ern_df.drop(columns=columns_to_drop).rename(columns=mapping)\n",
    "ern_cov_fal_data_df_ = results_ern_lat_demo_df.drop(columns=columns_to_drop_covs).rename(columns=mapping)\n",
    "\n",
    "crn_data_df_ = results_crn_df.drop(columns=columns_to_drop).rename(columns=mapping)\n",
    "crn_cov_fal2_data_df_ = results_crn_lat_demo_df.drop(columns=columns_to_drop_covs).rename(columns=mapping)\n",
    "\n",
    "ern_crn_data_df_ = results_ern_crn_df.drop(columns=columns_to_drop).rename(columns=mapping)\n",
    "ern_crn_cov_fal_data_df_ = results_ern_crn_lat_demo_df.drop(columns=columns_to_drop_covs).rename(columns=mapping)\n",
    "\n",
    "# test dataset\n",
    "ern_data_df_test_ = results_ern_test_df.drop(columns=columns_to_drop).rename(columns=mapping)\n",
    "ern_cov_fal_data_df_test_ = results_ern_lat_demo_test_df.drop(columns=columns_to_drop_covs).rename(columns=mapping)\n",
    "\n",
    "crn_data_df_test_ = results_crn_test_df.drop(columns=columns_to_drop).rename(columns=mapping)\n",
    "crn_cov_fal2_data_df_test_ = results_crn_lat_demo_test_df.drop(columns=columns_to_drop_covs).rename(columns=mapping)\n",
    "\n",
    "ern_crn_data_df_test_ = results_ern_crn_test_df.drop(columns=columns_to_drop).rename(columns=mapping)\n",
    "ern_crn_cov_fal_data_df_test_ = results_ern_crn_lat_demo_test_df.drop(columns=columns_to_drop_covs).rename(columns=mapping)\n",
    "\n",
    "\n",
    "datasets_train = [ern_data_df_, ern_cov_fal_data_df_, crn_data_df_, crn_cov_fal2_data_df_, ern_crn_data_df_, ern_crn_cov_fal_data_df_]\n",
    "datasets_test = [ern_data_df_test_, ern_cov_fal_data_df_test_, crn_data_df_test_, crn_cov_fal2_data_df_test_, ern_crn_data_df_test_, ern_crn_cov_fal_data_df_test_]"
   ]
  },
  {
   "cell_type": "markdown",
   "id": "fe6ae132-34c1-407d-83b3-466c617c10b4",
   "metadata": {},
   "source": [
    "### Read estimated graphs"
   ]
  },
  {
   "cell_type": "code",
   "execution_count": null,
   "id": "396410f6-aec9-4344-beb2-c0f36b3064e2",
   "metadata": {},
   "outputs": [],
   "source": [
    "dir_ = f\"../new_results/graphs/{dataset}/\"\n",
    "\n",
    "graphs = []\n",
    "\n",
    "for file in sorted(glob.glob(dir_ + \"*.gml\")):\n",
    "    print(file)\n",
    "    graph = nx.read_gml(file)\n",
    "    graphs.append(graph)\n",
    "    \n",
    "graphs"
   ]
  },
  {
   "cell_type": "markdown",
   "id": "ac606ccb-4a5e-40d4-b77b-b8a0dd50c947",
   "metadata": {},
   "source": [
    "## Network analysis"
   ]
  },
  {
   "cell_type": "markdown",
   "id": "94e63a6a-2444-424b-af9a-b247008d5238",
   "metadata": {},
   "source": [
    "### Define custom network measures "
   ]
  },
  {
   "cell_type": "code",
   "execution_count": null,
   "id": "0fde41e6-f852-4f70-8aa7-3ce5f74e8fa0",
   "metadata": {},
   "outputs": [],
   "source": [
    "def calculate_nodes_predictability(X, G):\n",
    "    explained_variance = dict()\n",
    "        \n",
    "    for node in G.nodes():\n",
    "        y_ = X[[node]]\n",
    "\n",
    "        neighbors = list(G.neighbors(node))\n",
    "\n",
    "        X_ = X.loc[:, neighbors]\n",
    "\n",
    "        lm = LinearRegression()\n",
    "        lm.fit(X_, y_)\n",
    "\n",
    "        score = lm.score(X_,y_)\n",
    "        explained_variance[node] = score\n",
    "\n",
    "    return explained_variance"
   ]
  },
  {
   "cell_type": "code",
   "execution_count": null,
   "id": "8e9e6dce-85fc-4856-b822-e5143f26f8c7",
   "metadata": {},
   "outputs": [],
   "source": [
    "def calculate_nodes_predictability_train(X, G):\n",
    "    explained_variance = dict()\n",
    "        \n",
    "    for node in G.nodes():\n",
    "        y_ = X[[node]]\n",
    "\n",
    "        neighbors = list(G.neighbors(node))\n",
    "\n",
    "        X_ = X.loc[:, neighbors]\n",
    "\n",
    "        lm = LinearRegression()\n",
    "        lm.fit(X_, y_)\n",
    "\n",
    "        score = lm.score(X_,y_)\n",
    "        explained_variance[node] = score\n",
    "\n",
    "    return explained_variance"
   ]
  },
  {
   "cell_type": "code",
   "execution_count": null,
   "id": "037ff255-969b-41a8-8942-a8371e61f839",
   "metadata": {},
   "outputs": [],
   "source": [
    "def current_flow_closeness_centrality(G, weight):\n",
    "    G_ = copy.deepcopy(G.copy())\n",
    "    for u, v, data in G_.edges(data=True):\n",
    "        data['weight'] = abs(data['weight'])\n",
    "        \n",
    "    measure = nx.current_flow_closeness_centrality(G_, weight=weight)\n",
    "    return measure"
   ]
  },
  {
   "cell_type": "markdown",
   "id": "d0628906-0f83-4314-9e54-44b29d0ae970",
   "metadata": {},
   "source": [
    "### Perform network analysis"
   ]
  },
  {
   "cell_type": "code",
   "execution_count": null,
   "id": "ad367472-53ce-447d-bc2c-7dd2b4ba8f0f",
   "metadata": {},
   "outputs": [],
   "source": [
    "network_analysis_results_df = pd.DataFrame()\n",
    "\n",
    "for i in range(0,len(graphs)):\n",
    "    G = copy.deepcopy(graphs[i])\n",
    "    dataset_train = datasets_train[i]\n",
    "    dataset_test = datasets_test[i]\n",
    "\n",
    "    measures = [\n",
    "            (calculate_nodes_predictability, {'X': dataset_test}), \n",
    "            (calculate_nodes_predictability_train, {'X': dataset_train}), \n",
    "            (nx.degree_centrality, {}),\n",
    "            (nx.closeness_centrality, {}),\n",
    "            (current_flow_closeness_centrality, {'weight': 'weight'}),\n",
    "            (nx.betweenness_centrality, {'weight': 'weight'}),\n",
    "            (nx.current_flow_betweenness_centrality, {'weight': 'weight'}),\n",
    "            (nx.load_centrality, {})\n",
    "    ]\n",
    "    \n",
    "    for measure, measure_parameters in measures:\n",
    "        G = copy.deepcopy(graphs[i])\n",
    "        network_measure = measure(G = G, **measure_parameters)\n",
    "        network_measure = {k: v for k, v in sorted(network_measure.items(), key=lambda item: item[0], reverse=True)}\n",
    "        network_measure_nodes = network_measure.keys()\n",
    "        network_measure_values = network_measure.values()\n",
    "        network_measure_df = pd.DataFrame({\n",
    "            'node': network_measure_nodes,\n",
    "            'value' : network_measure_values,\n",
    "            'graph' : [i] * len(network_measure_nodes),\n",
    "            'measure' : [measure.__name__] * len(network_measure_nodes),\n",
    "        })\n",
    "        network_analysis_results_df = pd.concat([network_analysis_results_df, network_measure_df], ignore_index = True)"
   ]
  },
  {
   "cell_type": "code",
   "execution_count": null,
   "id": "2ff9b10f-214b-46e9-8709-320bbdd29606",
   "metadata": {},
   "outputs": [],
   "source": [
    "# with pd.option_context('display.max_colwidth', None, 'display.max_columns', None,  'display.max_rows', None,):\n",
    "#     display(network_analysis_results_df.groupby(['graph', 'measure']).apply(lambda a: a.drop(['graph', 'measure'], axis=1)[:]))"
   ]
  },
  {
   "cell_type": "markdown",
   "id": "8071b93e-a147-442e-9ebe-23c25b261136",
   "metadata": {},
   "source": [
    "Save the results"
   ]
  },
  {
   "cell_type": "code",
   "execution_count": null,
   "id": "bc693690-0a6f-4ef3-8812-af6f9c334703",
   "metadata": {},
   "outputs": [],
   "source": [
    "network_analysis_results_df.to_pickle('../new_results/network_analysis/base_estimates/network_analysis_results_with_diff_graphs.pkl')\n",
    "network_analysis_results_df.to_csv('../new_results/network_analysis/base_estimates/network_analysis_results_with_diff_graphs.csv')"
   ]
  },
  {
   "cell_type": "markdown",
   "id": "57f826b6-4418-47a2-bfac-f40788a8b1cd",
   "metadata": {},
   "source": [
    "Save the results in pleasant form"
   ]
  },
  {
   "cell_type": "code",
   "execution_count": null,
   "id": "df994533-210f-4ee7-9d5e-774f3ee322a6",
   "metadata": {},
   "outputs": [],
   "source": [
    "network_analysis_results_df = pd.read_pickle('../new_results/network_analysis/base_estimates/network_analysis_results_with_diff_graphs.pkl')\n",
    "network_analysis_results_df.head()"
   ]
  },
  {
   "cell_type": "code",
   "execution_count": null,
   "id": "eae952fc-4cd5-4ba4-abb2-793c9eede473",
   "metadata": {},
   "outputs": [],
   "source": [
    "df = network_analysis_results_df.copy()\n",
    "df = df[df['measure'].isin(['calculate_nodes_predictability', 'calculate_nodes_predictability_train', 'degree_centrality', 'current_flow_closeness_centrality'])]\n",
    "\n",
    "df['node'] = df['node'].replace(mapping)\n",
    "df = df.sort_values(by=['node'], key=lambda x: x.map(mapping_order))\n",
    "df = df.pivot_table(index='node', columns=['graph', 'measure'])\n",
    "df = df.sort_values(by=['node'], key=lambda x: x.map(mapping_order))\n",
    "\n",
    "# reorder and rename network measures\n",
    "net_colums_names_mapper = {\n",
    "    'calculate_nodes_predictability' : 'P',\n",
    "    'calculate_nodes_predictability_train' : 'P-W',\n",
    "    'current_flow_closeness_centrality': 'C-F-C-C',\n",
    "    'degree_centrality' : 'D-C',    \n",
    "}\n",
    "\n",
    "df = df.rename(columns=net_colums_names_mapper)\n",
    "\n",
    "net_colums_names_order = ['P', 'P-W', 'D-C','C-F-C-C']\n",
    "new_cols = df.columns.reindex(net_colums_names_order, level=2)\n",
    "\n",
    "df = df.reindex(columns=new_cols[0])\n",
    "\n",
    "with pd.option_context(\n",
    "    'display.max_colwidth', None, \n",
    "    'display.max_columns', None,  \n",
    "    'display.max_rows', None, \n",
    "    'display.float_format', '{:.3f}'.format):\n",
    "    display(df)\n",
    "    \n",
    "df.to_csv('../new_results/network_analysis/base_estimates/network_analysis_results_with_diff_graphs_easy_view.csv')"
   ]
  },
  {
   "cell_type": "markdown",
   "id": "3d86653d-27a0-4908-b820-0428c961d54c",
   "metadata": {},
   "source": [
    "### Visualize the results"
   ]
  },
  {
   "cell_type": "code",
   "execution_count": null,
   "id": "cad0174a-a82c-4a4d-821d-2a1f068b9d8b",
   "metadata": {},
   "outputs": [],
   "source": [
    "cm = 1/2.54\n",
    "dpi = 500\n",
    "\n",
    "sns.set_style(\"whitegrid\")\n",
    "\n",
    "plt.rcParams['figure.dpi'] = dpi\n",
    "plt.rcParams['ytick.labelsize'] = 6\n",
    "plt.rcParams['xtick.labelsize'] = 6\n",
    "plt.rcParams['axes.labelsize'] = 6\n",
    "plt.rcParams['axes.titlesize'] = 6\n",
    "plt.rcParams[\"axes.edgecolor\"] = \".15\"\n",
    "plt.rcParams[\"axes.linewidth\"]  = 0.6\n",
    "plt.rcParams['lines.linewidth'] = 0.6\n",
    "\n",
    "for i in range(0,6):\n",
    "    plt.figure(i)\n",
    "\n",
    "    df = network_analysis_results_df.copy()\n",
    "    df = df[df['measure'].isin(['calculate_nodes_predictability', 'degree_centrality', 'current_flow_closeness_centrality'])]\n",
    "    df.node = df.node.astype(str)\n",
    "    df_ = df[df['graph'] == i]\n",
    "\n",
    "    df_['node'] = df_['node'].replace(mapping)\n",
    "    df_ = df_.sort_values(by=['node'], key=lambda x: x.map(mapping_order))\n",
    "\n",
    "    \n",
    "    g = sns.FacetGrid(\n",
    "        df_, \n",
    "        col='measure',\n",
    "        col_order=['calculate_nodes_predictability', 'degree_centrality', 'current_flow_closeness_centrality'],\n",
    "        sharex=False,\n",
    "        height=8*cm,\n",
    "        aspect=0.3,\n",
    "        despine=False,\n",
    "        gridspec_kws={\"wspace\":0.2}\n",
    "    )\n",
    "\n",
    "    g.map(\n",
    "        sns.pointplot, \n",
    "        'value',\n",
    "        'node',\n",
    "        errorbar=None,\n",
    "        color='black',\n",
    "    )\n",
    "\n",
    "    axes = g.axes.flatten()\n",
    "    axes[0].set_title(\"Predictability\")\n",
    "    axes[1].set_title(\"D-Centrality\")\n",
    "    axes[2].set_title(\"C-F Closeness\")\n",
    "    \n",
    "    g.set_axis_labels(x_var=\"\")\n",
    "\n",
    "    fig = g.fig\n",
    "    fig.savefig(f'../new_results/network_analysis/base_estimates/network_analysis_dpi_{dpi}_graph_{i}_abs.png', bbox_inches='tight')\n",
    "    \n",
    "plt.show()"
   ]
  },
  {
   "cell_type": "markdown",
   "id": "df615707-2725-4a02-80df-017fc920a34d",
   "metadata": {},
   "source": [
    "## MST"
   ]
  },
  {
   "cell_type": "code",
   "execution_count": null,
   "id": "ca87da94-7b3d-4c82-9a43-0a1618f475ae",
   "metadata": {},
   "outputs": [],
   "source": [
    "def maximum_spanning_tree(G, edges_to_drop = None):\n",
    "    G_ = G.copy()\n",
    "    if edges_to_drop is not None:\n",
    "        for k,v in edges_to_drop:\n",
    "            if G_.has_edge(k, v):\n",
    "                G_.remove_edge(k, v)\n",
    "            else:\n",
    "                print(f\"The edge ({k}, {v}) does not exist in the graph.\")\n",
    "    # abs of weights\n",
    "    # for u, v, data in G_.edges(data=True):\n",
    "    #     data['weight'] = abs(data['weight'])\n",
    "    \n",
    "    tree_ = nx.maximum_spanning_tree(G_, 'prim')\n",
    "    \n",
    "    return (G_, tree_)  "
   ]
  },
  {
   "cell_type": "code",
   "execution_count": null,
   "id": "72b74cba-0b76-441a-97d9-95508c1b358e",
   "metadata": {},
   "outputs": [],
   "source": [
    "ern_cov_graph = graphs[1]\n",
    "ern_crv_cov_graph = graphs[5]"
   ]
  },
  {
   "cell_type": "code",
   "execution_count": null,
   "id": "640dd612-e539-4909-93d5-b6d4f06282f1",
   "metadata": {},
   "outputs": [],
   "source": [
    "G_ = ern_crv_cov_graph\n",
    "G_, T_ = maximum_spanning_tree(G_)"
   ]
  },
  {
   "cell_type": "code",
   "execution_count": null,
   "id": "8083c654-562e-469c-9fe5-7322efb6e751",
   "metadata": {},
   "outputs": [],
   "source": [
    "T_.edges()"
   ]
  },
  {
   "cell_type": "code",
   "execution_count": null,
   "id": "037909d3-9e8a-4536-ac11-3201c7664845",
   "metadata": {},
   "outputs": [],
   "source": [
    "cm = 1/2.54\n",
    "dpi = 500\n",
    "\n",
    "plt.rcParams['figure.dpi'] = dpi\n",
    "plt.rcParams[\"font.family\"] = \"Times New Roman\"\n",
    "plt.rcParams['ytick.labelsize'] = 7\n",
    "plt.rcParams['xtick.labelsize'] = 7\n",
    "plt.rcParams['axes.labelsize'] = 9\n",
    "plt.rcParams[\"axes.edgecolor\"] = \".15\"\n",
    "plt.rcParams[\"axes.linewidth\"]  = 0.5\n",
    "sns.set_style(\"white\")\n",
    "palette = sns.color_palette(\"colorblind\")\n",
    "\n",
    "fig = plt.figure(3, figsize=(10*cm, 10*cm))\n",
    "axes = fig.add_axes([0,0,1,1], aspect=1)\n",
    "axes.set_xlim([-1,1.3])\n",
    "axes.set_ylim([-1.2,1.2])\n",
    "\n",
    "    \n",
    "\n",
    "# Find the maximum spanning tree\n",
    "# T = nx.maximum_spanning_tree(G_)\n",
    "\n",
    "# Visualize the graph and the minimum spanning tree\n",
    "pos = nx.spring_layout(G_, scale=1, seed=1)\n",
    "nx.draw_networkx_nodes(G_, pos, node_color=\"lightblue\", node_size=50)\n",
    "# nx.draw_networkx_edges(G_, pos, edge_color=\"grey\")\n",
    "nx.draw_networkx_labels(G_, pos, font_size=5, font_family=\"sans-serif\")\n",
    "nx.draw_networkx_edge_labels(\n",
    "    G_, pos, edge_labels={(u, v): d[\"weight\"] for u, v, d in G_.edges(data=True)}\n",
    ")\n",
    "nx.draw_networkx_edges(T_, pos, edge_color=\"green\", width=1)\n",
    "plt.axis(\"off\")\n",
    "plt.show()"
   ]
  },
  {
   "cell_type": "code",
   "execution_count": null,
   "id": "a02dff1e-88f0-4a89-8deb-334a85508a71",
   "metadata": {},
   "outputs": [],
   "source": [
    "dir_graphs = '../new_results/graphs'\n",
    "nx.write_gml(T_, os.path.join(dir_graphs, 'ern_crn_mst_weights.gml'))"
   ]
  },
  {
   "cell_type": "code",
   "execution_count": null,
   "id": "a479e03c-0ea9-4148-b004-7dad8f48dd4b",
   "metadata": {},
   "outputs": [],
   "source": [
    "for u, v, d in T_.edges(data=True):\n",
    "    print(f'{(u, v)}, {d[\"weight\"]}') "
   ]
  },
  {
   "cell_type": "code",
   "execution_count": null,
   "id": "4622205f-d3cf-4f8f-98cf-90d7d49822b3",
   "metadata": {},
   "outputs": [],
   "source": []
  },
  {
   "cell_type": "code",
   "execution_count": null,
   "id": "edf456e3-02b8-47e0-8880-6ddca398853c",
   "metadata": {},
   "outputs": [],
   "source": [
    "def dijkstra_shortest_path(G, source, edges_to_drop = None):\n",
    "    G_ = G.copy()\n",
    "    if edges_to_drop is not None:\n",
    "        for k,v in edges_to_drop:\n",
    "            if G_.has_edge(k, v):\n",
    "                G_.remove_edge(k, v)\n",
    "            else:\n",
    "                print(f\"The edge ({k}, {v}) does not exist in the graph.\")\n",
    "    # abs of weights\n",
    "    for u, v, data in G_.edges(data=True):\n",
    "        data['weight'] = abs(data['weight'])\n",
    "    \n",
    "    # reverse of weights to make the highest weight the best\n",
    "    for u, v, data in G_.edges(data=True):\n",
    "        data['weight'] = 1/data['weight']\n",
    "    \n",
    "    path_ = nx.single_source_dijkstra_path(G_, source)\n",
    "    \n",
    "    return path_  "
   ]
  },
  {
   "cell_type": "code",
   "execution_count": null,
   "id": "5f5a2cbb-630b-4fdd-83e6-f8d15a2c5c4a",
   "metadata": {},
   "outputs": [],
   "source": [
    "def simple_shortest_path(G, source, edges_to_drop = None):\n",
    "    G_ = G.copy()\n",
    "    if edges_to_drop is not None:\n",
    "        for k,v in edges_to_drop:\n",
    "            if G_.has_edge(k, v):\n",
    "                G_.remove_edge(k, v)\n",
    "            else:\n",
    "                print(f\"The edge ({k}, {v}) does not exist in the graph.\")\n",
    "    \n",
    "    path_ = nx.single_source_shortest_path(G_, source)\n",
    "    \n",
    "    return path_  "
   ]
  },
  {
   "cell_type": "markdown",
   "id": "9d93f636-92f6-45d5-87b8-56e19a70b6c9",
   "metadata": {},
   "source": [
    "**ERN**"
   ]
  },
  {
   "cell_type": "code",
   "execution_count": null,
   "id": "27936c8b-e73d-4124-8b23-6166e4307212",
   "metadata": {},
   "outputs": [],
   "source": [
    "ern_cov_graph = graphs[2]\n",
    "ern_crv_cov_graph = graphs[5]"
   ]
  },
  {
   "cell_type": "code",
   "execution_count": null,
   "id": "c8d46ee6-5e13-498f-9eef-1610da3b1ce3",
   "metadata": {},
   "outputs": [],
   "source": [
    "ern_cov_graph.nodes()"
   ]
  },
  {
   "cell_type": "code",
   "execution_count": null,
   "id": "9954062f-778d-4e4d-a356-92e881c5e49d",
   "metadata": {},
   "outputs": [],
   "source": [
    "for u, v, d in ern_crv_cov_graph.edges(data=True):\n",
    "    print(f'{(u, v)}, {d[\"weight\"]}') "
   ]
  },
  {
   "cell_type": "markdown",
   "id": "a3812c41-f1bd-4067-80ed-7ae49c10b0ef",
   "metadata": {},
   "source": [
    "- weighed"
   ]
  },
  {
   "cell_type": "code",
   "execution_count": null,
   "id": "c677144d-ba53-40a0-85e0-e09e1a0d4c45",
   "metadata": {},
   "outputs": [],
   "source": [
    "G_ = ern_cov_graph\n",
    "path = dijkstra_shortest_path(G_, 'PER')\n",
    "path"
   ]
  },
  {
   "cell_type": "code",
   "execution_count": null,
   "id": "3bdc3bc3-60c4-41c9-b0c1-f66f887154c5",
   "metadata": {},
   "outputs": [],
   "source": [
    "G_ = ern_crv_cov_graph\n",
    "path = dijkstra_shortest_path(G_, 'PER')\n",
    "path"
   ]
  },
  {
   "cell_type": "markdown",
   "id": "fa37624c-2278-40df-975c-fe97f384bddb",
   "metadata": {},
   "source": [
    "- non weighed"
   ]
  },
  {
   "cell_type": "code",
   "execution_count": null,
   "id": "e3880e24-ea0f-43c6-9814-bf66cdba989d",
   "metadata": {},
   "outputs": [],
   "source": [
    "path = simple_shortest_path(G_, 'ANX')\n",
    "path"
   ]
  },
  {
   "cell_type": "code",
   "execution_count": null,
   "id": "2e13243a-9336-4d7f-990d-e6218b30955b",
   "metadata": {},
   "outputs": [],
   "source": []
  },
  {
   "cell_type": "code",
   "execution_count": null,
   "id": "457ce31a-fb45-4ea4-b19b-076d115a7813",
   "metadata": {},
   "outputs": [],
   "source": []
  }
 ],
 "metadata": {
  "kernelspec": {
   "display_name": "net",
   "language": "python",
   "name": "net"
  },
  "language_info": {
   "codemirror_mode": {
    "name": "ipython",
    "version": 3
   },
   "file_extension": ".py",
   "mimetype": "text/x-python",
   "name": "python",
   "nbconvert_exporter": "python",
   "pygments_lexer": "ipython3",
   "version": "3.8.10"
  }
 },
 "nbformat": 4,
 "nbformat_minor": 5
}
