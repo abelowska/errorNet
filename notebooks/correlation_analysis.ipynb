{
 "cells": [
  {
   "cell_type": "markdown",
   "id": "327cb999-c1c8-409b-898b-059dceb574a0",
   "metadata": {},
   "source": [
    "# Correlation analysis"
   ]
  },
  {
   "cell_type": "code",
   "execution_count": null,
   "id": "2af9700a-54b4-4f13-b7af-c7a3ce952077",
   "metadata": {},
   "outputs": [],
   "source": [
    "import pickle\n",
    "import scipy\n",
    "import numpy as np\n",
    "import pandas as pd\n",
    "import seaborn as sns\n",
    "import matplotlib.pyplot as plt\n",
    "\n",
    "from scipy.stats import pearsonr\n",
    "from scipy.stats import ttest_ind\n",
    "from scipy.stats import ttest_rel\n",
    "\n",
    "import warnings\n",
    "warnings.filterwarnings(\"ignore\")\n",
    "\n",
    "import sys"
   ]
  },
  {
   "cell_type": "markdown",
   "id": "d2d0bcc3-87d4-4f28-934b-c61a94be1372",
   "metadata": {
    "tags": []
   },
   "source": [
    "## Load data"
   ]
  },
  {
   "cell_type": "code",
   "execution_count": null,
   "id": "692ec886-5894-4e06-a2c5-68f0465fac53",
   "metadata": {},
   "outputs": [],
   "source": [
    "dataset = 'train'\n",
    "test = False if dataset == 'train' else False"
   ]
  },
  {
   "cell_type": "markdown",
   "id": "7ce43f5e-eadb-4c7f-83f8-ac5f9b8de01f",
   "metadata": {},
   "source": [
    "Loading training data"
   ]
  },
  {
   "cell_type": "code",
   "execution_count": null,
   "id": "03c24eba-3155-4ba4-8d8e-8a2b8fe99626",
   "metadata": {},
   "outputs": [],
   "source": [
    "results_ern_crn_lat_demo_df = pd.read_pickle(f\"../data/models_pickles_new_dass/ern_crn_cov_fal_models_{dataset}_id_clean.pkl\")"
   ]
  },
  {
   "cell_type": "markdown",
   "id": "edc3f379-51ae-4293-a3de-6b6f9445f2fd",
   "metadata": {},
   "source": [
    "Loading testing data"
   ]
  },
  {
   "cell_type": "code",
   "execution_count": null,
   "id": "170f44e6-6f75-47b6-9340-69527ad26aad",
   "metadata": {},
   "outputs": [],
   "source": [
    "results_ern_crn_lat_demo_df_test = pd.read_pickle(f\"../data/models_pickles_new_dass/ern_crn_cov_fal_models_test_id_clean.pkl\")"
   ]
  },
  {
   "cell_type": "markdown",
   "id": "4c4bb4a7-3df8-4fa6-8a5f-0b56a816fa14",
   "metadata": {},
   "source": [
    "Drop unnecessery columns"
   ]
  },
  {
   "cell_type": "code",
   "execution_count": null,
   "id": "0935dc35-cca4-4b0f-b3aa-63e731cc6f8c",
   "metadata": {},
   "outputs": [],
   "source": [
    "datasets = [results_ern_crn_lat_demo_df, results_ern_crn_lat_demo_df_test]"
   ]
  },
  {
   "cell_type": "code",
   "execution_count": null,
   "id": "2523069f-1916-4442-93d6-5278edbc943b",
   "metadata": {},
   "outputs": [],
   "source": [
    "datasets = [dataset.drop(columns=['Sex', 'id'])for dataset in datasets]"
   ]
  },
  {
   "cell_type": "markdown",
   "id": "0192a6e4-05bf-45ea-9b8b-a4bb519fbb53",
   "metadata": {},
   "source": [
    "## Create correlation tables"
   ]
  },
  {
   "cell_type": "code",
   "execution_count": null,
   "id": "b2a48dab-f437-4549-8ef3-d742f252aea3",
   "metadata": {},
   "outputs": [],
   "source": [
    "control_mapping = {\n",
    "    \"RRQ\": \"RRQ\",\n",
    "    \"DASS-21 Stress\": \"STR\",\n",
    "    \"DASS-21 Dep\": \"DEP\",\n",
    "    \"STAI-T\": \"ANX\",\n",
    "    \"STAI-S Diff\": 'AFL',\n",
    "    \"BIS\": \"BIS\",\n",
    "    \"OBSESS\": \"OBS\",\n",
    "    \"HOARD\": \"HRD\",\n",
    "    \"ORD\": \"ORD\",\n",
    "    \"CHECK\": \"CHK\",\n",
    "    \"WBSI\": \"TSU\",\n",
    "    \"IUS-P\": \"PIU\",\n",
    "    \"IUS-I\": \"IIU\",\n",
    "    \"SES\": \"SES\",\n",
    "    'BAS_D': \"DRV\",\n",
    "    'BAS_PRZY': \"FUN\",\n",
    "    'BAS_NAG': \"RER\",\n",
    "    'INDEC_F': \"IND\",\n",
    "    'PUN': \"PUN\",\n",
    "    'REW': \"REW\",\n",
    "    'HARM': \"HRM\",\n",
    "    'T-CTR': \"TCR\",\n",
    "    \"OT\": \"THR\",\n",
    "    'OB_PERF': \"PER\",\n",
    "    'PS': \"STN\",\n",
    "    'G_SE': \"GLT\",\n",
    "    'AMB': \"AMB\",\n",
    "    'PRED': \"NPR\",\n",
    "    'STAND': \"STD\",   \n",
    "    \"Age\": \"AGE\",\n",
    "    \"Handness\": \"HND\",\n",
    "    'e_ERN': \"ERN\",\n",
    "    'e_LT_F': \"LT-E\",\n",
    "    'performance': \"PRF\",\n",
    "    'e_CRN': \"CRN\",\n",
    "    'e_LT_F2_C': \"LT-C\",\n",
    "    'performance': \"PRF\",\n",
    "    'Sex': 'SEX'\n",
    "}"
   ]
  },
  {
   "cell_type": "code",
   "execution_count": null,
   "id": "0fa8338e-7976-4dbc-9cb8-a358c5a74655",
   "metadata": {},
   "outputs": [],
   "source": [
    "def corr_with_p(df, mapping):\n",
    "    df = df.rename(columns=mapping)\n",
    "    rho = df.corr()\n",
    "    pval = df.corr(method=lambda x, y: pearsonr(x, y)[1]) - np.eye(*rho.shape)\n",
    "    p = pval.applymap(lambda x: ''.join(['*' for t in [0.01,0.05,0.1] if x<=t]))\n",
    "    return rho.round(2).astype(str) + p, rho"
   ]
  },
  {
   "cell_type": "code",
   "execution_count": null,
   "id": "ae93e235-eda7-42db-af11-e531c8159c8c",
   "metadata": {},
   "outputs": [],
   "source": [
    "corr_p_tables = []\n",
    "\n",
    "for index, this_dataset in enumerate(datasets):\n",
    "    print(index)\n",
    "    corr_p, corr = corr_with_p(this_dataset, control_mapping)\n",
    "    corr_p.to_csv(f'../new_results/correlation_matrixes/correlation_matrix_{index}.csv')\n",
    "    display(corr_p)"
   ]
  },
  {
   "cell_type": "markdown",
   "id": "29493015-0dfc-4eee-9554-9c43e0bca1ae",
   "metadata": {},
   "source": [
    "### Plot results"
   ]
  },
  {
   "cell_type": "code",
   "execution_count": null,
   "id": "4572d29e-0350-4ecd-8944-ae6936eb6704",
   "metadata": {},
   "outputs": [],
   "source": [
    "df = datasets[0].rename(columns=control_mapping)"
   ]
  },
  {
   "cell_type": "code",
   "execution_count": null,
   "id": "27c843b8-e450-44d7-b42d-84fc38a394b0",
   "metadata": {},
   "outputs": [],
   "source": [
    "cm = 1/2.54\n",
    "dpi = 500\n",
    "\n",
    "sns.set_style(\"white\")\n",
    "plt.rcParams['figure.dpi'] = dpi\n",
    "plt.rcParams['figure.figsize'] = [15*cm,15*cm]\n",
    "plt.rcParams[\"font.size\"] = 4\n",
    "\n",
    "from scipy.stats import pearsonr\n",
    "from scipy.stats import spearmanr\n",
    "from scipy.stats import kendalltau\n",
    "import textwrap\n",
    "# Generate the correlation matrix afresh\n",
    "corr = df.corr(numeric_only=True)\n",
    "\n",
    "# mask the correlation matrix to diagonal\n",
    "mask = np.zeros_like(corr, dtype=bool)\n",
    "mask[np.triu_indices_from(mask)] = True\n",
    "np.fill_diagonal(mask, False)\n",
    "\n",
    "fix,ax = plt.subplots(figsize=(15*cm,15*cm))\n",
    "\n",
    "# Generate heatmap\n",
    "heatmap = sns.heatmap(corr,\n",
    "                      annot= True,\n",
    "                      annot_kws={\"fontsize\": 3.5},\n",
    "                      fmt='.2f',\n",
    "                      linewidths=0.5,\n",
    "                      cmap='RdBu',\n",
    "                      cbar=False,\n",
    "                      mask=mask,\n",
    "                      ax=ax)\n",
    "\n",
    "# calculate and format p-values\n",
    "p_values = np.full((corr.shape[0], corr.shape[1]), np.nan)\n",
    "for i in range(corr.shape[0]):\n",
    "  for j in range(i+1, corr.shape[1]):\n",
    "    x = df.iloc[:, i]\n",
    "    y = df.iloc[:, j]\n",
    "    mask = ~np.logical_or(np.isnan(x), np.isnan(y))\n",
    "    if np.sum(mask) > 0:\n",
    "      p_values[i, j] = kendalltau(x[mask], y[mask])[1] #change to pearsonr or spearmanr\n",
    "\n",
    "# Create a dataframe object for p_values\n",
    "p_values = pd.DataFrame(p_values, columns=corr.columns, index=corr.index)\n",
    "\n",
    "# Mask the p values\n",
    "mask_pvalues = np.triu(np.ones_like(p_values), k=1)\n",
    "\n",
    "# Generate maximum and minimum correlation coefficients for p-value annotation color\n",
    "max_corr = np.max(corr.max())\n",
    "min_corr = np.min(corr.min())\n",
    "\n",
    "# Assign p-value annotations, include asterisks for significance\n",
    "for i in range (p_values.shape[0]):\n",
    "  for j in range(p_values.shape[1]):\n",
    "    if mask_pvalues[i, j]:\n",
    "      p_value = p_values.iloc[i, j]\n",
    "      if not np.isnan(p_value):\n",
    "        correlation_value = corr.iloc[i, j]\n",
    "        text_color = 'white' if correlation_value >= (max_corr - 0.4) or correlation_value <= (min_corr + 0.4) else 'black'\n",
    "        if p_value <= 0.01:\n",
    "            #include double asterisks for p-value <= 0.01\n",
    "            ax.text(i + 0.5, j + 0.8, f'[{p_value:.2f}]',\n",
    "                    horizontalalignment='center',\n",
    "                    verticalalignment='center',\n",
    "                    fontsize=3,\n",
    "                    color=text_color)\n",
    "        elif p_value <= 0.05:\n",
    "            #include single asterisk for p-value <= 0.05\n",
    "            ax.text(i + 0.5, j + 0.8, f'[{p_value:.2f}]',\n",
    "                    horizontalalignment='center',\n",
    "                    verticalalignment='center',\n",
    "                    fontsize=3,\n",
    "                    color=text_color)\n",
    "        else:\n",
    "            ax.text(i + 0.5, j + 0.8, f'[{p_value:.2f}]',\n",
    "                    horizontalalignment='center',\n",
    "                    verticalalignment='center',\n",
    "                    fontsize=3,\n",
    "                    color=text_color)\n",
    "\n",
    "# Customize x-axis labels\n",
    "x_labels = [textwrap.fill(label.get_text(), 4) for label in ax.get_xticklabels()]\n",
    "ax.set_xticklabels(x_labels, rotation=90, ha=\"center\")\n",
    "\n",
    "# Customize y-axis labels\n",
    "y_labels = [textwrap.fill(label.get_text(), 4) for label in ax.get_yticklabels()]\n",
    "ax.set_yticklabels(y_labels, rotation=0, ha=\"right\")\n",
    "\n",
    "# Display the plot\n",
    "plt.show()\n",
    "fix.savefig(f\"../new_results/correlation_matrixes/correlation_matrix_train.png\",  bbox_inches='tight')"
   ]
  },
  {
   "cell_type": "code",
   "execution_count": null,
   "id": "c4a0f622-b633-4006-977d-0a2ee673dd21",
   "metadata": {},
   "outputs": [],
   "source": []
  }
 ],
 "metadata": {
  "kernelspec": {
   "display_name": "net",
   "language": "python",
   "name": "net"
  },
  "language_info": {
   "codemirror_mode": {
    "name": "ipython",
    "version": 3
   },
   "file_extension": ".py",
   "mimetype": "text/x-python",
   "name": "python",
   "nbconvert_exporter": "python",
   "pygments_lexer": "ipython3",
   "version": "3.8.10"
  }
 },
 "nbformat": 4,
 "nbformat_minor": 5
}
